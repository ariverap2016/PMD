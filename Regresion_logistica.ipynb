{
 "cells": [
  {
   "cell_type": "code",
   "execution_count": 15,
   "metadata": {},
   "outputs": [],
   "source": [
    "import pandas as pd\n",
    "import matplotlib.pyplot as plt\n",
    "#import graphviz \n",
    "import numpy as np\n",
    "from scipy import stats \n",
    "from sklearn.model_selection import train_test_split\n",
    "from sklearn.metrics import confusion_matrix\n",
    "import tensorflow as tf\n",
    "from sklearn import preprocessing\n",
    "import warnings\n",
    "warnings.filterwarnings('ignore')"
   ]
  },
  {
   "cell_type": "markdown",
   "metadata": {},
   "source": [
    "# Preprocesado"
   ]
  },
  {
   "cell_type": "code",
   "execution_count": 2,
   "metadata": {},
   "outputs": [],
   "source": [
    "#Cargamos las bases de datos\n",
    "\n",
    "db_displasia = pd.read_excel('SMD.xls')\n",
    "db_hepatopata = pd.read_excel('Hepatopata.xls')\n",
    "db_oncologicos = pd.read_excel('Oncologicos.xls')\n",
    "db_PTI = pd.read_excel('PTI.xls')"
   ]
  },
  {
   "cell_type": "code",
   "execution_count": 3,
   "metadata": {},
   "outputs": [],
   "source": [
    "#Reduccion de dimensionalidad (Preprocesamiento y limpieza de datos)\n",
    "db_smd = db_displasia.drop(['PLTI','PLTF','PLTO','MNEU','MLIN','MMON','MBAS','MEOS','MCAS','MMET','MMIE','MPRO','CPLAS','MBLS','MERI','FRSP','COMHE','AVSBL','AVSPL','AVSRJ','AVNRB','ESSYS','WBC-P','IPFA','IPF','HIPF','VPM','RDW','NEUp','LINp','MONp','EOSp','BASp','IGp','ERBLp','RET','RETp','FRI','RETHE','HIPER','HYPO','MACR','MICRO','FRAGM','RBCO','MCHCO','BA-D%','BA-N%','D-HE','FRCA','IRF-Y','LIN_p','NEU_p','RBCHE','RBC-Y','RTNC','RUPP','RET-Y','RPI','TNC-D','TNC-P'],axis=1)\n",
    "\n",
    "#Añadimos una nueva variable que identifique la patologia\n",
    "db_smd['Diagnosis']=np.zeros((417,1),dtype=np.int8)\n",
    "\n",
    "db_hpt = db_hepatopata.drop(['WBC-P','IPFA','IPF','HIPF','VPM','RDW','NEUp','LINp','MONp','EOSp','BASp','IGp','ERBLp','RET','RETp','FRI','RETHE','HIPER','HYPO','MACR','MICRO','FRAGM','RBCO','MCHCO','BA-D%','BA-N%','D-HE','FRCA','IRF-Y','LIN_p','NEU_p','RBCHE','RBC-Y','RTNC','RUPP','RET-Y','RPI','TNC-D','TNC-P'],axis=1)\n",
    "\n",
    "#Añadimos una variable que identifique el diagnostico\n",
    "db_hpt['Diagnosis']=np.ones((342,1),dtype=np.int8)\n",
    "\n",
    "db_onc = db_oncologicos.drop(['WBC-P','IPFA','IPF','HIPF','VPM','RDW','NEUp','LINp','MONp','EOSp','BASp','IGp','ERBLp','RET','RETp','FRI','RETHE','HIPER','HYPO','MACR','MICRO','FRAGM','RBCO','MCHCO','BA-D%','BA-N%','D-HE','FRCA','IRF-Y','LIN_p','NEU_p','RBCHE','RBC-Y','RTNC','RUPP','RET-Y','RPI','TNC-D','TNC-P'],axis=1)\n",
    "\n",
    "#Añadimos una variable que identifique el diagnostico\n",
    "db_onc['Diagnosis']=np.full((303,1),2)\n",
    "\n",
    "#Reduccion de dimensionalidad (Preprocesamiento y limpieza de datos)\n",
    "db_pti = db_PTI.drop(['PLTI','PLTF','PLTO','MNEU','MLIN','MMON','MBAS','MEOS','MCAS','MMET','MMIE','MPRO','CPLAS','MBLS','MERI','FRSP','COMHE','AVSBL','AVSPL','AVSRJ','AVNRB','ESSYS','WBC-P','IPFA','IPF','HIPF','VPM','RDW','NEUp','LINp','MONp','EOSp','BASp','IGp','ERBLp','RET','RETp','FRI','RETHE','HIPER','HYPO','MACR','MICRO','FRAGM','RBCO','MCHCO','BA-D%','BA-N%','D-HE','FRCA','IRF-Y','LIN_p','NEU_p','RBCHE','RBC-Y','RTNC','RUPP','RET-Y','RPI','TNC-D','TNC-P'],axis=1)\n",
    "\n",
    "#Añadimos una variable que identifique el diagnostico\n",
    "db_pti['Diagnosis']=np.full((201,1),3)\n",
    "\n",
    "db_smd_hpt = pd.concat([db_smd,db_hpt,db_onc,db_pti])\n",
    "db_smd_hpt = db_smd_hpt.replace(np.nan ,np.mean(db_smd_hpt['PLT']))\n"
   ]
  },
  {
   "cell_type": "code",
   "execution_count": 4,
   "metadata": {},
   "outputs": [
    {
     "data": {
      "text/html": [
       "<div>\n",
       "<style scoped>\n",
       "    .dataframe tbody tr th:only-of-type {\n",
       "        vertical-align: middle;\n",
       "    }\n",
       "\n",
       "    .dataframe tbody tr th {\n",
       "        vertical-align: top;\n",
       "    }\n",
       "\n",
       "    .dataframe thead th {\n",
       "        text-align: right;\n",
       "    }\n",
       "</style>\n",
       "<table border=\"1\" class=\"dataframe\">\n",
       "  <thead>\n",
       "    <tr style=\"text-align: right;\">\n",
       "      <th></th>\n",
       "      <th>LEU</th>\n",
       "      <th>NEU</th>\n",
       "      <th>LIN</th>\n",
       "      <th>MON</th>\n",
       "      <th>EOS</th>\n",
       "      <th>BAS</th>\n",
       "      <th>IG</th>\n",
       "      <th>ERIT</th>\n",
       "      <th>HGB</th>\n",
       "      <th>HCT</th>\n",
       "      <th>...</th>\n",
       "      <th>NESFL</th>\n",
       "      <th>NESSC</th>\n",
       "      <th>NEU_a</th>\n",
       "      <th>NE-WX</th>\n",
       "      <th>NE-WY</th>\n",
       "      <th>NE-WZ</th>\n",
       "      <th>TNC-N</th>\n",
       "      <th>WBC-D</th>\n",
       "      <th>WBC-N</th>\n",
       "      <th>Diagnosis</th>\n",
       "    </tr>\n",
       "  </thead>\n",
       "  <tbody>\n",
       "    <tr>\n",
       "      <th>0</th>\n",
       "      <td>4.54</td>\n",
       "      <td>2.66</td>\n",
       "      <td>1.07</td>\n",
       "      <td>0.36</td>\n",
       "      <td>0.39</td>\n",
       "      <td>0.04</td>\n",
       "      <td>0.02</td>\n",
       "      <td>3.76</td>\n",
       "      <td>11.8</td>\n",
       "      <td>36.6</td>\n",
       "      <td>...</td>\n",
       "      <td>47.7</td>\n",
       "      <td>153.2</td>\n",
       "      <td>2.66</td>\n",
       "      <td>333</td>\n",
       "      <td>586</td>\n",
       "      <td>712</td>\n",
       "      <td>4.54</td>\n",
       "      <td>4.46</td>\n",
       "      <td>4.54</td>\n",
       "      <td>0</td>\n",
       "    </tr>\n",
       "    <tr>\n",
       "      <th>1</th>\n",
       "      <td>3.82</td>\n",
       "      <td>1.74</td>\n",
       "      <td>1.43</td>\n",
       "      <td>0.37</td>\n",
       "      <td>0.24</td>\n",
       "      <td>0.02</td>\n",
       "      <td>0.02</td>\n",
       "      <td>3.24</td>\n",
       "      <td>10.4</td>\n",
       "      <td>31.9</td>\n",
       "      <td>...</td>\n",
       "      <td>47.7</td>\n",
       "      <td>154.6</td>\n",
       "      <td>1.74</td>\n",
       "      <td>349</td>\n",
       "      <td>587</td>\n",
       "      <td>561</td>\n",
       "      <td>3.82</td>\n",
       "      <td>3.99</td>\n",
       "      <td>3.82</td>\n",
       "      <td>0</td>\n",
       "    </tr>\n",
       "    <tr>\n",
       "      <th>2</th>\n",
       "      <td>10.69</td>\n",
       "      <td>5.71</td>\n",
       "      <td>0.85</td>\n",
       "      <td>3.75</td>\n",
       "      <td>0.01</td>\n",
       "      <td>0.03</td>\n",
       "      <td>0.34</td>\n",
       "      <td>2.81</td>\n",
       "      <td>11.7</td>\n",
       "      <td>33.8</td>\n",
       "      <td>...</td>\n",
       "      <td>52.0</td>\n",
       "      <td>149.4</td>\n",
       "      <td>5.71</td>\n",
       "      <td>368</td>\n",
       "      <td>653</td>\n",
       "      <td>603</td>\n",
       "      <td>10.75</td>\n",
       "      <td>11.00</td>\n",
       "      <td>10.69</td>\n",
       "      <td>0</td>\n",
       "    </tr>\n",
       "    <tr>\n",
       "      <th>3</th>\n",
       "      <td>2.92</td>\n",
       "      <td>1.27</td>\n",
       "      <td>1.07</td>\n",
       "      <td>0.39</td>\n",
       "      <td>0.05</td>\n",
       "      <td>0.10</td>\n",
       "      <td>0.04</td>\n",
       "      <td>4.52</td>\n",
       "      <td>15.7</td>\n",
       "      <td>45.9</td>\n",
       "      <td>...</td>\n",
       "      <td>49.5</td>\n",
       "      <td>153.7</td>\n",
       "      <td>1.27</td>\n",
       "      <td>338</td>\n",
       "      <td>747</td>\n",
       "      <td>717</td>\n",
       "      <td>2.92</td>\n",
       "      <td>2.86</td>\n",
       "      <td>2.92</td>\n",
       "      <td>0</td>\n",
       "    </tr>\n",
       "    <tr>\n",
       "      <th>4</th>\n",
       "      <td>1.18</td>\n",
       "      <td>0.51</td>\n",
       "      <td>0.58</td>\n",
       "      <td>0.05</td>\n",
       "      <td>0.00</td>\n",
       "      <td>0.02</td>\n",
       "      <td>0.02</td>\n",
       "      <td>2.83</td>\n",
       "      <td>9.7</td>\n",
       "      <td>27.0</td>\n",
       "      <td>...</td>\n",
       "      <td>68.0</td>\n",
       "      <td>148.1</td>\n",
       "      <td>0.51</td>\n",
       "      <td>581</td>\n",
       "      <td>1058</td>\n",
       "      <td>804</td>\n",
       "      <td>1.19</td>\n",
       "      <td>1.09</td>\n",
       "      <td>1.18</td>\n",
       "      <td>0</td>\n",
       "    </tr>\n",
       "  </tbody>\n",
       "</table>\n",
       "<p>5 rows × 50 columns</p>\n",
       "</div>"
      ],
      "text/plain": [
       "     LEU   NEU   LIN   MON   EOS   BAS    IG  ERIT   HGB   HCT  ...  NESFL  \\\n",
       "0   4.54  2.66  1.07  0.36  0.39  0.04  0.02  3.76  11.8  36.6  ...   47.7   \n",
       "1   3.82  1.74  1.43  0.37  0.24  0.02  0.02  3.24  10.4  31.9  ...   47.7   \n",
       "2  10.69  5.71  0.85  3.75  0.01  0.03  0.34  2.81  11.7  33.8  ...   52.0   \n",
       "3   2.92  1.27  1.07  0.39  0.05  0.10  0.04  4.52  15.7  45.9  ...   49.5   \n",
       "4   1.18  0.51  0.58  0.05  0.00  0.02  0.02  2.83   9.7  27.0  ...   68.0   \n",
       "\n",
       "   NESSC  NEU_a  NE-WX  NE-WY  NE-WZ  TNC-N  WBC-D  WBC-N  Diagnosis  \n",
       "0  153.2   2.66    333    586    712   4.54   4.46   4.54          0  \n",
       "1  154.6   1.74    349    587    561   3.82   3.99   3.82          0  \n",
       "2  149.4   5.71    368    653    603  10.75  11.00  10.69          0  \n",
       "3  153.7   1.27    338    747    717   2.92   2.86   2.92          0  \n",
       "4  148.1   0.51    581   1058    804   1.19   1.09   1.18          0  \n",
       "\n",
       "[5 rows x 50 columns]"
      ]
     },
     "execution_count": 4,
     "metadata": {},
     "output_type": "execute_result"
    }
   ],
   "source": [
    "db_smd_hpt.head()"
   ]
  },
  {
   "cell_type": "code",
   "execution_count": 5,
   "metadata": {},
   "outputs": [
    {
     "data": {
      "text/plain": [
       "0    417\n",
       "1    342\n",
       "2    303\n",
       "3    201\n",
       "Name: Diagnosis, dtype: int64"
      ]
     },
     "execution_count": 5,
     "metadata": {},
     "output_type": "execute_result"
    }
   ],
   "source": [
    "db_smd_hpt['Diagnosis'].value_counts()"
   ]
  },
  {
   "cell_type": "markdown",
   "metadata": {},
   "source": [
    "# Conjuntos de Train y Test"
   ]
  },
  {
   "cell_type": "code",
   "execution_count": 6,
   "metadata": {},
   "outputs": [
    {
     "name": "stdout",
     "output_type": "stream",
     "text": [
      "(1010, 49)\n",
      "(253, 49)\n",
      "(1010, 4)\n",
      "(253, 4)\n"
     ]
    }
   ],
   "source": [
    "#Realizamos las particiones de entrenamiento y test\n",
    "\n",
    "x = db_smd_hpt.drop(['Diagnosis'],axis=1)\n",
    "y = db_smd_hpt['Diagnosis']\n",
    "y_vals = np.eye(len(set(y)))[y]\n",
    "\n",
    "x_train,x_test,y_train,y_test = train_test_split(x,y_vals, test_size=0.2)\n",
    "\n",
    "print(x_train.shape)\n",
    "print(x_test.shape)\n",
    "print(y_train.shape)\n",
    "print(y_test.shape)"
   ]
  },
  {
   "cell_type": "markdown",
   "metadata": {},
   "source": [
    "# Estandarización"
   ]
  },
  {
   "cell_type": "code",
   "execution_count": 7,
   "metadata": {},
   "outputs": [
    {
     "name": "stdout",
     "output_type": "stream",
     "text": [
      "(1010, 49)\n"
     ]
    }
   ],
   "source": [
    "scaler = preprocessing.StandardScaler().fit(x_train)\n",
    "\n",
    "x_train = scaler.transform(x_train)\n",
    "x_test = scaler.transform(x_test)\n",
    "print(x_train.shape)"
   ]
  },
  {
   "cell_type": "markdown",
   "metadata": {},
   "source": [
    "# Crear modelo"
   ]
  },
  {
   "cell_type": "code",
   "execution_count": 8,
   "metadata": {},
   "outputs": [],
   "source": [
    "x = tf.placeholder(tf.float32, [None, 49])\n",
    "y_true = tf.placeholder(tf.float32, [None, 4])\n",
    "y_true_cls = tf.placeholder(tf.int64, [None])\n",
    "w = tf.Variable(tf.zeros([49, 4]))\n",
    "b = tf.Variable(tf.zeros([4]))\n",
    "logits = tf.matmul(x, w) + b\n",
    "y_pred = tf.nn.softmax(logits)\n",
    "y_pred_cls = tf.argmax(y_pred, axis=1) #axis=dimension\n",
    "y_test_cls = np.array([label.argmax() for label in y_test])"
   ]
  },
  {
   "cell_type": "code",
   "execution_count": 9,
   "metadata": {},
   "outputs": [],
   "source": [
    "cross_entropy = tf.nn.softmax_cross_entropy_with_logits_v2(logits=logits,labels=y_true)\n",
    "#cost = tf.reduce_mean(cross_entropy)\n",
    "optimizer = tf.train.GradientDescentOptimizer(learning_rate=0.001).minimize(cross_entropy)\n",
    "correct_prediction = tf.equal(y_pred_cls, y_true_cls)\n",
    "accuracy = tf.reduce_mean(tf.cast(correct_prediction, tf.float32))\n"
   ]
  },
  {
   "cell_type": "markdown",
   "metadata": {},
   "source": [
    "# Entrenamiento"
   ]
  },
  {
   "cell_type": "code",
   "execution_count": 10,
   "metadata": {},
   "outputs": [],
   "source": [
    "session = tf.Session()\n",
    "session.run(tf.global_variables_initializer())\n",
    "def optimize(num_iterations):\n",
    "    for i in range(num_iterations):\n",
    "        \n",
    "        feed_dict_train = {x: x_train, y_true: y_train}\n",
    "\n",
    "        session.run(optimizer, feed_dict=feed_dict_train)\n"
   ]
  },
  {
   "cell_type": "markdown",
   "metadata": {},
   "source": [
    "# Test"
   ]
  },
  {
   "cell_type": "code",
   "execution_count": 13,
   "metadata": {},
   "outputs": [],
   "source": [
    "classes = ['SMD','Hepatópatas','Oncológicos','PTI']\n",
    "\n",
    "feed_dict_test = {x: x_test,\n",
    "                  y_true: y_test,\n",
    "                  y_true_cls: y_test_cls}\n",
    "\n",
    "def print_accuracy():\n",
    "    # Use TensorFlow to compute the accuracy.\n",
    "    acc = session.run(accuracy, feed_dict=feed_dict_test)\n",
    "\n",
    "    # Print the accuracy.\n",
    "    print(\"Accuracy on test-set: {0:.1%}\".format(acc))\n",
    "\n",
    "def plot_confusion_matrix(normalize=False):\n",
    "\n",
    "    # Compute confusion matrix\n",
    "    # Only use the labels that appear in the data\n",
    "    #classes = classes[unique_labels(y_true, y_pred)]\n",
    "    \n",
    "    # Get the true classifications for the test-set.\n",
    "    cls_true = y_test_cls\n",
    "\n",
    "    # Get the predicted classifications for the test-set.\n",
    "    cls_pred = session.run(y_pred_cls, feed_dict=feed_dict_test)\n",
    "\n",
    "    # Get the confusion matrix using sklearn.\n",
    "    cm = confusion_matrix(y_true=cls_true,\n",
    "                          y_pred=cls_pred)\n",
    "\n",
    "    # Print the confusion matrix as text.\n",
    "    print(cm)\n",
    "    \n",
    "    fig, ax = plt.subplots()\n",
    "    im = ax.imshow(cm, interpolation='nearest', cmap=plt.cm.Blues)\n",
    "    ax.figure.colorbar(im, ax=ax)\n",
    "    # We want to show all ticks...\n",
    "    ax.set(xticks=np.arange(cm.shape[1]),\n",
    "           yticks=np.arange(cm.shape[0]),\n",
    "           # ... and label them with the respective list entries\n",
    "           xticklabels=classes, yticklabels=classes,\n",
    "           title='Matriz de confusión',\n",
    "           ylabel='True label',\n",
    "           xlabel='Predicted label')\n",
    "\n",
    "    # Rotate the tick labels and set their alignment.\n",
    "    plt.setp(ax.get_xticklabels(), rotation=45, ha=\"right\",\n",
    "             rotation_mode=\"anchor\")\n",
    "\n",
    "    # Loop over data dimensions and create text annotations.\n",
    "    fmt = '.2f' if normalize else 'd'\n",
    "    thresh = cm.max() / 2.\n",
    "    for i in range(cm.shape[0]):\n",
    "        for j in range(cm.shape[1]):\n",
    "            ax.text(j, i, format(cm[i, j], fmt),\n",
    "                    ha=\"center\", va=\"center\",\n",
    "                    color=\"white\" if cm[i, j] > thresh else \"black\")\n",
    "    fig.tight_layout()\n",
    "    return ax\n"
   ]
  },
  {
   "cell_type": "code",
   "execution_count": 14,
   "metadata": {},
   "outputs": [
    {
     "name": "stdout",
     "output_type": "stream",
     "text": [
      "[[70  0  5  5]\n",
      " [ 7 55  9  4]\n",
      " [11  7 41  2]\n",
      " [ 1  3  7 26]]\n",
      "Accuracy on test-set: 75.9%\n"
     ]
    },
    {
     "data": {
      "image/png": "[encoded data removed]",
      "text/plain": [
       "<Figure size 432x288 with 2 Axes>"
      ]
     },
     "metadata": {
      "needs_background": "light"
     },
     "output_type": "display_data"
    }
   ],
   "source": [
    "optimize(num_iterations=1000)\n",
    "plot_confusion_matrix()\n",
    "print_accuracy()\n"
   ]
  },
  {
   "cell_type": "code",
   "execution_count": null,
   "metadata": {},
   "outputs": [],
   "source": []
  }
 ],
 "metadata": {
  "kernelspec": {
   "display_name": "Python 3",
   "language": "python",
   "name": "python3"
  },
  "language_info": {
   "codemirror_mode": {
    "name": "ipython",
    "version": 3
   },
   "file_extension": ".py",
   "mimetype": "text/x-python",
   "name": "python",
   "nbconvert_exporter": "python",
   "pygments_lexer": "ipython3",
   "version": "3.6.10"
  }
 },
 "nbformat": 4,
 "nbformat_minor": 2
}
