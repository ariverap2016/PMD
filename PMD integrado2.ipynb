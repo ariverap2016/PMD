{
 "cells": [
  {
   "cell_type": "code",
   "execution_count": 2,
   "metadata": {},
   "outputs": [],
   "source": [
    "import pandas as pd\n",
    "import matplotlib.pyplot as plt\n",
    "import sklearn as sk\n",
    "from sklearn.model_selection import train_test_split\n",
    "from sklearn.neighbors import KNeighborsClassifier\n",
    "from sklearn.model_selection import cross_val_score\n",
    "from sklearn.metrics import confusion_matrix\n",
    "from sklearn import neural_network\n",
    "from sklearn import linear_model\n",
    "from sklearn import tree\n",
    "#import graphviz \n",
    "import numpy as np\n",
    "from scipy import stats \n",
    "from sklearn import preprocessing\n",
    "from sklearn.feature_selection import SelectKBest, f_classif, RFE\n",
    "from sklearn.ensemble import ExtraTreesClassifier\n",
    "import tensorflow as tf\n",
    "import tensorflow.compat.v1 as tf\n",
    "tf.disable_v2_behavior() \n",
    "from tensorflow import keras\n",
    "from keras.models import Sequential\n",
    "from keras.layers.core import Dense"
   ]
  },
  {
   "cell_type": "markdown",
   "metadata": {},
   "source": [
    "# Etapa 1: Preprocesamiento"
   ]
  },
  {
   "cell_type": "markdown",
   "metadata": {},
   "source": [
    "## Cargamos las bases de datos (excel)\n"
   ]
  },
  {
   "cell_type": "code",
   "execution_count": 3,
   "metadata": {},
   "outputs": [],
   "source": [
    "#Cargamos las bases de datos\n",
    "\n",
    "db_displasia = pd.read_excel('SMD.xls')\n",
    "\n",
    "\n",
    "db_hepatopata = pd.read_excel('Hepatopata.xls')\n",
    "\n",
    "\n",
    "db_oncologicos = pd.read_excel('Oncologicos.xls')\n",
    "\n",
    "\n",
    "db_PTI = pd.read_excel('PTI.xls')"
   ]
  },
  {
   "cell_type": "markdown",
   "metadata": {},
   "source": [
    "## Informacion de cada una de las db\n"
   ]
  },
  {
   "cell_type": "code",
   "execution_count": 4,
   "metadata": {},
   "outputs": [
    {
     "name": "stdout",
     "output_type": "stream",
     "text": [
      "<class 'pandas.core.frame.DataFrame'>\n",
      "RangeIndex: 417 entries, 0 to 416\n",
      "Columns: 110 entries, LEU to ESSYS\n",
      "dtypes: float64(93), int64(9), object(8)\n",
      "memory usage: 358.5+ KB\n"
     ]
    }
   ],
   "source": [
    "#Informacion SMD\n",
    "db_displasia.info()"
   ]
  },
  {
   "cell_type": "code",
   "execution_count": 28,
   "metadata": {},
   "outputs": [],
   "source": [
    "#Informacion Hepatopata\n",
    "#db_hepatopata.info()"
   ]
  },
  {
   "cell_type": "code",
   "execution_count": 29,
   "metadata": {},
   "outputs": [],
   "source": [
    "#Informacion oncologicos\n",
    "#db_oncologicos.info()"
   ]
  },
  {
   "cell_type": "code",
   "execution_count": 7,
   "metadata": {},
   "outputs": [
    {
     "name": "stdout",
     "output_type": "stream",
     "text": [
      "<class 'pandas.core.frame.DataFrame'>\n",
      "RangeIndex: 201 entries, 0 to 200\n",
      "Columns: 110 entries, LEU to ESSYS\n",
      "dtypes: float64(93), int64(10), object(7)\n",
      "memory usage: 172.9+ KB\n"
     ]
    }
   ],
   "source": [
    "#Informacion PTI\n",
    "db_PTI.info()"
   ]
  },
  {
   "cell_type": "markdown",
   "metadata": {},
   "source": [
    "## Limpieza de variables bajo supervision clinica y codificacion de etiquetas"
   ]
  },
  {
   "cell_type": "code",
   "execution_count": 30,
   "metadata": {},
   "outputs": [],
   "source": [
    "\n",
    "db_smd = db_displasia.drop(['PLTI','PLTF','PLTO','MNEU','MLIN','MMON','MBAS','MEOS','MCAS','MMET','MMIE','MPRO','CPLAS','MBLS','MERI','FRSP','COMHE','AVSBL','AVSPL','AVSRJ','AVNRB','ESSYS','WBC-P','IPFA','IPF','HIPF','VPM','RDW','NEUp','LINp','MONp','EOSp','BASp','IGp','ERBLp','RET','RETp','FRI','RETHE','HIPER','HYPO','MACR','MICRO','FRAGM','RBCO','MCHCO','BA-D%','BA-N%','D-HE','FRCA','IRF-Y','LIN_p','NEU_p','RBCHE','RBC-Y','RTNC','RUPP','RET-Y','RPI','TNC-D','TNC-P'],axis=1)\n"
   ]
  },
  {
   "cell_type": "code",
   "execution_count": 31,
   "metadata": {},
   "outputs": [],
   "source": [
    "#Añadimos una nueva variable que identifique la patologia (SMD --> 0)\n",
    "\n",
    "db_smd['Diagnosis']=np.zeros((417,1),dtype=np.int8)"
   ]
  },
  {
   "cell_type": "code",
   "execution_count": 32,
   "metadata": {},
   "outputs": [],
   "source": [
    "db_hpt = db_hepatopata.drop(['WBC-P','IPFA','IPF','HIPF','VPM','RDW','NEUp','LINp','MONp','EOSp','BASp','IGp','ERBLp','RET','RETp','FRI','RETHE','HIPER','HYPO','MACR','MICRO','FRAGM','RBCO','MCHCO','BA-D%','BA-N%','D-HE','FRCA','IRF-Y','LIN_p','NEU_p','RBCHE','RBC-Y','RTNC','RUPP','RET-Y','RPI','TNC-D','TNC-P'],axis=1)\n"
   ]
  },
  {
   "cell_type": "code",
   "execution_count": 33,
   "metadata": {},
   "outputs": [],
   "source": [
    "#Añadimos una variable que identifique el diagnostico (HPT --> 1)\n",
    "db_hpt['Diagnosis']=np.ones((342,1),dtype=np.int8)"
   ]
  },
  {
   "cell_type": "code",
   "execution_count": 34,
   "metadata": {},
   "outputs": [],
   "source": [
    "db_onc = db_oncologicos.drop(['WBC-P','IPFA','IPF','HIPF','VPM','RDW','NEUp','LINp','MONp','EOSp','BASp','IGp','ERBLp','RET','RETp','FRI','RETHE','HIPER','HYPO','MACR','MICRO','FRAGM','RBCO','MCHCO','BA-D%','BA-N%','D-HE','FRCA','IRF-Y','LIN_p','NEU_p','RBCHE','RBC-Y','RTNC','RUPP','RET-Y','RPI','TNC-D','TNC-P'],axis=1)\n"
   ]
  },
  {
   "cell_type": "code",
   "execution_count": 35,
   "metadata": {},
   "outputs": [],
   "source": [
    "#Añadimos una variable que identifique el diagnostico (ONC --> 2)\n",
    "db_onc['Diagnosis']=np.full((303,1),2)"
   ]
  },
  {
   "cell_type": "code",
   "execution_count": 36,
   "metadata": {},
   "outputs": [],
   "source": [
    "\n",
    "db_pti = db_PTI.drop(['PLTI','PLTF','PLTO','MNEU','MLIN','MMON','MBAS','MEOS','MCAS','MMET','MMIE','MPRO','CPLAS','MBLS','MERI','FRSP','COMHE','AVSBL','AVSPL','AVSRJ','AVNRB','ESSYS','WBC-P','IPFA','IPF','HIPF','VPM','RDW','NEUp','LINp','MONp','EOSp','BASp','IGp','ERBLp','RET','RETp','FRI','RETHE','HIPER','HYPO','MACR','MICRO','FRAGM','RBCO','MCHCO','BA-D%','BA-N%','D-HE','FRCA','IRF-Y','LIN_p','NEU_p','RBCHE','RBC-Y','RTNC','RUPP','RET-Y','RPI','TNC-D','TNC-P'],axis=1)\n"
   ]
  },
  {
   "cell_type": "code",
   "execution_count": 37,
   "metadata": {},
   "outputs": [],
   "source": [
    "#Añadimos una variable que identifique el diagnostico\n",
    "db_pti['Diagnosis']=np.full((201,1),3)"
   ]
  },
  {
   "cell_type": "markdown",
   "metadata": {},
   "source": [
    "## Fusionamos las bases de datos y representamos diagrama de cajas y bigotes"
   ]
  },
  {
   "cell_type": "code",
   "execution_count": 39,
   "metadata": {},
   "outputs": [],
   "source": [
    "db_final = pd.concat([db_smd,db_hpt,db_onc,db_pti])\n",
    "\n",
    "#db_final.info()\n",
    "\n",
    "db_final = db_final.replace(np.nan ,np.mean(db_final['PLT']))\n",
    "\n",
    "\n",
    "\n",
    "\n",
    "#db_final.plot(kind='box',subplots=True, layout= (10,10), sharex= False, sharey = False, figsize = (50,50))\n",
    "#plt.show()"
   ]
  },
  {
   "cell_type": "markdown",
   "metadata": {},
   "source": [
    "## Opcional: Eliminar los outliers utilizando z-score"
   ]
  },
  {
   "cell_type": "code",
   "execution_count": 40,
   "metadata": {},
   "outputs": [],
   "source": [
    "#Obtenemos z-score\n",
    "\n",
    "z = np.abs(stats.zscore(db_final))\n",
    "\n",
    "\n",
    "#Establecemps un umbral \n",
    "\n",
    "threshold = 2\n",
    "pos = np.where(z >threshold)\n",
    "\n",
    "#Eliminamos los outliers identificados por z-score \n",
    "\n",
    "db_final = db_final[(z < threshold).all(axis=1)]"
   ]
  },
  {
   "cell_type": "markdown",
   "metadata": {},
   "source": [
    "## Aleatorizamos y realizamos las particiones (Train y Validacion)"
   ]
  },
  {
   "cell_type": "code",
   "execution_count": 54,
   "metadata": {},
   "outputs": [],
   "source": [
    "#Realizamos las particiones de entrenamiento y test\n",
    "\n",
    "x = db_final.drop(['Diagnosis'],axis=1)\n",
    "y = db_final['Diagnosis']\n",
    "y_vals = np.eye(len(set(y)))[y]\n",
    "\n",
    "\n",
    "x_train,x_test,y_train,y_test = train_test_split(x,y_vals, test_size=0.2, random_state=7)\n",
    "\n",
    "y_test_cls = np.array([label.argmax() for label in y_test])"
   ]
  },
  {
   "cell_type": "markdown",
   "metadata": {},
   "source": [
    "## Cargamos las bases de datos de Test (una por patologia)"
   ]
  },
  {
   "cell_type": "code",
   "execution_count": 55,
   "metadata": {},
   "outputs": [],
   "source": [
    "db_displasia_test = pd.read_excel('smdtest.xls')\n",
    "\n",
    "\n",
    "db_hepatopata_test = pd.read_excel('hpttest.xls')\n",
    "\n",
    "\n",
    "db_oncologicos_test = pd.read_excel('oncotest.xls')\n",
    "\n",
    "\n",
    "db_PTI_test = pd.read_excel('ptitest.xls')"
   ]
  },
  {
   "cell_type": "markdown",
   "metadata": {},
   "source": [
    "## Limpieza de variables en test bajo supervision clinica y codificacion de etiquetas"
   ]
  },
  {
   "cell_type": "code",
   "execution_count": 56,
   "metadata": {},
   "outputs": [],
   "source": [
    "db_smd_test = db_displasia_test.drop(['Número','PLTI','PLTF','PLTO','MNEU','MLIN','MMON','MBAS','MEOS','MCAS','MMET','MMIE','MPRO','CPLAS','MBLS','MERI','FRSP','COMHE','WBC-P','IPFA','IPF','HIPF','VPM','RDW','NEUp','LINp','MONp','EOSp','BASp','IGp','ERBLp','RET','RETp','FRI','RETHE','HIPER','HYPO','MACR','MICRO','FRAGM','RBCO','MCHCO','BA-D%','BA-N%','D-HE','FRCA','IRF-Y','LIN_p','NEU_p','RBCHE','RBC-Y','RTNC','RUPP','RET-Y','RPI','TNC-D','TNC-P'],axis=1)\n",
    "db_smd_test['Diagnosis']=np.zeros((10,1),dtype=np.int8)\n",
    "\n",
    "db_hpt_test = db_hepatopata_test.drop(['Número','PLTI','PLTF','PLTO','MNEU','MLIN','MMON','MBAS','MEOS','MCAS','MMET','MMIE','MPRO','CPLAS','MBLS','MERI','FRSP','COMHE','WBC-P','IPFA','IPF','HIPF','VPM','RDW','NEUp','LINp','MONp','EOSp','BASp','IGp','ERBLp','RET','RETp','FRI','RETHE','HIPER','HYPO','MACR','MICRO','FRAGM','RBCO','MCHCO','BA-D%','BA-N%','D-HE','FRCA','IRF-Y','LIN_p','NEU_p','RBCHE','RBC-Y','RTNC','RUPP','RET-Y','RPI','TNC-D','TNC-P'],axis=1)\n",
    "db_hpt_test['Diagnosis']=np.ones((19,1),dtype=np.int8)\n",
    "\n",
    "\n",
    "db_onc_test = db_oncologicos_test.drop(['Número','PLTI','PLTF','PLTO','MNEU','MLIN','MMON','MBAS','MEOS','MCAS','MMET','MMIE','MPRO','CPLAS','MBLS','MERI','FRSP','COMHE','WBC-P','IPFA','IPF','HIPF','VPM','RDW','NEUp','LINp','MONp','EOSp','BASp','IGp','ERBLp','RET','RETp','FRI','RETHE','HIPER','HYPO','MACR','MICRO','FRAGM','RBCO','MCHCO','BA-D%','BA-N%','D-HE','FRCA','IRF-Y','LIN_p','NEU_p','RBCHE','RBC-Y','RTNC','RUPP','RET-Y','RPI','TNC-D','TNC-P'],axis=1)\n",
    "db_onc_test['Diagnosis']=np.full((19,1),2,dtype=np.int8)\n",
    "\n",
    "db_pti_test = db_PTI_test.drop(['Número','Fecha','Código Externo','PLTI','PLTF','PLTO','MNEU','MLIN','MMON','MBAS','MEOS','MCAS','MMET','MMIE','MPRO','CPLAS','MBLS','MERI','FRSP','COMHE','WBC-P','IPFA','IPF','HIPF','VPM','RDW','NEUp','LINp','MONp','EOSp','BASp','IGp','ERBLp','RET','RETp','FRI','RETHE','HIPER','HYPO','MACR','MICRO','FRAGM','RBCO','MCHCO','BA-D%','BA-N%','D-HE','FRCA','IRF-Y','LIN_p','NEU_p','RBCHE','RBC-Y','RTNC','RUPP','RET-Y','RPI','TNC-D','TNC-P'],axis=1)\n",
    "db_pti_test['Diagnosis']=np.full((4,1),3,dtype=np.int8)\n"
   ]
  },
  {
   "cell_type": "markdown",
   "metadata": {},
   "source": [
    "# Etapa 2: Machine Learning (Regresion logistica, Knn y Perceptron multicapa)"
   ]
  },
  {
   "cell_type": "markdown",
   "metadata": {},
   "source": [
    "## Estandarizador y entradas estandarizadas (se aplicara en caso necesario)"
   ]
  },
  {
   "cell_type": "code",
   "execution_count": 57,
   "metadata": {},
   "outputs": [],
   "source": [
    "scaler = preprocessing.StandardScaler().fit(x_train)\n",
    "\n",
    "x_train_s = scaler.transform(x_train)\n",
    "x_test_s = scaler.transform(x_test)"
   ]
  },
  {
   "cell_type": "markdown",
   "metadata": {},
   "source": [
    "## Regresion logistica (Modelo)"
   ]
  },
  {
   "cell_type": "code",
   "execution_count": 58,
   "metadata": {},
   "outputs": [],
   "source": [
    "#Realizamos las particiones de entrenamiento y test\n",
    "\n",
    "\n",
    "#x = db_final.drop(['Diagnosis'],axis=1)\n",
    "#y = db_final['Diagnosis']\n",
    "#y_vals = np.eye(len(set(y)))[y]\n",
    "\n",
    "#x_train,x_test,y_train,y_test = train_test_split(x,y_vals, test_size=0.2)"
   ]
  },
  {
   "cell_type": "code",
   "execution_count": 59,
   "metadata": {},
   "outputs": [],
   "source": [
    "x = tf.placeholder(tf.float32, [None, 49])\n",
    "y_true = tf.placeholder(tf.float32, [None, 4])\n",
    "y_true_cls = tf.placeholder(tf.int64, [None])\n",
    "w = tf.Variable(tf.zeros([49, 4]))\n",
    "b = tf.Variable(tf.zeros([4]))\n",
    "logits = tf.matmul(x, w) + b\n",
    "y_pred = tf.nn.softmax(logits)\n",
    "y_pred_cls = tf.argmax(y_pred, axis=1) #axis=dimension\n",
    "#y_test_cls = np.array([label.argmax() for label in y_test])"
   ]
  },
  {
   "cell_type": "code",
   "execution_count": 60,
   "metadata": {},
   "outputs": [],
   "source": [
    "cross_entropy = tf.nn.softmax_cross_entropy_with_logits_v2(logits=logits,labels=y_true)\n",
    "#cost = tf.reduce_mean(cross_entropy)\n",
    "optimizer = tf.train.GradientDescentOptimizer(learning_rate=0.001).minimize(cross_entropy)\n",
    "correct_prediction = tf.equal(y_pred_cls, y_true_cls)\n",
    "accuracy = tf.reduce_mean(tf.cast(correct_prediction, tf.float32))"
   ]
  },
  {
   "cell_type": "markdown",
   "metadata": {},
   "source": [
    "## Regresion logistica (Entrenamiento)"
   ]
  },
  {
   "cell_type": "code",
   "execution_count": 61,
   "metadata": {},
   "outputs": [],
   "source": [
    "session = tf.Session()\n",
    "session.run(tf.global_variables_initializer())\n",
    "def optimize(num_iterations):\n",
    "    for i in range(num_iterations):\n",
    "        \n",
    "        feed_dict_train = {x: x_train, y_true: y_train}\n",
    "\n",
    "        session.run(optimizer, feed_dict=feed_dict_train)"
   ]
  },
  {
   "cell_type": "markdown",
   "metadata": {},
   "source": [
    "## Regresion logistica (Validacion)"
   ]
  },
  {
   "cell_type": "code",
   "execution_count": 62,
   "metadata": {},
   "outputs": [],
   "source": [
    "classes = ['SMD','Hepatópatas','Oncológicos','PTI']\n",
    "\n",
    "feed_dict_test = {x: x_test,\n",
    "                  y_true: y_test,\n",
    "                  y_true_cls: y_test_cls}\n",
    "\n",
    "def print_accuracy():\n",
    "    # Use TensorFlow to compute the accuracy.\n",
    "    acc = session.run(accuracy, feed_dict=feed_dict_test)\n",
    "\n",
    "    # Print the accuracy.\n",
    "    print(\"Accuracy on test-set: {0:.1%}\".format(acc))\n",
    "\n",
    "def plot_confusion_matrix(normalize=False):\n",
    "\n",
    "    # Compute confusion matrix\n",
    "    # Only use the labels that appear in the data\n",
    "    #classes = classes[unique_labels(y_true, y_pred)]\n",
    "    \n",
    "    # Get the true classifications for the test-set.\n",
    "    cls_true = y_test_cls\n",
    "\n",
    "    # Get the predicted classifications for the test-set.\n",
    "    cls_pred = session.run(y_pred_cls, feed_dict=feed_dict_test)\n",
    "\n",
    "    # Get the confusion matrix using sklearn.\n",
    "    cm = confusion_matrix(y_true=cls_true,\n",
    "                          y_pred=cls_pred)\n",
    "\n",
    "    # Print the confusion matrix as text.\n",
    "    print(cm)\n",
    "    \n",
    "    fig, ax = plt.subplots()\n",
    "    im = ax.imshow(cm, interpolation='nearest', cmap=plt.cm.Blues)\n",
    "    ax.figure.colorbar(im, ax=ax)\n",
    "    # We want to show all ticks...\n",
    "    ax.set(xticks=np.arange(cm.shape[1]),\n",
    "           yticks=np.arange(cm.shape[0]),\n",
    "           # ... and label them with the respective list entries\n",
    "           xticklabels=classes, yticklabels=classes,\n",
    "           title='Matriz de confusión',\n",
    "           ylabel='True label',\n",
    "           xlabel='Predicted label')\n",
    "\n",
    "    # Rotate the tick labels and set their alignment.\n",
    "    plt.setp(ax.get_xticklabels(), rotation=45, ha=\"right\",\n",
    "             rotation_mode=\"anchor\")\n",
    "\n",
    "    # Loop over data dimensions and create text annotations.\n",
    "    fmt = '.2f' if normalize else 'd'\n",
    "    thresh = cm.max() / 2.\n",
    "    for i in range(cm.shape[0]):\n",
    "        for j in range(cm.shape[1]):\n",
    "            ax.text(j, i, format(cm[i, j], fmt),\n",
    "                    ha=\"center\", va=\"center\",\n",
    "                    color=\"white\" if cm[i, j] > thresh else \"black\")\n",
    "    fig.tight_layout()\n",
    "    return ax\n"
   ]
  },
  {
   "cell_type": "code",
   "execution_count": 63,
   "metadata": {},
   "outputs": [
    {
     "name": "stdout",
     "output_type": "stream",
     "text": [
      "[[ 8  8  1  0]\n",
      " [ 4 50  0  0]\n",
      " [ 3 26 20  0]\n",
      " [ 2 19  1  0]]\n",
      "Accuracy on test-set: 54.9%\n"
     ]
    },
    {
     "data": {
      "image/png": "[encoded data removed]",
      "text/plain": [
       "<Figure size 432x288 with 2 Axes>"
      ]
     },
     "metadata": {
      "needs_background": "light"
     },
     "output_type": "display_data"
    }
   ],
   "source": [
    "optimize(num_iterations=1000)\n",
    "plot_confusion_matrix()\n",
    "print_accuracy()"
   ]
  },
  {
   "cell_type": "markdown",
   "metadata": {},
   "source": [
    "## Knn (Modelo)"
   ]
  },
  {
   "cell_type": "code",
   "execution_count": 64,
   "metadata": {},
   "outputs": [],
   "source": [
    "#Realizamos las particiones de entrenamiento y test\n",
    "\n",
    "#x = db_final.drop(['Diagnosis'],axis=1)\n",
    "#y = db_final['Diagnosis']\n",
    "\n",
    "# Realizamos One-hot-encoding de las etiquetas\n",
    "#y_vals = np.eye(len(set(y)))[y]\n",
    "\n",
    "#x_train,x_test,y_train,y_test = train_test_split(x,y_vals, test_size=0.2, random_state=7)\n",
    "\n",
    "\n",
    "#scaler = preprocessing.StandardScaler().fit(x_train)\n",
    "\n",
    "#x_train = scaler.transform(x_train)\n",
    "#x_test = scaler.transform(x_test)\n",
    "\n",
    "# obtenemos las etiquetas del test como valores 0,1,2 y 3, ya que estaban codificadas.\n",
    "\n",
    "#y_test_cls = np.array([label.argmax() for label in y_test])"
   ]
  },
  {
   "cell_type": "code",
   "execution_count": 95,
   "metadata": {},
   "outputs": [],
   "source": [
    "# Creacion del modelo knn\n",
    "x_data_train = tf.placeholder(shape=[None, 49], dtype=tf.float32)\n",
    "y_data_train = tf.placeholder(shape=[None, 4], dtype=tf.float32)\n",
    "x_data_test = tf.placeholder(shape=[None, 49], dtype=tf.float32)"
   ]
  },
  {
   "cell_type": "markdown",
   "metadata": {},
   "source": [
    "## Knn (distancia Manhattan)"
   ]
  },
  {
   "cell_type": "code",
   "execution_count": 99,
   "metadata": {},
   "outputs": [
    {
     "name": "stdout",
     "output_type": "stream",
     "text": [
      "cv_k_Scores: [0.7394366197183099, 0.7394366197183099, 0.7605633802816901, 0.7323943661971831, 0.7183098591549296, 0.7112676056338029, 0.7323943661971831, 0.7323943661971831, 0.7112676056338029, 0.7183098591549296, 0.7183098591549296, 0.6830985915492958, 0.6830985915492958, 0.6690140845070423, 0.6830985915492958, 0.6830985915492958, 0.676056338028169, 0.676056338028169, 0.676056338028169, 0.676056338028169]\n",
      "20\n",
      "20\n"
     ]
    },
    {
     "data": {
      "image/png": "[encoded data removed]",
      "text/plain": [
       "<Figure size 432x288 with 1 Axes>"
      ]
     },
     "metadata": {
      "needs_background": "light"
     },
     "output_type": "display_data"
    },
    {
     "name": "stdout",
     "output_type": "stream",
     "text": [
      "El valor óptimo de vecinos cercanos es: 5\n",
      "El máximo valor de accuracy es: 0.7605633802816901\n"
     ]
    }
   ],
   "source": [
    "#Validacion cruzada para obtener una buena capacidad de generalizacion\n",
    "\n",
    "k_values = range(1,40,2)\n",
    "cv_k_scores = []\n",
    "\n",
    "distance = tf.reduce_sum(tf.abs(tf.subtract(x_data_train, tf.expand_dims(x_data_test, 1))), axis=2)\n",
    "\n",
    "for k in k_values:\n",
    "    _, top_k_indices = tf.nn.top_k(tf.negative(distance), k=k)\n",
    "    top_k_label = tf.gather(y_data_train, top_k_indices)\n",
    "\n",
    "    sum_up_predictions = tf.reduce_sum(top_k_label, axis=1)\n",
    "    prediction = tf.argmax(sum_up_predictions, axis=1)\n",
    "    sess = tf.Session()\n",
    "    prediction_outcome = sess.run(prediction, feed_dict = \n",
    "                              {x_data_train: x_train_s,\n",
    "                               x_data_test: x_test_s,\n",
    "                               y_data_train: y_train})\n",
    "    \n",
    "    accuracy = 0\n",
    "    for pred, actual in zip(prediction_outcome, y_test):\n",
    "        if pred == np.argmax(actual):\n",
    "            accuracy += 1\n",
    "    cv_k_scores.append(accuracy / len(prediction_outcome))\n",
    "\n",
    "        \n",
    "print('cv_k_Scores:',cv_k_scores)\n",
    "print(len(cv_k_scores))\n",
    "print(len(k_values))\n",
    "\n",
    "\n",
    "plt.plot(k_values, cv_k_scores)\n",
    "plt.grid()\n",
    "\n",
    "plt.xlabel('K')\n",
    "plt.ylabel('Accuracy')\n",
    "plt.show()\n",
    "\n",
    "\n",
    "# Seleccionamor el maximo porque consideramos accuracy\n",
    "\n",
    "print('El valor óptimo de vecinos cercanos es:',np.array(k_values)[cv_k_scores.index(np.array(cv_k_scores).max())])\n",
    "\n",
    "# Obtenemos el máximo valor de accuracy \n",
    "\n",
    "print('El máximo valor de accuracy es:',max(cv_k_scores))\n"
   ]
  },
  {
   "cell_type": "markdown",
   "metadata": {},
   "source": [
    "Se implementa la distancia Manhattan:valor absoluto de la diferencia entre los valores del vector de dos puntos de datos de x1 y x2.\n",
    "El comando 'tf.expand_dims' añade una dimension extra a 'x_data_test' para que se puede llevar a cabo la resta."
   ]
  },
  {
   "cell_type": "code",
   "execution_count": 68,
   "metadata": {},
   "outputs": [],
   "source": [
    "distance = tf.reduce_sum(tf.abs(tf.subtract(x_data_train, tf.expand_dims(x_data_test, 1))), axis=2)"
   ]
  },
  {
   "cell_type": "markdown",
   "metadata": {},
   "source": [
    "Reemplazamos el valor de k que hemos obtenido tras realizar validación cruzada."
   ]
  },
  {
   "cell_type": "code",
   "execution_count": 91,
   "metadata": {},
   "outputs": [],
   "source": [
    "k = 5\n",
    "\n",
    "# k puntos mas cercanos\n",
    "_, top_k_indices = tf.nn.top_k(tf.negative(distance), k=k)\n",
    "top_k_label = tf.gather(y_data_train, top_k_indices)\n",
    "\n",
    "sum_up_predictions = tf.reduce_sum(top_k_label, axis=1)\n",
    "prediction = tf.argmax(sum_up_predictions, axis=1)"
   ]
  },
  {
   "cell_type": "markdown",
   "metadata": {},
   "source": [
    "- Con la funcion 'tf.nn.top_k()', se obtienes los mayores valores y los índices de KNN. El primer valor de retorno, son los valores de las distancias y por lo tanto se descartan ya que la función 'tf.negative()' hace que los valores sean negativos.\n",
    "\n",
    "\n",
    "- Con la función 'tf.gather()' extraemos las etiquetas de entrenamiento asociadas a los índices de los vecinos más cercanos. Por tanto, top_k_label son las etiquetas codificadas.\n",
    "\n",
    "\n",
    "- Con la función 'tf.reduce_sum()', se obtiene la suma de elementos.\n",
    "\n",
    "\n",
    "- Con la funcion 'tf.argmax()' se obtienen las etiquetas predichas ya que con esta función se obtiene el índice del valor máximo."
   ]
  },
  {
   "cell_type": "markdown",
   "metadata": {},
   "source": [
    "## Knn (Manhattan) - Entrenamiento"
   ]
  },
  {
   "cell_type": "code",
   "execution_count": 92,
   "metadata": {},
   "outputs": [],
   "source": [
    "sess = tf.Session()\n",
    "# Obtenemos las predicciones\n",
    "prediction_outcome = sess.run(prediction, feed_dict = \n",
    "                              {x_data_train: x_train_s,\n",
    "                               x_data_test: x_test_s,\n",
    "                               y_data_train: y_train})"
   ]
  },
  {
   "cell_type": "markdown",
   "metadata": {},
   "source": [
    "## Knn (Manhattan) - Validacion"
   ]
  },
  {
   "cell_type": "code",
   "execution_count": 93,
   "metadata": {},
   "outputs": [
    {
     "name": "stdout",
     "output_type": "stream",
     "text": [
      "[[12  3  1  1]\n",
      " [ 3 46  3  2]\n",
      " [ 3 11 32  3]\n",
      " [ 0  3  1 18]]\n"
     ]
    }
   ],
   "source": [
    "# Obtenemos la matriz de confusión\n",
    "con = tf.confusion_matrix(labels=y_test_cls, predictions=prediction_outcome )\n",
    "sess = tf.Session()\n",
    "with sess.as_default():\n",
    "        print(sess.run(con))"
   ]
  },
  {
   "cell_type": "code",
   "execution_count": 94,
   "metadata": {},
   "outputs": [
    {
     "name": "stdout",
     "output_type": "stream",
     "text": [
      "0.7605633802816901\n"
     ]
    }
   ],
   "source": [
    "accuracy = 0\n",
    "for pred, actual in zip(prediction_outcome, y_test):\n",
    "    if pred == np.argmax(actual):\n",
    "        accuracy += 1\n",
    "print(accuracy / len(prediction_outcome))"
   ]
  },
  {
   "cell_type": "markdown",
   "metadata": {},
   "source": [
    "## Knn (Euclidea)"
   ]
  },
  {
   "cell_type": "markdown",
   "metadata": {},
   "source": [
    "En este punto, se realiza validación cruzada tomando como medida de distancia la euclídea, ya que sabemos que KNN es sensible a la distancia que se considere (los vecinos cercanos pueden cambiar)."
   ]
  },
  {
   "cell_type": "code",
   "execution_count": 101,
   "metadata": {},
   "outputs": [
    {
     "name": "stdout",
     "output_type": "stream",
     "text": [
      "cv_k_Scores: [0.7183098591549296, 0.7183098591549296, 0.7183098591549296, 0.7253521126760564, 0.7112676056338029, 0.7394366197183099, 0.7394366197183099, 0.7253521126760564, 0.7183098591549296, 0.7183098591549296, 0.7183098591549296, 0.6971830985915493, 0.7253521126760564, 0.7323943661971831, 0.7253521126760564, 0.7253521126760564, 0.7112676056338029, 0.6901408450704225, 0.676056338028169, 0.6971830985915493, 0.676056338028169, 0.6619718309859155, 0.6619718309859155, 0.647887323943662, 0.6267605633802817, 0.6338028169014085, 0.6126760563380281]\n",
      "27\n",
      "27\n"
     ]
    },
    {
     "data": {
      "image/png": "[encoded data removed]",
      "text/plain": [
       "<Figure size 432x288 with 1 Axes>"
      ]
     },
     "metadata": {
      "needs_background": "light"
     },
     "output_type": "display_data"
    },
    {
     "name": "stdout",
     "output_type": "stream",
     "text": [
      "El valor óptimo de vecinos cercanos es: 11\n",
      "El máximo valor de accuracy es: 0.7394366197183099\n"
     ]
    }
   ],
   "source": [
    "k_values = range(1,55,2)\n",
    "cv_k_scores = []\n",
    "\n",
    "# Definimos la distancia euclidea\n",
    "euclidian_distance = tf.sqrt(tf.reduce_sum(tf.square(tf.subtract(x_data_train, tf.expand_dims(x_data_test,1))), axis=2))\n",
    "\n",
    "\n",
    "for k in k_values:\n",
    "    _, top_k_indices = tf.nn.top_k(tf.negative(euclidian_distance), k=k)\n",
    "    top_k_label = tf.gather(y_data_train, top_k_indices)\n",
    "\n",
    "    sum_up_predictions = tf.reduce_sum(top_k_label, axis=1)\n",
    "    prediction = tf.argmax(sum_up_predictions, axis=1)\n",
    "    sess = tf.Session()\n",
    "    prediction_outcome = sess.run(prediction, feed_dict = \n",
    "                              {x_data_train: x_train_s,\n",
    "                               x_data_test: x_test_s,\n",
    "                               y_data_train: y_train})\n",
    "    \n",
    "    accuracy = 0\n",
    "    for pred, actual in zip(prediction_outcome, y_test):\n",
    "        if pred == np.argmax(actual):\n",
    "            accuracy += 1\n",
    "    cv_k_scores.append(accuracy / len(prediction_outcome))\n",
    "\n",
    "        \n",
    "print('cv_k_Scores:',cv_k_scores)\n",
    "print(len(cv_k_scores))\n",
    "print(len(k_values))\n",
    "\n",
    "\n",
    "plt.plot(k_values, cv_k_scores)\n",
    "plt.grid()\n",
    "\n",
    "plt.xlabel('K')\n",
    "plt.ylabel('Accuracy')\n",
    "plt.show()\n",
    "\n",
    "\n",
    "# Seleccionamor el maximo porque consideramos accuracy\n",
    "\n",
    "print('El valor óptimo de vecinos cercanos es:',np.array(k_values)[cv_k_scores.index(np.array(cv_k_scores).max())])\n",
    "\n",
    "# Obtenemos el máximo valor de accuracy \n",
    "\n",
    "print('El máximo valor de accuracy es:',max(cv_k_scores))"
   ]
  },
  {
   "cell_type": "markdown",
   "metadata": {},
   "source": [
    "Hemos obtenido como valor óptimo de vecinos cercanos el valor 7, por tanto creamos el modelo con este valor de k."
   ]
  },
  {
   "cell_type": "code",
   "execution_count": 83,
   "metadata": {},
   "outputs": [],
   "source": [
    "k = 7\n",
    "\n",
    "# K puntos mas cercanos\n",
    "_, top_k_indices = tf.nn.top_k(tf.negative(euclidian_distance), k=k)\n",
    "top_k_label = tf.gather(y_data_train, top_k_indices)\n",
    "\n",
    "sum_up_predictions = tf.reduce_sum(top_k_label, axis=1)\n",
    "prediction = tf.argmax(sum_up_predictions, axis=1)"
   ]
  },
  {
   "cell_type": "markdown",
   "metadata": {},
   "source": [
    "## Knn (Euclidea) - Entrenamiento"
   ]
  },
  {
   "cell_type": "code",
   "execution_count": 84,
   "metadata": {},
   "outputs": [],
   "source": [
    "sess = tf.Session()\n",
    "prediction_outcome_d2 = sess.run(prediction, feed_dict = \n",
    "                              {x_data_train: x_train_s,\n",
    "                               x_data_test: x_test_s,\n",
    "                               y_data_train: y_train})"
   ]
  },
  {
   "cell_type": "markdown",
   "metadata": {},
   "source": [
    "## Knn (Euclidea) - Validacion"
   ]
  },
  {
   "cell_type": "code",
   "execution_count": 85,
   "metadata": {},
   "outputs": [
    {
     "name": "stdout",
     "output_type": "stream",
     "text": [
      "[[12  2  2  1]\n",
      " [ 1 43  6  4]\n",
      " [ 3 12 31  3]\n",
      " [ 0  4  1 17]]\n"
     ]
    }
   ],
   "source": [
    "# Matriz de confusión \n",
    "\n",
    "con = tf.confusion_matrix(labels=y_test_cls, predictions=prediction_outcome_d2 )\n",
    "sess = tf.Session()\n",
    "with sess.as_default():\n",
    "        print(sess.run(con))"
   ]
  },
  {
   "cell_type": "code",
   "execution_count": 90,
   "metadata": {},
   "outputs": [
    {
     "name": "stdout",
     "output_type": "stream",
     "text": [
      "Tasa de acierto: 0.7253521126760564\n"
     ]
    }
   ],
   "source": [
    "# Obtenemos la tasa de acierto\n",
    "accuracy_d2 = 0\n",
    "for pred, actual in zip(prediction_outcome_d2, y_test):\n",
    "    if pred == np.argmax(actual):\n",
    "        accuracy_d2 += 1\n",
    "print('Tasa de acierto:',accuracy_d2 / len(prediction_outcome_d2))\n",
    "\n"
   ]
  },
  {
   "cell_type": "markdown",
   "metadata": {},
   "source": [
    "## Red neuronal : Perceptron multicapa"
   ]
  },
  {
   "cell_type": "code",
   "execution_count": 102,
   "metadata": {},
   "outputs": [],
   "source": [
    "# Crearemos una serie de capas de neuronas secuenciales\n",
    "model = Sequential()\n",
    "\n",
    "# Capa de entrada con 49 neuronas\n",
    "# La primera capa oculta tiene 16 neuronas\n",
    "model.add(Dense(16, input_dim=49, activation='relu'))\n",
    "model.add(Dense(8, activation='relu'))\n",
    "\n",
    "\n",
    "# Agregamos una capa con 4 neuronas de salida y función de activación sigmoide\n",
    "model.add(Dense(4, activation='sigmoid'))"
   ]
  },
  {
   "cell_type": "code",
   "execution_count": 107,
   "metadata": {},
   "outputs": [
    {
     "ename": "TypeError",
     "evalue": "Cannot clone object '<keras.engine.sequential.Sequential object at 0x1a3df3ed68>' (type <class 'keras.engine.sequential.Sequential'>): it does not seem to be a scikit-learn estimator as it does not implement a 'get_params' methods.",
     "output_type": "error",
     "traceback": [
      "\u001b[0;31m---------------------------------------------------------------------------\u001b[0m",
      "\u001b[0;31mTypeError\u001b[0m                                 Traceback (most recent call last)",
      "\u001b[0;32m<ipython-input-107-3c397987f7e5>\u001b[0m in \u001b[0;36m<module>\u001b[0;34m\u001b[0m\n\u001b[1;32m      2\u001b[0m \u001b[0mparameters\u001b[0m \u001b[0;34m=\u001b[0m \u001b[0;34m{\u001b[0m\u001b[0;34m'batch_size'\u001b[0m\u001b[0;34m:\u001b[0m\u001b[0;34m[\u001b[0m\u001b[0;36m1\u001b[0m\u001b[0;34m,\u001b[0m\u001b[0;36m70\u001b[0m\u001b[0;34m]\u001b[0m\u001b[0;34m,\u001b[0m \u001b[0;34m'epochs'\u001b[0m\u001b[0;34m:\u001b[0m\u001b[0;34m[\u001b[0m\u001b[0;36m1\u001b[0m\u001b[0;34m,\u001b[0m\u001b[0;36m200\u001b[0m\u001b[0;34m]\u001b[0m\u001b[0;34m}\u001b[0m\u001b[0;34m\u001b[0m\u001b[0m\n\u001b[1;32m      3\u001b[0m \u001b[0mclf\u001b[0m \u001b[0;34m=\u001b[0m \u001b[0mGridSearchCV\u001b[0m\u001b[0;34m(\u001b[0m\u001b[0mmodel\u001b[0m\u001b[0;34m,\u001b[0m \u001b[0mparameters\u001b[0m\u001b[0;34m,\u001b[0m \u001b[0mscoring\u001b[0m\u001b[0;34m=\u001b[0m\u001b[0;34m'accuracy'\u001b[0m\u001b[0;34m,\u001b[0m\u001b[0mcv\u001b[0m\u001b[0;34m=\u001b[0m\u001b[0;36m10\u001b[0m\u001b[0;34m)\u001b[0m\u001b[0;34m\u001b[0m\u001b[0m\n\u001b[0;32m----> 4\u001b[0;31m \u001b[0mclf\u001b[0m\u001b[0;34m.\u001b[0m\u001b[0mfit\u001b[0m\u001b[0;34m(\u001b[0m\u001b[0mx_train\u001b[0m\u001b[0;34m,\u001b[0m \u001b[0my_train\u001b[0m\u001b[0;34m)\u001b[0m\u001b[0;34m\u001b[0m\u001b[0m\n\u001b[0m\u001b[1;32m      5\u001b[0m \u001b[0msorted\u001b[0m\u001b[0;34m(\u001b[0m\u001b[0mclf\u001b[0m\u001b[0;34m.\u001b[0m\u001b[0mcv_results_\u001b[0m\u001b[0;34m.\u001b[0m\u001b[0mkeys\u001b[0m\u001b[0;34m(\u001b[0m\u001b[0;34m)\u001b[0m\u001b[0;34m)\u001b[0m\u001b[0;34m\u001b[0m\u001b[0m\n",
      "\u001b[0;32m~/anaconda3/envs/optimization/lib/python3.6/site-packages/sklearn/model_selection/_search.py\u001b[0m in \u001b[0;36mfit\u001b[0;34m(self, X, y, groups, **fit_params)\u001b[0m\n\u001b[1;32m    631\u001b[0m         \u001b[0mn_splits\u001b[0m \u001b[0;34m=\u001b[0m \u001b[0mcv\u001b[0m\u001b[0;34m.\u001b[0m\u001b[0mget_n_splits\u001b[0m\u001b[0;34m(\u001b[0m\u001b[0mX\u001b[0m\u001b[0;34m,\u001b[0m \u001b[0my\u001b[0m\u001b[0;34m,\u001b[0m \u001b[0mgroups\u001b[0m\u001b[0;34m)\u001b[0m\u001b[0;34m\u001b[0m\u001b[0m\n\u001b[1;32m    632\u001b[0m \u001b[0;34m\u001b[0m\u001b[0m\n\u001b[0;32m--> 633\u001b[0;31m         \u001b[0mbase_estimator\u001b[0m \u001b[0;34m=\u001b[0m \u001b[0mclone\u001b[0m\u001b[0;34m(\u001b[0m\u001b[0mself\u001b[0m\u001b[0;34m.\u001b[0m\u001b[0mestimator\u001b[0m\u001b[0;34m)\u001b[0m\u001b[0;34m\u001b[0m\u001b[0m\n\u001b[0m\u001b[1;32m    634\u001b[0m \u001b[0;34m\u001b[0m\u001b[0m\n\u001b[1;32m    635\u001b[0m         parallel = Parallel(n_jobs=self.n_jobs, verbose=self.verbose,\n",
      "\u001b[0;32m~/anaconda3/envs/optimization/lib/python3.6/site-packages/sklearn/base.py\u001b[0m in \u001b[0;36mclone\u001b[0;34m(estimator, safe)\u001b[0m\n\u001b[1;32m     58\u001b[0m                             \u001b[0;34m\"it does not seem to be a scikit-learn estimator \"\u001b[0m\u001b[0;34m\u001b[0m\u001b[0m\n\u001b[1;32m     59\u001b[0m                             \u001b[0;34m\"as it does not implement a 'get_params' methods.\"\u001b[0m\u001b[0;34m\u001b[0m\u001b[0m\n\u001b[0;32m---> 60\u001b[0;31m                             % (repr(estimator), type(estimator)))\n\u001b[0m\u001b[1;32m     61\u001b[0m     \u001b[0mklass\u001b[0m \u001b[0;34m=\u001b[0m \u001b[0mestimator\u001b[0m\u001b[0;34m.\u001b[0m\u001b[0m__class__\u001b[0m\u001b[0;34m\u001b[0m\u001b[0m\n\u001b[1;32m     62\u001b[0m     \u001b[0mnew_object_params\u001b[0m \u001b[0;34m=\u001b[0m \u001b[0mestimator\u001b[0m\u001b[0;34m.\u001b[0m\u001b[0mget_params\u001b[0m\u001b[0;34m(\u001b[0m\u001b[0mdeep\u001b[0m\u001b[0;34m=\u001b[0m\u001b[0;32mFalse\u001b[0m\u001b[0;34m)\u001b[0m\u001b[0;34m\u001b[0m\u001b[0m\n",
      "\u001b[0;31mTypeError\u001b[0m: Cannot clone object '<keras.engine.sequential.Sequential object at 0x1a3df3ed68>' (type <class 'keras.engine.sequential.Sequential'>): it does not seem to be a scikit-learn estimator as it does not implement a 'get_params' methods."
     ]
    }
   ],
   "source": [
    "from sklearn.model_selection import GridSearchCV\n",
    "parameters = {'batch_size':[1,70], 'epochs':[1,200]}\n",
    "clf = GridSearchCV(model, parameters, scoring='accuracy',cv=10)\n",
    "clf.fit(x_train, y_train)\n",
    "sorted(clf.cv_results_.keys())\n"
   ]
  },
  {
   "cell_type": "code",
   "execution_count": null,
   "metadata": {},
   "outputs": [],
   "source": [
    "# Función de pérdida: binary_crossentropy, optimizador= adam, definimos exactitud como métrica\n",
    "\n",
    "model.compile(loss='binary_crossentropy',\n",
    "              optimizer='adam',\n",
    "              metrics=['accuracy'])"
   ]
  },
  {
   "cell_type": "code",
   "execution_count": null,
   "metadata": {},
   "outputs": [],
   "source": [
    "model.fit(x_train, y_train, epochs=100, batch_size=20, validation_split=0.1)"
   ]
  },
  {
   "cell_type": "code",
   "execution_count": null,
   "metadata": {},
   "outputs": [],
   "source": [
    "# Evaluamos en el conjunto de entrenamiento\n",
    "scores = model.evaluate(x_train, y_train)\n",
    "print(\"\\n%s: %.2f%%\" % (model.metrics_names[1], scores[1]*100))"
   ]
  },
  {
   "cell_type": "code",
   "execution_count": null,
   "metadata": {},
   "outputs": [],
   "source": [
    "# Evaluamos el modelo en el conjunto de validacion\n",
    "print('\\n# Evaluación en el conjunto de test')\n",
    "scores = model.evaluate(x_test, y_test)\n",
    "print(\"\\n%s: %.2f%%\" % (model.metrics_names[1], scores[1]*100))\n",
    "\n",
    "# Obtenemos las predicciones\n",
    "predictions_mlp_codif = model.predict(x_test).round()\n",
    "\n",
    "# Obtenemos las predicciones con valores 0,1,2 y 3 ya que estaban codificadas\n",
    "predictions_mlp = np.array([label.argmax() for label in predictions_mlp_codif])\n",
    "\n",
    "#print(predictions_mlp)"
   ]
  },
  {
   "cell_type": "code",
   "execution_count": null,
   "metadata": {},
   "outputs": [],
   "source": [
    "# Obtenemos la matriz de confusión\n",
    "con = tf.confusion_matrix(labels=y_test_cls, predictions=predictions_mlp )\n",
    "sess = tf.Session()\n",
    "with sess.as_default():\n",
    "        print(sess.run(con))"
   ]
  },
  {
   "cell_type": "markdown",
   "metadata": {},
   "source": [
    "## Red neuronal sobre bases de datos TEST"
   ]
  },
  {
   "cell_type": "code",
   "execution_count": null,
   "metadata": {},
   "outputs": [],
   "source": [
    "# Para obtener las predicciones eliminamos el diagnostico y el identificado de número\n",
    "\n",
    "x_test_db_smd = db_smd_test.drop(['Diagnosis'], axis=1)\n",
    "x_test_db_hpt = db_hpt_test.drop(['Diagnosis'], axis=1)\n",
    "x_test_db_onc = db_onc_test.drop(['Diagnosis'], axis=1)\n",
    "x_test_db_pti = db_pti_test.drop(['Diagnosis'], axis=1)"
   ]
  },
  {
   "cell_type": "code",
   "execution_count": null,
   "metadata": {},
   "outputs": [],
   "source": [
    "# Estandarizamos las bases de datos\n",
    "\n",
    "x_test_db_smd = scaler.transform(x_test_db_smd)\n",
    "x_test_db_hpt = scaler.transform(x_test_db_hpt)\n",
    "x_test_db_onc = scaler.transform(x_test_db_onc)\n",
    "x_test_db_pti = scaler.transform(x_test_db_pti)"
   ]
  },
  {
   "cell_type": "code",
   "execution_count": null,
   "metadata": {},
   "outputs": [],
   "source": [
    "# Probamos con db_smd\n",
    "predictions_mlp_codif_db_smd = model.predict(x_test_db_smd).round()\n",
    "\n",
    "# Obtenemos las predicciones con valores ya que estaban codificadas\n",
    "predictions_mlp_codif_db_smd = np.array([label.argmax() for label in predictions_mlp_codif_db_smd])\n",
    "\n",
    "print(predictions_mlp_codif_db_smd)"
   ]
  },
  {
   "cell_type": "code",
   "execution_count": null,
   "metadata": {},
   "outputs": [],
   "source": [
    "# Probamos con db_hpt\n",
    "predictions_mlp_codif_db_hpt = model.predict(x_test_db_hpt).round()\n",
    "\n",
    "# Obtenemos las predicciones con valores ya que estaban codificadas\n",
    "predictions_mlp_codif_db_hpt = np.array([label.argmax() for label in predictions_mlp_codif_db_hpt])\n",
    "\n",
    "print(predictions_mlp_codif_db_hpt)"
   ]
  },
  {
   "cell_type": "code",
   "execution_count": null,
   "metadata": {},
   "outputs": [],
   "source": [
    "# Probamos con x_test_db_onc\n",
    "\n",
    "predictions_mlp_codif_db_onc = model.predict(x_test_db_onc).round()\n",
    "\n",
    "\n",
    "# Obtenemos las predicciones con valores ya que estaban codificadas\n",
    "predictions_mlp_codif_db_onc = np.array([label.argmax() for label in predictions_mlp_codif_db_onc])\n",
    "\n",
    "print(predictions_mlp_codif_db_onc)\n"
   ]
  },
  {
   "cell_type": "code",
   "execution_count": null,
   "metadata": {},
   "outputs": [],
   "source": [
    "# Probamos con x_test_db_pti\n",
    "\n",
    "predictions_mlp_codif_db_pti = model.predict(x_test_db_pti).round()\n",
    "\n",
    "\n",
    "# Obtenemos las predicciones con valores ya que estaban codificadas\n",
    "predictions_mlp_codif_db_pti = np.array([label.argmax() for label in predictions_mlp_codif_db_pti])\n",
    "\n",
    "print(predictions_mlp_codif_db_pti)"
   ]
  },
  {
   "cell_type": "markdown",
   "metadata": {},
   "source": [
    "# Etapa 3: Seleccion de caracteristicas"
   ]
  },
  {
   "cell_type": "markdown",
   "metadata": {},
   "source": [
    "## Metodo de filtrado: Prueba F de Fisher (F)"
   ]
  },
  {
   "cell_type": "code",
   "execution_count": null,
   "metadata": {},
   "outputs": [],
   "source": [
    "#Realizamos las particiones de entrenamiento y test\n",
    "\n",
    "x = db_final.drop(['Diagnosis'],axis=1)\n",
    "y = db_final['Diagnosis']\n",
    "\n",
    "x_train,x_test,y_train,y_test = train_test_split(x,y, test_size=0.2)"
   ]
  },
  {
   "cell_type": "code",
   "execution_count": null,
   "metadata": {},
   "outputs": [],
   "source": [
    "#Algoritmo univariante de prueba F\n",
    "\n",
    "n_variables = 10\n",
    "\n",
    "selector_f = SelectKBest(f_classif, k= n_variables)\n",
    "\n",
    "selection_f = selector_f.fit(x_train,y_train)\n",
    "\n",
    "atrib_matrix_f = selection_f.get_support()\n",
    "\n",
    "atrib_names = x_train.columns.values\n",
    "\n",
    "print(atrib_names)\n",
    "print(atrib_matrix_f)\n",
    "\n",
    "selected_atributes_f = []\n",
    "\n",
    "for i in range(len(atrib_names)):\n",
    "    if atrib_matrix_f[i] == True:\n",
    "        selected_atributes_f.append(atrib_names[i])\n",
    "        \n",
    "print(selected_atributes_f)"
   ]
  },
  {
   "cell_type": "markdown",
   "metadata": {},
   "source": [
    "## Metodo de empaquetamiento: Eliminacion recursiva de atributos (ERA)"
   ]
  },
  {
   "cell_type": "code",
   "execution_count": null,
   "metadata": {},
   "outputs": [],
   "source": [
    "#Eliminacion recursiva de atributos\n",
    "\n",
    "selector_elim = ExtraTreesClassifier()\n",
    "\n",
    "era = RFE(selector_elim, 49)\n",
    "\n",
    "selection_era = era.fit(x_train, y_train)\n",
    "\n",
    "atrib_matrix_era = selection_era.get_support()\n",
    "\n",
    "atrib_names = x_train.columns.values\n",
    "\n",
    "print(atrib_names)\n",
    "print(atrib_matrix_era)\n",
    "\n",
    "selected_atributes_era = []\n",
    "\n",
    "for i in range(len(atrib_names)):\n",
    "    if atrib_matrix_era[i] == True:\n",
    "        selected_atributes_era.append(atrib_names[i])\n",
    "        \n",
    "print(selected_atributes_era)"
   ]
  },
  {
   "cell_type": "markdown",
   "metadata": {},
   "source": [
    "# Bases de datos tras seleccion de caracteristicas (F y ERA)"
   ]
  },
  {
   "cell_type": "code",
   "execution_count": null,
   "metadata": {},
   "outputs": [],
   "source": [
    "#Base de datos tras F de Fisher\n",
    "\n",
    "x = db_final.drop(['Diagnosis'],axis=1)\n",
    "x_f = x[selected_atributes_f]\n",
    "y_f = db_final['Diagnosis']\n",
    "y_vals_f = np.eye(len(set(y_f)))[y_f]\n",
    "\n",
    "x_f.info()\n",
    "x_train_f,x_test_f,y_train_f,y_test_f = train_test_split(x_f,y_vals_f, test_size=0.2)"
   ]
  },
  {
   "cell_type": "code",
   "execution_count": null,
   "metadata": {},
   "outputs": [],
   "source": [
    "#Base de datos tras ERA\n",
    "x = db_final.drop(['Diagnosis'],axis=1)\n",
    "x_era = x[selected_atributes_era]\n",
    "y_era = db_final['Diagnosis']\n",
    "y_vals_era = np.eye(len(set(y_era)))[y_era]\n",
    "\n",
    "x_era.info()\n",
    "x_train_era,x_test_era,y_train_era,y_test_era = train_test_split(x_era,y_vals_era, test_size=0.2)"
   ]
  },
  {
   "cell_type": "markdown",
   "metadata": {},
   "source": [
    "## Seleccion de caracteristicas : Regresion logistica"
   ]
  },
  {
   "cell_type": "code",
   "execution_count": null,
   "metadata": {},
   "outputs": [],
   "source": [
    "#Crear modelo\n",
    "x = tf.placeholder(tf.float32, [None, 49])\n",
    "y_true = tf.placeholder(tf.float32, [None, 4])\n",
    "y_true_cls = tf.placeholder(tf.int64, [None])\n",
    "w = tf.Variable(tf.zeros([49, 4]))\n",
    "b = tf.Variable(tf.zeros([4]))\n",
    "logits = tf.matmul(x, w) + b\n",
    "y_pred = tf.nn.softmax(logits)\n",
    "y_pred_cls = tf.argmax(y_pred, axis=1) #axis=dimension\n",
    "\n",
    "y_test_cls_f = np.array([label.argmax() for label in y_test_f])\n",
    "y_test_cls_era = np.array([label.argmax() for label in y_test_era])"
   ]
  },
  {
   "cell_type": "code",
   "execution_count": null,
   "metadata": {},
   "outputs": [],
   "source": [
    "cross_entropy = tf.nn.softmax_cross_entropy_with_logits_v2(logits=logits,labels=y_true)\n",
    "#cost = tf.reduce_mean(cross_entropy)\n",
    "optimizer = tf.train.GradientDescentOptimizer(learning_rate=0.001).minimize(cross_entropy)\n",
    "correct_prediction = tf.equal(y_pred_cls, y_true_cls)\n",
    "accuracy = tf.reduce_mean(tf.cast(correct_prediction, tf.float32))"
   ]
  },
  {
   "cell_type": "code",
   "execution_count": null,
   "metadata": {},
   "outputs": [],
   "source": [
    "#Entrenamiento con F de Fisher\n",
    "session = tf.Session()\n",
    "session.run(tf.global_variables_initializer())\n",
    "def optimize(num_iterations):\n",
    "    for i in range(num_iterations):\n",
    "        \n",
    "        feed_dict_train = {x: x_train_f, y_true: y_train_f}\n",
    "\n",
    "        session.run(optimizer, feed_dict=feed_dict_train)\n"
   ]
  },
  {
   "cell_type": "code",
   "execution_count": null,
   "metadata": {},
   "outputs": [],
   "source": [
    "#Validacion con F de Fisher\n",
    "classes = ['SMD','Hepatópatas','Oncológicos','PTI']\n",
    "\n",
    "feed_dict_test = {x: x_test_f,\n",
    "                  y_true: y_test_f,\n",
    "                  y_true_cls: y_test_cls_f}\n",
    "\n",
    "def print_accuracy():\n",
    "    # Use TensorFlow to compute the accuracy.\n",
    "    acc = session.run(accuracy, feed_dict=feed_dict_test)\n",
    "\n",
    "    # Print the accuracy.\n",
    "    print(\"Accuracy on test-set: {0:.1%}\".format(acc))\n",
    "\n",
    "def plot_confusion_matrix(normalize=False):\n",
    "\n",
    "    # Compute confusion matrix\n",
    "    # Only use the labels that appear in the data\n",
    "    #classes = classes[unique_labels(y_true, y_pred)]\n",
    "    \n",
    "    # Get the true classifications for the test-set.\n",
    "    cls_true = y_test_cls_f\n",
    "\n",
    "    # Get the predicted classifications for the test-set.\n",
    "    cls_pred = session.run(y_pred_cls, feed_dict=feed_dict_test)\n",
    "\n",
    "    # Get the confusion matrix using sklearn.\n",
    "    cm = confusion_matrix(y_true=cls_true,\n",
    "                          y_pred=cls_pred)\n",
    "\n",
    "    # Print the confusion matrix as text.\n",
    "    print(cm)\n",
    "    \n",
    "    fig, ax = plt.subplots()\n",
    "    im = ax.imshow(cm, interpolation='nearest', cmap=plt.cm.Blues)\n",
    "    ax.figure.colorbar(im, ax=ax)\n",
    "    # We want to show all ticks...\n",
    "    ax.set(xticks=np.arange(cm.shape[1]),\n",
    "           yticks=np.arange(cm.shape[0]),\n",
    "           # ... and label them with the respective list entries\n",
    "           xticklabels=classes, yticklabels=classes,\n",
    "           title='Matriz de confusión',\n",
    "           ylabel='True label',\n",
    "           xlabel='Predicted label')\n",
    "\n",
    "    # Rotate the tick labels and set their alignment.\n",
    "    plt.setp(ax.get_xticklabels(), rotation=45, ha=\"right\",\n",
    "             rotation_mode=\"anchor\")\n",
    "\n",
    "    # Loop over data dimensions and create text annotations.\n",
    "    fmt = '.2f' if normalize else 'd'\n",
    "    thresh = cm.max() / 2.\n",
    "    for i in range(cm.shape[0]):\n",
    "        for j in range(cm.shape[1]):\n",
    "            ax.text(j, i, format(cm[i, j], fmt),\n",
    "                    ha=\"center\", va=\"center\",\n",
    "                    color=\"white\" if cm[i, j] > thresh else \"black\")\n",
    "    fig.tight_layout()\n",
    "    return ax"
   ]
  },
  {
   "cell_type": "code",
   "execution_count": null,
   "metadata": {},
   "outputs": [],
   "source": [
    "optimize(num_iterations=1000)\n",
    "plot_confusion_matrix()\n",
    "print_accuracy()\n"
   ]
  },
  {
   "cell_type": "code",
   "execution_count": null,
   "metadata": {},
   "outputs": [],
   "source": []
  }
 ],
 "metadata": {
  "kernelspec": {
   "display_name": "Python 3",
   "language": "python",
   "name": "python3"
  },
  "language_info": {
   "codemirror_mode": {
    "name": "ipython",
    "version": 3
   },
   "file_extension": ".py",
   "mimetype": "text/x-python",
   "name": "python",
   "nbconvert_exporter": "python",
   "pygments_lexer": "ipython3",
   "version": "3.6.6"
  }
 },
 "nbformat": 4,
 "nbformat_minor": 2
}
