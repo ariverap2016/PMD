{
 "cells": [
  {
   "cell_type": "code",
   "execution_count": 1,
   "metadata": {},
   "outputs": [
    {
     "name": "stdout",
     "output_type": "stream",
     "text": [
      "WARNING:tensorflow:From /home/alumnos/dmanriqu/.conda/envs/optimization/lib/python3.7/site-packages/tensorflow_core/python/compat/v2_compat.py:88: disable_resource_variables (from tensorflow.python.ops.variable_scope) is deprecated and will be removed in a future version.\n",
      "Instructions for updating:\n",
      "non-resource variables are not supported in the long term\n"
     ]
    },
    {
     "name": "stderr",
     "output_type": "stream",
     "text": [
      "Using TensorFlow backend.\n"
     ]
    }
   ],
   "source": [
    "import pandas as pd\n",
    "import matplotlib.pyplot as plt\n",
    "import sklearn as sk\n",
    "from sklearn.model_selection import train_test_split\n",
    "from sklearn.neighbors import KNeighborsClassifier\n",
    "from sklearn.model_selection import cross_val_score\n",
    "from sklearn.metrics import confusion_matrix\n",
    "from sklearn import neural_network\n",
    "from sklearn import linear_model\n",
    "from sklearn import tree\n",
    "#import graphviz \n",
    "import numpy as np\n",
    "from scipy import stats \n",
    "from sklearn import preprocessing\n",
    "from sklearn.feature_selection import SelectKBest, f_classif, RFE\n",
    "from sklearn.ensemble import ExtraTreesClassifier\n",
    "import tensorflow as tf\n",
    "import tensorflow.compat.v1 as tf\n",
    "tf.disable_v2_behavior() \n",
    "from tensorflow import keras\n",
    "from keras.models import Sequential\n",
    "from keras.layers.core import Dense"
   ]
  },
  {
   "cell_type": "markdown",
   "metadata": {},
   "source": [
    "# Etapa 1: Preprocesamiento"
   ]
  },
  {
   "cell_type": "markdown",
   "metadata": {},
   "source": [
    "## Cargamos las bases de datos (excel)\n"
   ]
  },
  {
   "cell_type": "code",
   "execution_count": 2,
   "metadata": {},
   "outputs": [],
   "source": [
    "#Cargamos las bases de datos\n",
    "\n",
    "db_displasia = pd.read_excel('SMD.xls')\n",
    "\n",
    "\n",
    "db_hepatopata = pd.read_excel('Hepatopata.xls')\n",
    "\n",
    "\n",
    "db_oncologicos = pd.read_excel('Oncologicos.xls')\n",
    "\n",
    "\n",
    "db_PTI = pd.read_excel('PTI.xls')"
   ]
  },
  {
   "cell_type": "markdown",
   "metadata": {},
   "source": [
    "## Informacion de cada una de las db\n"
   ]
  },
  {
   "cell_type": "code",
   "execution_count": 3,
   "metadata": {},
   "outputs": [
    {
     "name": "stdout",
     "output_type": "stream",
     "text": [
      "<class 'pandas.core.frame.DataFrame'>\n",
      "RangeIndex: 417 entries, 0 to 416\n",
      "Columns: 110 entries, LEU to ESSYS\n",
      "dtypes: float64(93), int64(9), object(8)\n",
      "memory usage: 358.4+ KB\n"
     ]
    }
   ],
   "source": [
    "#Informacion SMD\n",
    "db_displasia.info()"
   ]
  },
  {
   "cell_type": "code",
   "execution_count": 4,
   "metadata": {},
   "outputs": [
    {
     "name": "stdout",
     "output_type": "stream",
     "text": [
      "<class 'pandas.core.frame.DataFrame'>\n",
      "RangeIndex: 342 entries, 0 to 341\n",
      "Data columns (total 88 columns):\n",
      "LEU      342 non-null float64\n",
      "NEU      342 non-null float64\n",
      "NEUp     342 non-null float64\n",
      "LIN      342 non-null float64\n",
      "LINp     342 non-null float64\n",
      "MON      342 non-null float64\n",
      "MONp     342 non-null float64\n",
      "EOS      342 non-null float64\n",
      "EOSp     342 non-null float64\n",
      "BAS      342 non-null float64\n",
      "BASp     342 non-null float64\n",
      "IG       342 non-null float64\n",
      "IGp      342 non-null float64\n",
      "ERIT     342 non-null float64\n",
      "HGB      342 non-null float64\n",
      "HCT      342 non-null float64\n",
      "VCM      342 non-null float64\n",
      "HCM      342 non-null float64\n",
      "CHCM     342 non-null float64\n",
      "RDW      342 non-null object\n",
      "ERBL     342 non-null float64\n",
      "ERBLp    342 non-null float64\n",
      "RET      49 non-null float64\n",
      "RETp     49 non-null float64\n",
      "FRI      49 non-null float64\n",
      "RETHE    49 non-null float64\n",
      "PLT      341 non-null float64\n",
      "VPM      342 non-null object\n",
      "IPF      234 non-null float64\n",
      "HIPER    49 non-null float64\n",
      "HYPO     49 non-null float64\n",
      "MACR     0 non-null float64\n",
      "MICRO    0 non-null float64\n",
      "FRAGM    49 non-null float64\n",
      "MacR     342 non-null float64\n",
      "MicR     342 non-null float64\n",
      "NE_R     342 non-null float64\n",
      "LY_R     342 non-null float64\n",
      "MO_R     342 non-null float64\n",
      "EO_R     342 non-null float64\n",
      "BA_R     342 non-null float64\n",
      "RBCO     49 non-null float64\n",
      "MCHCO    49 non-null float64\n",
      "BA-D#    342 non-null float64\n",
      "BA-D%    342 non-null float64\n",
      "BA-N#    342 non-null float64\n",
      "BA-N%    342 non-null float64\n",
      "D-HE     49 non-null float64\n",
      "FRCA     49 non-null float64\n",
      "HFLCA    342 non-null float64\n",
      "HFLCP    342 non-null float64\n",
      "HIPF     234 non-null float64\n",
      "IPFA     234 non-null float64\n",
      "IRF-Y    49 non-null float64\n",
      "LIN_a    342 non-null float64\n",
      "LIN_p    342 non-null float64\n",
      "LY-WX    342 non-null int64\n",
      "LY-WY    342 non-null int64\n",
      "LY-WZ    342 non-null int64\n",
      "LY-X     342 non-null float64\n",
      "LY-Y     342 non-null float64\n",
      "LY-Z     342 non-null float64\n",
      "MO-WX    342 non-null int64\n",
      "MO-WY    342 non-null int64\n",
      "MO-WZ    342 non-null int64\n",
      "MO-X     342 non-null float64\n",
      "MO-Y     342 non-null float64\n",
      "MO-Z     342 non-null float64\n",
      "NEFSC    342 non-null float64\n",
      "NESFL    342 non-null float64\n",
      "NESSC    342 non-null float64\n",
      "NEU_a    342 non-null float64\n",
      "NEU_p    342 non-null float64\n",
      "NE-WX    342 non-null int64\n",
      "NE-WY    342 non-null int64\n",
      "NE-WZ    342 non-null int64\n",
      "RBCHE    49 non-null float64\n",
      "RBC-Y    49 non-null float64\n",
      "RTNC     49 non-null float64\n",
      "RUPP     49 non-null float64\n",
      "RET-Y    49 non-null float64\n",
      "RPI      49 non-null float64\n",
      "TNC-D    0 non-null float64\n",
      "TNC-N    342 non-null float64\n",
      "TNC-P    23 non-null float64\n",
      "WBC-D    342 non-null float64\n",
      "WBC-N    342 non-null float64\n",
      "WBC-P    23 non-null float64\n",
      "dtypes: float64(77), int64(9), object(2)\n",
      "memory usage: 235.2+ KB\n"
     ]
    }
   ],
   "source": [
    "#Informacion Hepatopata\n",
    "db_hepatopata.info()"
   ]
  },
  {
   "cell_type": "code",
   "execution_count": 5,
   "metadata": {},
   "outputs": [
    {
     "name": "stdout",
     "output_type": "stream",
     "text": [
      "<class 'pandas.core.frame.DataFrame'>\n",
      "RangeIndex: 303 entries, 0 to 302\n",
      "Data columns (total 88 columns):\n",
      "LEU      303 non-null float64\n",
      "NEU      303 non-null float64\n",
      "NEUp     303 non-null float64\n",
      "LIN      303 non-null float64\n",
      "LINp     303 non-null float64\n",
      "MON      303 non-null float64\n",
      "MONp     303 non-null float64\n",
      "EOS      303 non-null float64\n",
      "EOSp     303 non-null float64\n",
      "BAS      303 non-null float64\n",
      "BASp     303 non-null float64\n",
      "IG       303 non-null float64\n",
      "IGp      303 non-null float64\n",
      "ERIT     303 non-null float64\n",
      "HGB      303 non-null float64\n",
      "HCT      303 non-null float64\n",
      "VCM      303 non-null float64\n",
      "HCM      303 non-null float64\n",
      "CHCM     303 non-null float64\n",
      "RDW      303 non-null float64\n",
      "ERBL     303 non-null float64\n",
      "ERBLp    303 non-null float64\n",
      "RET      82 non-null float64\n",
      "RETp     82 non-null float64\n",
      "FRI      82 non-null float64\n",
      "RETHE    82 non-null float64\n",
      "PLT      302 non-null float64\n",
      "VPM      303 non-null object\n",
      "IPF      82 non-null float64\n",
      "HIPER    82 non-null float64\n",
      "HYPO     82 non-null float64\n",
      "MACR     0 non-null float64\n",
      "MICRO    0 non-null float64\n",
      "FRAGM    82 non-null float64\n",
      "MacR     303 non-null float64\n",
      "MicR     303 non-null float64\n",
      "NE_R     303 non-null float64\n",
      "LY_R     303 non-null float64\n",
      "MO_R     303 non-null float64\n",
      "EO_R     303 non-null float64\n",
      "BA_R     303 non-null float64\n",
      "RBCO     82 non-null float64\n",
      "MCHCO    82 non-null float64\n",
      "BA-D#    303 non-null float64\n",
      "BA-D%    303 non-null float64\n",
      "BA-N#    303 non-null float64\n",
      "BA-N%    303 non-null float64\n",
      "D-HE     82 non-null float64\n",
      "FRCA     82 non-null float64\n",
      "HFLCA    303 non-null float64\n",
      "HFLCP    303 non-null float64\n",
      "HIPF     82 non-null float64\n",
      "IPFA     82 non-null float64\n",
      "IRF-Y    82 non-null float64\n",
      "LIN_a    303 non-null float64\n",
      "LIN_p    303 non-null float64\n",
      "LY-WX    303 non-null int64\n",
      "LY-WY    303 non-null int64\n",
      "LY-WZ    303 non-null int64\n",
      "LY-X     303 non-null float64\n",
      "LY-Y     303 non-null float64\n",
      "LY-Z     303 non-null float64\n",
      "MO-WX    303 non-null int64\n",
      "MO-WY    303 non-null int64\n",
      "MO-WZ    303 non-null int64\n",
      "MO-X     303 non-null float64\n",
      "MO-Y     303 non-null float64\n",
      "MO-Z     303 non-null float64\n",
      "NEFSC    303 non-null float64\n",
      "NESFL    303 non-null float64\n",
      "NESSC    303 non-null float64\n",
      "NEU_a    303 non-null float64\n",
      "NEU_p    303 non-null float64\n",
      "NE-WX    303 non-null int64\n",
      "NE-WY    303 non-null int64\n",
      "NE-WZ    303 non-null int64\n",
      "RBCHE    82 non-null float64\n",
      "RBC-Y    82 non-null float64\n",
      "RTNC     82 non-null float64\n",
      "RUPP     82 non-null float64\n",
      "RET-Y    82 non-null float64\n",
      "RPI      82 non-null float64\n",
      "TNC-D    0 non-null float64\n",
      "TNC-N    303 non-null float64\n",
      "TNC-P    115 non-null float64\n",
      "WBC-D    303 non-null float64\n",
      "WBC-N    303 non-null float64\n",
      "WBC-P    115 non-null float64\n",
      "dtypes: float64(78), int64(9), object(1)\n",
      "memory usage: 208.4+ KB\n"
     ]
    }
   ],
   "source": [
    "#Informacion oncologicos\n",
    "db_oncologicos.info()"
   ]
  },
  {
   "cell_type": "code",
   "execution_count": 6,
   "metadata": {},
   "outputs": [
    {
     "name": "stdout",
     "output_type": "stream",
     "text": [
      "<class 'pandas.core.frame.DataFrame'>\n",
      "RangeIndex: 201 entries, 0 to 200\n",
      "Columns: 110 entries, LEU to ESSYS\n",
      "dtypes: float64(93), int64(10), object(7)\n",
      "memory usage: 172.8+ KB\n"
     ]
    }
   ],
   "source": [
    "#Informacion PTI\n",
    "db_PTI.info()"
   ]
  },
  {
   "cell_type": "markdown",
   "metadata": {},
   "source": [
    "## Limpieza de variables bajo supervision clinica y codificacion de etiquetas"
   ]
  },
  {
   "cell_type": "code",
   "execution_count": 7,
   "metadata": {},
   "outputs": [],
   "source": [
    "\n",
    "db_smd = db_displasia.drop(['PLTI','PLTF','PLTO','MNEU','MLIN','MMON','MBAS','MEOS','MCAS','MMET','MMIE','MPRO','CPLAS','MBLS','MERI','FRSP','COMHE','AVSBL','AVSPL','AVSRJ','AVNRB','ESSYS','WBC-P','IPFA','IPF','HIPF','VPM','RDW','NEUp','LINp','MONp','EOSp','BASp','IGp','ERBLp','RET','RETp','FRI','RETHE','HIPER','HYPO','MACR','MICRO','FRAGM','RBCO','MCHCO','BA-D%','BA-N%','D-HE','FRCA','IRF-Y','LIN_p','NEU_p','RBCHE','RBC-Y','RTNC','RUPP','RET-Y','RPI','TNC-D','TNC-P'],axis=1)\n"
   ]
  },
  {
   "cell_type": "code",
   "execution_count": 8,
   "metadata": {},
   "outputs": [],
   "source": [
    "#Añadimos una nueva variable que identifique la patologia (SMD --> 0)\n",
    "\n",
    "db_smd['Diagnosis']=np.zeros((417,1),dtype=np.int8)"
   ]
  },
  {
   "cell_type": "code",
   "execution_count": 9,
   "metadata": {},
   "outputs": [],
   "source": [
    "db_hpt = db_hepatopata.drop(['WBC-P','IPFA','IPF','HIPF','VPM','RDW','NEUp','LINp','MONp','EOSp','BASp','IGp','ERBLp','RET','RETp','FRI','RETHE','HIPER','HYPO','MACR','MICRO','FRAGM','RBCO','MCHCO','BA-D%','BA-N%','D-HE','FRCA','IRF-Y','LIN_p','NEU_p','RBCHE','RBC-Y','RTNC','RUPP','RET-Y','RPI','TNC-D','TNC-P'],axis=1)\n"
   ]
  },
  {
   "cell_type": "code",
   "execution_count": 10,
   "metadata": {},
   "outputs": [],
   "source": [
    "#Añadimos una variable que identifique el diagnostico (HPT --> 1)\n",
    "db_hpt['Diagnosis']=np.ones((342,1),dtype=np.int8)"
   ]
  },
  {
   "cell_type": "code",
   "execution_count": 11,
   "metadata": {},
   "outputs": [],
   "source": [
    "db_onc = db_oncologicos.drop(['WBC-P','IPFA','IPF','HIPF','VPM','RDW','NEUp','LINp','MONp','EOSp','BASp','IGp','ERBLp','RET','RETp','FRI','RETHE','HIPER','HYPO','MACR','MICRO','FRAGM','RBCO','MCHCO','BA-D%','BA-N%','D-HE','FRCA','IRF-Y','LIN_p','NEU_p','RBCHE','RBC-Y','RTNC','RUPP','RET-Y','RPI','TNC-D','TNC-P'],axis=1)\n"
   ]
  },
  {
   "cell_type": "code",
   "execution_count": 12,
   "metadata": {},
   "outputs": [],
   "source": [
    "#Añadimos una variable que identifique el diagnostico (ONC --> 2)\n",
    "db_onc['Diagnosis']=np.full((303,1),2)"
   ]
  },
  {
   "cell_type": "code",
   "execution_count": 13,
   "metadata": {},
   "outputs": [],
   "source": [
    "\n",
    "db_pti = db_PTI.drop(['PLTI','PLTF','PLTO','MNEU','MLIN','MMON','MBAS','MEOS','MCAS','MMET','MMIE','MPRO','CPLAS','MBLS','MERI','FRSP','COMHE','AVSBL','AVSPL','AVSRJ','AVNRB','ESSYS','WBC-P','IPFA','IPF','HIPF','VPM','RDW','NEUp','LINp','MONp','EOSp','BASp','IGp','ERBLp','RET','RETp','FRI','RETHE','HIPER','HYPO','MACR','MICRO','FRAGM','RBCO','MCHCO','BA-D%','BA-N%','D-HE','FRCA','IRF-Y','LIN_p','NEU_p','RBCHE','RBC-Y','RTNC','RUPP','RET-Y','RPI','TNC-D','TNC-P'],axis=1)\n"
   ]
  },
  {
   "cell_type": "code",
   "execution_count": 14,
   "metadata": {},
   "outputs": [],
   "source": [
    "#Añadimos una variable que identifique el diagnostico\n",
    "db_pti['Diagnosis']=np.full((201,1),3)"
   ]
  },
  {
   "cell_type": "markdown",
   "metadata": {},
   "source": [
    "## Fusionamos las bases de datos y representamos diagrama de cajas y bigotes"
   ]
  },
  {
   "cell_type": "code",
   "execution_count": 16,
   "metadata": {},
   "outputs": [
    {
     "data": {
      "image/png": "[encoded data removed]",
      "text/plain": [
       "<Figure size 3600x3600 with 100 Axes>"
      ]
     },
     "metadata": {
      "needs_background": "light"
     },
     "output_type": "display_data"
    }
   ],
   "source": [
    "db_final = pd.concat([db_smd,db_hpt,db_onc,db_pti])\n",
    "\n",
    "#db_final.info()\n",
    "\n",
    "db_final = db_final.replace(np.nan ,np.mean(db_final['PLT']))\n",
    "\n",
    "\n",
    "\n",
    "\n",
    "db_final.plot(kind='box',subplots=True, layout= (10,10), sharex= False, sharey = False, figsize = (50,50))\n",
    "plt.show()"
   ]
  },
  {
   "cell_type": "markdown",
   "metadata": {},
   "source": [
    "## Opcional: Eliminar los outliers utilizando z-score"
   ]
  },
  {
   "cell_type": "code",
   "execution_count": null,
   "metadata": {},
   "outputs": [],
   "source": [
    "#Obtenemos z-score\n",
    "\n",
    "z = np.abs(stats.zscore(db_final))\n",
    "\n",
    "\n",
    "#Establecemps un umbral \n",
    "\n",
    "threshold = 2\n",
    "pos = np.where(z >threshold)\n",
    "\n",
    "#Eliminamos los outliers identificados por z-score \n",
    "\n",
    "#db_final = db_final[(z < threshold).all(axis=1)]"
   ]
  },
  {
   "cell_type": "markdown",
   "metadata": {},
   "source": [
    "## Aleatorizamos y realizamos las particiones (Train y Validacion)"
   ]
  },
  {
   "cell_type": "code",
   "execution_count": 17,
   "metadata": {},
   "outputs": [],
   "source": [
    "#Realizamos las particiones de entrenamiento y test\n",
    "\n",
    "x = db_final.drop(['Diagnosis'],axis=1)\n",
    "y = db_final['Diagnosis']\n",
    "y_vals = np.eye(len(set(y)))[y]\n",
    "\n",
    "\n",
    "x_train,x_test,y_train,y_test = train_test_split(x,y_vals, test_size=0.2, random_state=7)\n",
    "\n",
    "y_test_cls = np.array([label.argmax() for label in y_test])"
   ]
  },
  {
   "cell_type": "markdown",
   "metadata": {},
   "source": [
    "## Cargamos las bases de datos de Test (una por patologia)"
   ]
  },
  {
   "cell_type": "code",
   "execution_count": 18,
   "metadata": {},
   "outputs": [],
   "source": [
    "db_displasia_test = pd.read_excel('smdtest.xls')\n",
    "\n",
    "\n",
    "db_hepatopata_test = pd.read_excel('hpttest.xls')\n",
    "\n",
    "\n",
    "db_oncologicos_test = pd.read_excel('oncotest.xls')\n",
    "\n",
    "\n",
    "db_PTI_test = pd.read_excel('ptitest.xls')"
   ]
  },
  {
   "cell_type": "markdown",
   "metadata": {},
   "source": [
    "## Limpieza de variables en test bajo supervision clinica y codificacion de etiquetas"
   ]
  },
  {
   "cell_type": "code",
   "execution_count": 19,
   "metadata": {},
   "outputs": [],
   "source": [
    "db_smd_test = db_displasia_test.drop(['Número','PLTI','PLTF','PLTO','MNEU','MLIN','MMON','MBAS','MEOS','MCAS','MMET','MMIE','MPRO','CPLAS','MBLS','MERI','FRSP','COMHE','WBC-P','IPFA','IPF','HIPF','VPM','RDW','NEUp','LINp','MONp','EOSp','BASp','IGp','ERBLp','RET','RETp','FRI','RETHE','HIPER','HYPO','MACR','MICRO','FRAGM','RBCO','MCHCO','BA-D%','BA-N%','D-HE','FRCA','IRF-Y','LIN_p','NEU_p','RBCHE','RBC-Y','RTNC','RUPP','RET-Y','RPI','TNC-D','TNC-P'],axis=1)\n",
    "db_smd_test['Diagnosis']=np.zeros((10,1),dtype=np.int8)\n",
    "\n",
    "db_hpt_test = db_hepatopata_test.drop(['Número','PLTI','PLTF','PLTO','MNEU','MLIN','MMON','MBAS','MEOS','MCAS','MMET','MMIE','MPRO','CPLAS','MBLS','MERI','FRSP','COMHE','WBC-P','IPFA','IPF','HIPF','VPM','RDW','NEUp','LINp','MONp','EOSp','BASp','IGp','ERBLp','RET','RETp','FRI','RETHE','HIPER','HYPO','MACR','MICRO','FRAGM','RBCO','MCHCO','BA-D%','BA-N%','D-HE','FRCA','IRF-Y','LIN_p','NEU_p','RBCHE','RBC-Y','RTNC','RUPP','RET-Y','RPI','TNC-D','TNC-P'],axis=1)\n",
    "db_hpt_test['Diagnosis']=np.ones((19,1),dtype=np.int8)\n",
    "\n",
    "\n",
    "db_onc_test = db_oncologicos_test.drop(['Número','PLTI','PLTF','PLTO','MNEU','MLIN','MMON','MBAS','MEOS','MCAS','MMET','MMIE','MPRO','CPLAS','MBLS','MERI','FRSP','COMHE','WBC-P','IPFA','IPF','HIPF','VPM','RDW','NEUp','LINp','MONp','EOSp','BASp','IGp','ERBLp','RET','RETp','FRI','RETHE','HIPER','HYPO','MACR','MICRO','FRAGM','RBCO','MCHCO','BA-D%','BA-N%','D-HE','FRCA','IRF-Y','LIN_p','NEU_p','RBCHE','RBC-Y','RTNC','RUPP','RET-Y','RPI','TNC-D','TNC-P'],axis=1)\n",
    "db_onc_test['Diagnosis']=np.full((19,1),2,dtype=np.int8)\n",
    "\n",
    "db_pti_test = db_PTI_test.drop(['Número','Fecha','Código Externo','PLTI','PLTF','PLTO','MNEU','MLIN','MMON','MBAS','MEOS','MCAS','MMET','MMIE','MPRO','CPLAS','MBLS','MERI','FRSP','COMHE','WBC-P','IPFA','IPF','HIPF','VPM','RDW','NEUp','LINp','MONp','EOSp','BASp','IGp','ERBLp','RET','RETp','FRI','RETHE','HIPER','HYPO','MACR','MICRO','FRAGM','RBCO','MCHCO','BA-D%','BA-N%','D-HE','FRCA','IRF-Y','LIN_p','NEU_p','RBCHE','RBC-Y','RTNC','RUPP','RET-Y','RPI','TNC-D','TNC-P'],axis=1)\n",
    "db_pti_test['Diagnosis']=np.full((4,1),3,dtype=np.int8)\n"
   ]
  },
  {
   "cell_type": "markdown",
   "metadata": {},
   "source": [
    "# Etapa 2: Machine Learning (Regresion logistica, Knn y Perceptron multicapa)"
   ]
  },
  {
   "cell_type": "markdown",
   "metadata": {},
   "source": [
    "## Estandarizador y entradas estandarizadas (se aplicara en caso necesario)"
   ]
  },
  {
   "cell_type": "code",
   "execution_count": 20,
   "metadata": {},
   "outputs": [],
   "source": [
    "scaler = preprocessing.StandardScaler().fit(x_train)\n",
    "\n",
    "x_train_s = scaler.transform(x_train)\n",
    "x_test_s = scaler.transform(x_test)"
   ]
  },
  {
   "cell_type": "markdown",
   "metadata": {},
   "source": [
    "## Regresion logistica (Modelo)"
   ]
  },
  {
   "cell_type": "code",
   "execution_count": 21,
   "metadata": {},
   "outputs": [],
   "source": [
    "x = tf.placeholder(tf.float32, [None, 49])\n",
    "y_true = tf.placeholder(tf.float32, [None, 4])\n",
    "y_true_cls = tf.placeholder(tf.int64, [None])\n",
    "w = tf.Variable(tf.zeros([49, 4]))\n",
    "b = tf.Variable(tf.zeros([4]))\n",
    "logits = tf.matmul(x, w) + b\n",
    "y_pred = tf.nn.softmax(logits)\n",
    "y_pred_cls = tf.argmax(y_pred, axis=1) #axis=dimension\n",
    "#y_test_cls = np.array([label.argmax() for label in y_test])"
   ]
  },
  {
   "cell_type": "code",
   "execution_count": 22,
   "metadata": {},
   "outputs": [],
   "source": [
    "cross_entropy = tf.nn.softmax_cross_entropy_with_logits_v2(logits=logits,labels=y_true)\n",
    "cost = tf.reduce_mean(cross_entropy)\n",
    "optimizer = tf.train.GradientDescentOptimizer(learning_rate=0.01).minimize(cost)\n",
    "correct_prediction = tf.equal(y_pred_cls, y_true_cls)\n",
    "accuracy = tf.reduce_mean(tf.cast(correct_prediction, tf.float32))"
   ]
  },
  {
   "cell_type": "markdown",
   "metadata": {},
   "source": [
    "## Regresion logistica (Entrenamiento)"
   ]
  },
  {
   "cell_type": "code",
   "execution_count": 23,
   "metadata": {},
   "outputs": [],
   "source": [
    "session = tf.Session()\n",
    "session.run(tf.global_variables_initializer())\n",
    "def optimize(num_iterations):\n",
    "    for i in range(num_iterations):\n",
    "        \n",
    "        feed_dict_train = {x: x_train_s, y_true: y_train}\n",
    "\n",
    "        session.run(optimizer, feed_dict=feed_dict_train)"
   ]
  },
  {
   "cell_type": "markdown",
   "metadata": {},
   "source": [
    "## Regresion logistica (Validacion)"
   ]
  },
  {
   "cell_type": "code",
   "execution_count": 24,
   "metadata": {},
   "outputs": [],
   "source": [
    "classes = ['SMD','Hepatópatas','Oncológicos','PTI']\n",
    "\n",
    "feed_dict_test = {x: x_test_s,\n",
    "                  y_true: y_test,\n",
    "                  y_true_cls: y_test_cls}\n",
    "\n",
    "def print_accuracy():\n",
    "    # Use TensorFlow to compute the accuracy.\n",
    "    acc = session.run(accuracy, feed_dict=feed_dict_test)\n",
    "\n",
    "    # Print the accuracy.\n",
    "    print(\"Accuracy on test-set: {0:.1%}\".format(acc))\n",
    "\n",
    "def plot_confusion_matrix(normalize=False):\n",
    "\n",
    "    # Compute confusion matrix\n",
    "    # Only use the labels that appear in the data\n",
    "    #classes = classes[unique_labels(y_true, y_pred)]\n",
    "    \n",
    "    # Get the true classifications for the test-set.\n",
    "    cls_true = y_test_cls\n",
    "\n",
    "    # Get the predicted classifications for the test-set.\n",
    "    cls_pred = session.run(y_pred_cls, feed_dict=feed_dict_test)\n",
    "\n",
    "    # Get the confusion matrix using sklearn.\n",
    "    cm = confusion_matrix(y_true=cls_true,\n",
    "                          y_pred=cls_pred)\n",
    "\n",
    "    # Print the confusion matrix as text.\n",
    "    print(cm)\n",
    "    \n",
    "    fig, ax = plt.subplots()\n",
    "    im = ax.imshow(cm, interpolation='nearest', cmap=plt.cm.Blues)\n",
    "    ax.figure.colorbar(im, ax=ax)\n",
    "    # We want to show all ticks...\n",
    "    ax.set(xticks=np.arange(cm.shape[1]),\n",
    "           yticks=np.arange(cm.shape[0]),\n",
    "           # ... and label them with the respective list entries\n",
    "           xticklabels=classes, yticklabels=classes,\n",
    "           title='Matriz de confusión',\n",
    "           ylabel='True label',\n",
    "           xlabel='Predicted label')\n",
    "\n",
    "    # Rotate the tick labels and set their alignment.\n",
    "    plt.setp(ax.get_xticklabels(), rotation=45, ha=\"right\",\n",
    "             rotation_mode=\"anchor\")\n",
    "\n",
    "    # Loop over data dimensions and create text annotations.\n",
    "    fmt = '.2f' if normalize else 'd'\n",
    "    thresh = cm.max() / 2.\n",
    "    for i in range(cm.shape[0]):\n",
    "        for j in range(cm.shape[1]):\n",
    "            ax.text(j, i, format(cm[i, j], fmt),\n",
    "                    ha=\"center\", va=\"center\",\n",
    "                    color=\"white\" if cm[i, j] > thresh else \"black\")\n",
    "    fig.tight_layout()\n",
    "    return ax\n"
   ]
  },
  {
   "cell_type": "code",
   "execution_count": 25,
   "metadata": {},
   "outputs": [
    {
     "name": "stdout",
     "output_type": "stream",
     "text": [
      "[[66  6  6  5]\n",
      " [ 4 65  3  0]\n",
      " [ 8 19 32  4]\n",
      " [ 2  4  0 29]]\n",
      "Accuracy on test-set: 75.9%\n"
     ]
    },
    {
     "data": {
      "image/png": "[encoded data removed]",
      "text/plain": [
       "<Figure size 432x288 with 2 Axes>"
      ]
     },
     "metadata": {
      "needs_background": "light"
     },
     "output_type": "display_data"
    }
   ],
   "source": [
    "optimize(num_iterations=1000)\n",
    "plot_confusion_matrix()\n",
    "print_accuracy()"
   ]
  },
  {
   "cell_type": "code",
   "execution_count": 26,
   "metadata": {},
   "outputs": [],
   "source": [
    "session.close()"
   ]
  },
  {
   "cell_type": "markdown",
   "metadata": {},
   "source": [
    "## Knn (Modelo)"
   ]
  },
  {
   "cell_type": "code",
   "execution_count": 27,
   "metadata": {},
   "outputs": [],
   "source": [
    "# Creacion del modelo knn\n",
    "x_data_train = tf.placeholder(shape=[None, 49], dtype=tf.float32)\n",
    "y_data_train = tf.placeholder(shape=[None, 4], dtype=tf.float32)\n",
    "x_data_test = tf.placeholder(shape=[None, 49], dtype=tf.float32)"
   ]
  },
  {
   "cell_type": "markdown",
   "metadata": {},
   "source": [
    "## Knn (distancia Manhattan)"
   ]
  },
  {
   "cell_type": "code",
   "execution_count": 28,
   "metadata": {},
   "outputs": [
    {
     "name": "stdout",
     "output_type": "stream",
     "text": [
      "cv_k_Scores: [0.8260869565217391, 0.8142292490118577, 0.83399209486166, 0.8260869565217391, 0.8142292490118577, 0.8063241106719368, 0.8221343873517787, 0.8102766798418972, 0.8023715415019763, 0.8063241106719368, 0.8102766798418972, 0.8023715415019763, 0.782608695652174, 0.7707509881422925, 0.7747035573122529, 0.7628458498023716, 0.766798418972332, 0.7549407114624506, 0.7391304347826086, 0.7272727272727273]\n",
      "20\n",
      "20\n"
     ]
    },
    {
     "data": {
      "image/png": "[encoded data removed]",
      "text/plain": [
       "<Figure size 432x288 with 1 Axes>"
      ]
     },
     "metadata": {
      "needs_background": "light"
     },
     "output_type": "display_data"
    },
    {
     "name": "stdout",
     "output_type": "stream",
     "text": [
      "El valor óptimo de vecinos cercanos es: 5\n",
      "El máximo valor de accuracy es: 0.83399209486166\n"
     ]
    }
   ],
   "source": [
    "#Validacion cruzada para obtener una buena capacidad de generalizacion\n",
    "\n",
    "k_values = range(1,40,2)\n",
    "cv_k_scores = []\n",
    "\n",
    "distance = tf.reduce_sum(tf.abs(tf.subtract(x_data_train, tf.expand_dims(x_data_test, 1))), axis=2)\n",
    "\n",
    "for k in k_values:\n",
    "    _, top_k_indices = tf.nn.top_k(tf.negative(distance), k=k)\n",
    "    top_k_label = tf.gather(y_data_train, top_k_indices)\n",
    "\n",
    "    sum_up_predictions = tf.reduce_sum(top_k_label, axis=1)\n",
    "    prediction = tf.argmax(sum_up_predictions, axis=1)\n",
    "    sess = tf.Session()\n",
    "    prediction_outcome = sess.run(prediction, feed_dict = \n",
    "                              {x_data_train: x_train_s,\n",
    "                               x_data_test: x_test_s,\n",
    "                               y_data_train: y_train})\n",
    "    \n",
    "    accuracy = 0\n",
    "    for pred, actual in zip(prediction_outcome, y_test):\n",
    "        if pred == np.argmax(actual):\n",
    "            accuracy += 1\n",
    "    cv_k_scores.append(accuracy / len(prediction_outcome))\n",
    "\n",
    "        \n",
    "print('cv_k_Scores:',cv_k_scores)\n",
    "print(len(cv_k_scores))\n",
    "print(len(k_values))\n",
    "\n",
    "\n",
    "plt.plot(k_values, cv_k_scores)\n",
    "plt.grid()\n",
    "\n",
    "plt.xlabel('K')\n",
    "plt.ylabel('Accuracy')\n",
    "plt.show()\n",
    "\n",
    "\n",
    "# Seleccionamor el maximo porque consideramos accuracy\n",
    "\n",
    "print('El valor óptimo de vecinos cercanos es:',np.array(k_values)[cv_k_scores.index(np.array(cv_k_scores).max())])\n",
    "\n",
    "# Obtenemos el máximo valor de accuracy \n",
    "\n",
    "print('El máximo valor de accuracy es:',max(cv_k_scores))\n"
   ]
  },
  {
   "cell_type": "markdown",
   "metadata": {},
   "source": [
    "Se implementa la distancia Manhattan:valor absoluto de la diferencia entre los valores del vector de dos puntos de datos de x1 y x2.\n",
    "El comando 'tf.expand_dims' añade una dimension extra a 'x_data_test' para que se puede llevar a cabo la resta."
   ]
  },
  {
   "cell_type": "code",
   "execution_count": 29,
   "metadata": {},
   "outputs": [],
   "source": [
    "distance = tf.reduce_sum(tf.abs(tf.subtract(x_data_train, tf.expand_dims(x_data_test, 1))), axis=2)"
   ]
  },
  {
   "cell_type": "markdown",
   "metadata": {},
   "source": [
    "Reemplazamos el valor de k que hemos obtenido tras realizar validación cruzada."
   ]
  },
  {
   "cell_type": "code",
   "execution_count": 30,
   "metadata": {},
   "outputs": [],
   "source": [
    "k = 5\n",
    "\n",
    "# k puntos mas cercanos\n",
    "_, top_k_indices = tf.nn.top_k(tf.negative(distance), k=k)\n",
    "top_k_label = tf.gather(y_data_train, top_k_indices)\n",
    "\n",
    "sum_up_predictions = tf.reduce_sum(top_k_label, axis=1)\n",
    "prediction = tf.argmax(sum_up_predictions, axis=1)"
   ]
  },
  {
   "cell_type": "markdown",
   "metadata": {},
   "source": [
    "- Con la funcion 'tf.nn.top_k()', se obtienes los mayores valores y los índices de KNN. El primer valor de retorno, son los valores de las distancias y por lo tanto se descartan ya que la función 'tf.negative()' hace que los valores sean negativos.\n",
    "\n",
    "\n",
    "- Con la función 'tf.gather()' extraemos las etiquetas de entrenamiento asociadas a los índices de los vecinos más cercanos. Por tanto, top_k_label son las etiquetas codificadas.\n",
    "\n",
    "\n",
    "- Con la función 'tf.reduce_sum()', se obtiene la suma de elementos.\n",
    "\n",
    "\n",
    "- Con la funcion 'tf.argmax()' se obtienen las etiquetas predichas ya que con esta función se obtiene el índice del valor máximo."
   ]
  },
  {
   "cell_type": "markdown",
   "metadata": {},
   "source": [
    "## Knn (Manhattan) - Entrenamiento"
   ]
  },
  {
   "cell_type": "code",
   "execution_count": 31,
   "metadata": {},
   "outputs": [],
   "source": [
    "sess = tf.Session()\n",
    "# Obtenemos las predicciones\n",
    "prediction_outcome = sess.run(prediction, feed_dict = \n",
    "                              {x_data_train: x_train_s,\n",
    "                               x_data_test: x_test_s,\n",
    "                               y_data_train: y_train})"
   ]
  },
  {
   "cell_type": "markdown",
   "metadata": {},
   "source": [
    "## Knn (Manhattan) - Validacion"
   ]
  },
  {
   "cell_type": "code",
   "execution_count": 32,
   "metadata": {},
   "outputs": [
    {
     "name": "stdout",
     "output_type": "stream",
     "text": [
      "[[79  2  1  1]\n",
      " [ 2 65  4  1]\n",
      " [ 8 17 35  3]\n",
      " [ 0  0  3 32]]\n"
     ]
    }
   ],
   "source": [
    "# Obtenemos la matriz de confusión\n",
    "con = tf.confusion_matrix(labels=y_test_cls, predictions=prediction_outcome )\n",
    "sess = tf.Session()\n",
    "with sess.as_default():\n",
    "        print(sess.run(con))"
   ]
  },
  {
   "cell_type": "code",
   "execution_count": 33,
   "metadata": {},
   "outputs": [
    {
     "data": {
      "text/plain": [
       "Counter({1: 72, 0: 83, 2: 63, 3: 35})"
      ]
     },
     "execution_count": 33,
     "metadata": {},
     "output_type": "execute_result"
    }
   ],
   "source": [
    "import collections\n",
    "\n",
    "# Contamos cuantos pacientes hay en cada clase\n",
    "collections.Counter(y_test_cls)"
   ]
  },
  {
   "cell_type": "code",
   "execution_count": 34,
   "metadata": {},
   "outputs": [
    {
     "name": "stdout",
     "output_type": "stream",
     "text": [
      "0.83399209486166\n"
     ]
    }
   ],
   "source": [
    "accuracy = 0\n",
    "for pred, actual in zip(prediction_outcome, y_test):\n",
    "    if pred == np.argmax(actual):\n",
    "        accuracy += 1\n",
    "print(accuracy / len(prediction_outcome))"
   ]
  },
  {
   "cell_type": "markdown",
   "metadata": {},
   "source": [
    "## Knn (Euclidea)"
   ]
  },
  {
   "cell_type": "markdown",
   "metadata": {},
   "source": [
    "En este punto, se realiza validación cruzada tomando como medida de distancia la euclídea, ya que sabemos que KNN es sensible a la distancia que se considere (los vecinos cercanos pueden cambiar)."
   ]
  },
  {
   "cell_type": "code",
   "execution_count": 35,
   "metadata": {},
   "outputs": [
    {
     "data": {
      "image/png": "[encoded data removed]",
      "text/plain": [
       "<Figure size 432x288 with 1 Axes>"
      ]
     },
     "metadata": {
      "needs_background": "light"
     },
     "output_type": "display_data"
    },
    {
     "name": "stdout",
     "output_type": "stream",
     "text": [
      "El valor óptimo de vecinos cercanos es: 7\n",
      "El máximo valor de accuracy es: 0.8300395256916996\n"
     ]
    }
   ],
   "source": [
    "k_values = range(1,55,2)\n",
    "cv_k_scores = []\n",
    "\n",
    "# Definimos la distancia euclidea\n",
    "euclidian_distance = tf.sqrt(tf.reduce_sum(tf.square(tf.subtract(x_data_train, tf.expand_dims(x_data_test,1))), axis=2))\n",
    "\n",
    "\n",
    "for k in k_values:\n",
    "    _, top_k_indices = tf.nn.top_k(tf.negative(euclidian_distance), k=k)\n",
    "    top_k_label = tf.gather(y_data_train, top_k_indices)\n",
    "\n",
    "    sum_up_predictions = tf.reduce_sum(top_k_label, axis=1)\n",
    "    prediction = tf.argmax(sum_up_predictions, axis=1)\n",
    "    sess = tf.Session()\n",
    "    prediction_outcome = sess.run(prediction, feed_dict = \n",
    "                              {x_data_train: x_train_s,\n",
    "                               x_data_test: x_test_s,\n",
    "                               y_data_train: y_train})\n",
    "    \n",
    "    accuracy = 0\n",
    "    for pred, actual in zip(prediction_outcome, y_test):\n",
    "        if pred == np.argmax(actual):\n",
    "            accuracy += 1\n",
    "    cv_k_scores.append(accuracy / len(prediction_outcome))\n",
    "\n",
    "\n",
    "\n",
    "plt.plot(k_values, cv_k_scores)\n",
    "plt.grid()\n",
    "\n",
    "plt.xlabel('K')\n",
    "plt.ylabel('Accuracy')\n",
    "plt.show()\n",
    "\n",
    "\n",
    "# Seleccionamor el maximo porque consideramos accuracy\n",
    "\n",
    "print('El valor óptimo de vecinos cercanos es:',np.array(k_values)[cv_k_scores.index(np.array(cv_k_scores).max())])\n",
    "\n",
    "# Obtenemos el máximo valor de accuracy \n",
    "\n",
    "print('El máximo valor de accuracy es:',max(cv_k_scores))"
   ]
  },
  {
   "cell_type": "markdown",
   "metadata": {},
   "source": [
    "Hemos obtenido como valor óptimo de vecinos cercanos el valor 7, por tanto creamos el modelo con este valor de k."
   ]
  },
  {
   "cell_type": "code",
   "execution_count": 37,
   "metadata": {},
   "outputs": [],
   "source": [
    "k = 7\n",
    "\n",
    "# K puntos mas cercanos\n",
    "_, top_k_indices = tf.nn.top_k(tf.negative(euclidian_distance), k=k)\n",
    "top_k_label = tf.gather(y_data_train, top_k_indices)\n",
    "\n",
    "sum_up_predictions = tf.reduce_sum(top_k_label, axis=1)\n",
    "prediction = tf.argmax(sum_up_predictions, axis=1)"
   ]
  },
  {
   "cell_type": "markdown",
   "metadata": {},
   "source": [
    "## Knn (Euclidea) - Entrenamiento"
   ]
  },
  {
   "cell_type": "code",
   "execution_count": 38,
   "metadata": {},
   "outputs": [],
   "source": [
    "sess = tf.Session()\n",
    "prediction_outcome_d2 = sess.run(prediction, feed_dict = \n",
    "                              {x_data_train: x_train_s,\n",
    "                               x_data_test: x_test_s,\n",
    "                               y_data_train: y_train})"
   ]
  },
  {
   "cell_type": "markdown",
   "metadata": {},
   "source": [
    "## Knn (Euclidea) - Validacion"
   ]
  },
  {
   "cell_type": "code",
   "execution_count": 39,
   "metadata": {},
   "outputs": [
    {
     "name": "stdout",
     "output_type": "stream",
     "text": [
      "[[77  2  2  2]\n",
      " [ 2 65  3  2]\n",
      " [ 7 16 39  1]\n",
      " [ 1  3  2 29]]\n"
     ]
    }
   ],
   "source": [
    "# Matriz de confusión \n",
    "\n",
    "con = tf.confusion_matrix(labels=y_test_cls, predictions=prediction_outcome_d2 )\n",
    "sess = tf.Session()\n",
    "with sess.as_default():\n",
    "        print(sess.run(con))"
   ]
  },
  {
   "cell_type": "code",
   "execution_count": 40,
   "metadata": {},
   "outputs": [
    {
     "name": "stdout",
     "output_type": "stream",
     "text": [
      "Tasa de acierto: 0.8300395256916996\n"
     ]
    }
   ],
   "source": [
    "# Obtenemos la tasa de acierto\n",
    "accuracy_d2 = 0\n",
    "for pred, actual in zip(prediction_outcome_d2, y_test):\n",
    "    if pred == np.argmax(actual):\n",
    "        accuracy_d2 += 1\n",
    "print('Tasa de acierto:',accuracy_d2 / len(prediction_outcome_d2))\n",
    "\n"
   ]
  },
  {
   "cell_type": "markdown",
   "metadata": {},
   "source": [
    "## Red neuronal : Perceptron multicapa"
   ]
  },
  {
   "cell_type": "code",
   "execution_count": 41,
   "metadata": {},
   "outputs": [],
   "source": [
    "from keras.wrappers.scikit_learn import KerasClassifier\n",
    "from keras.layers import Dropout\n",
    "from sklearn.model_selection import GridSearchCV"
   ]
  },
  {
   "cell_type": "markdown",
   "metadata": {},
   "source": [
    "Obtenemos los valores de las etiquetas (0,1,2 y 3) ya que estaban codificadas, y para el entrenamiento de la red neuronal se requieren con dichos valores\n"
   ]
  },
  {
   "cell_type": "code",
   "execution_count": 42,
   "metadata": {},
   "outputs": [],
   "source": [
    "y_train_cls = np.array([label.argmax() for label in y_train])\n"
   ]
  },
  {
   "cell_type": "markdown",
   "metadata": {},
   "source": [
    "Validación cruzada - Tamaño del batch, épocas y optimizador"
   ]
  },
  {
   "cell_type": "code",
   "execution_count": 43,
   "metadata": {},
   "outputs": [],
   "source": [
    "def build_model(optimizer):\n",
    "  model = Sequential()\n",
    "  model.add(Dense(32, input_shape=(x_train_s.shape[1],), activation='relu'))\n",
    "  model.add(Dropout(0.1))\n",
    "  model.add(Dense(64, activation='relu'))\n",
    "  model.add(Dropout(0.1))\n",
    "  model.add(Dense(4, activation='sigmoid'))\n",
    "  model.compile(loss='categorical_crossentropy', optimizer=optimizer, metrics=['acc'])\n",
    "  return model\n",
    "\n"
   ]
  },
  {
   "cell_type": "code",
   "execution_count": 44,
   "metadata": {},
   "outputs": [
    {
     "name": "stdout",
     "output_type": "stream",
     "text": [
      "WARNING:tensorflow:From /home/alumnos/dmanriqu/.conda/envs/optimization/lib/python3.7/site-packages/tensorflow_core/python/ops/resource_variable_ops.py:1635: calling BaseResourceVariable.__init__ (from tensorflow.python.ops.resource_variable_ops) with constraint is deprecated and will be removed in a future version.\n",
      "Instructions for updating:\n",
      "If using Keras pass *_constraint arguments to layers.\n"
     ]
    },
    {
     "data": {
      "text/plain": [
       "{'batch_size': 16, 'epochs': 100, 'optimizer': 'rmsprop'}"
      ]
     },
     "execution_count": 44,
     "metadata": {},
     "output_type": "execute_result"
    }
   ],
   "source": [
    "parameters = parameters = {'batch_size': [16,32],\n",
    "             'epochs':[100,300],\n",
    "             'optimizer': ['adam', 'rmsprop']}\n",
    "\n",
    "estimator = KerasClassifier(build_fn=build_model, verbose=0)\n",
    "grid_search = GridSearchCV(estimator=estimator, param_grid=parameters, scoring='accuracy', cv=3)\n",
    "grid_search.fit(x_train_s, y_train_cls)\n",
    "grid_search.best_params_"
   ]
  },
  {
   "cell_type": "markdown",
   "metadata": {},
   "source": [
    "Validación cruzada - Número de neuronas de entrada\n",
    "\n",
    "Una vez que obtenemos los parámetros óptimos los definimos en el estimador y realizamos validación cruzada para obtener el número de neuronas a la entrada de las capas."
   ]
  },
  {
   "cell_type": "code",
   "execution_count": 45,
   "metadata": {},
   "outputs": [],
   "source": [
    "def build_model(l1, l2):\n",
    "  model = Sequential()\n",
    "  model.add(Dense(l1, input_shape=(x_train_s.shape[1],), activation='relu'))\n",
    "  model.add(Dropout(0.1))\n",
    "  model.add(Dense(l2, activation='relu'))\n",
    "  model.add(Dropout(0.1))\n",
    "  model.add(Dense(4, activation='sigmoid'))\n",
    "  model.compile(loss='categorical_crossentropy', optimizer='rmsprop', metrics=['accuracy'])\n",
    "  return model\n",
    "\n",
    "parameters = {'l1':[16,32,64],\n",
    "             'l2':[16,23,64]}\n",
    "\n"
   ]
  },
  {
   "cell_type": "code",
   "execution_count": 46,
   "metadata": {},
   "outputs": [
    {
     "data": {
      "text/plain": [
       "{'l1': 64, 'l2': 16}"
      ]
     },
     "execution_count": 46,
     "metadata": {},
     "output_type": "execute_result"
    }
   ],
   "source": [
    "estimator = KerasClassifier(build_fn=build_model, verbose=0, batch_size=32, epochs=100)\n",
    "grid_search = GridSearchCV(estimator=estimator, param_grid=parameters, scoring='accuracy', cv=3)\n",
    "grid_search.fit(x_train_s, y_train_cls) \n",
    "grid_search.best_params_"
   ]
  },
  {
   "cell_type": "markdown",
   "metadata": {},
   "source": [
    "Validación cruzada - Dropouts\n",
    "\n",
    "Una vez tenemos los correspondientes valores de las capas, los sustituimos y buscamos con los porcentajes de dropout óptimos"
   ]
  },
  {
   "cell_type": "code",
   "execution_count": 47,
   "metadata": {},
   "outputs": [],
   "source": [
    "#Dropouts\n",
    "\n",
    "def build_model(d1, d2):\n",
    "    model = Sequential()\n",
    "    model.add(Dense(64, input_shape=(x_train_s.shape[1],), activation='relu'))\n",
    "    model.add(Dropout(d1))\n",
    "    model.add(Dense(23, activation='relu'))\n",
    "    model.add(Dropout(d2))\n",
    "    model.add(Dense(4, activation='sigmoid'))\n",
    "    model.compile(loss='categorical_crossentropy', optimizer='rmsprop', metrics=['acc'])\n",
    "    return model\n",
    "\n",
    "parameters = {'d1':[0.1,0.2,0.3],\n",
    "             'd2':[0.1,0.2,0.3]}\n",
    "\n"
   ]
  },
  {
   "cell_type": "code",
   "execution_count": 48,
   "metadata": {},
   "outputs": [
    {
     "data": {
      "text/plain": [
       "{'d1': 0.2, 'd2': 0.1}"
      ]
     },
     "execution_count": 48,
     "metadata": {},
     "output_type": "execute_result"
    }
   ],
   "source": [
    "estimator = KerasClassifier(build_fn=build_model, verbose=0, batch_size=32, epochs=100)\n",
    "grid_search = GridSearchCV(estimator=estimator, param_grid=parameters, scoring='accuracy', cv=3)\n",
    "grid_search.fit(x_train_s, y_train_cls)\n",
    "grid_search.best_params_"
   ]
  },
  {
   "cell_type": "markdown",
   "metadata": {},
   "source": [
    "Una vez que hemos obtenido los parámetros libres a través de validación cruzada creamos el modelo definitivo"
   ]
  },
  {
   "cell_type": "code",
   "execution_count": 49,
   "metadata": {},
   "outputs": [],
   "source": [
    "# Crearemos una serie de capas de neuronas secuenciales\n",
    "model = Sequential()\n",
    "\n",
    "# Capa de entrada con 49 neuronas\n",
    "# La primera capa oculta tiene 64 neuronas\n",
    "model.add(Dense(64, input_shape=(x_train_s.shape[1],), activation='relu'))\n",
    "model.add(Dropout(0.3))\n",
    "model.add(Dense(23, activation='relu'))\n",
    "model.add(Dropout(0.3))\n",
    "\n",
    "# Agregamos una capa con 4 neuronas de salida y función de activación sigmoide\n",
    "model.add(Dense(4, activation='sigmoid'))\n"
   ]
  },
  {
   "cell_type": "code",
   "execution_count": 50,
   "metadata": {},
   "outputs": [],
   "source": [
    "# Función de pérdida: binary_crossentropy, optimizador= adam, definimos exactitud como métrica\n",
    "\n",
    "model.compile(loss='categorical_crossentropy',\n",
    "              optimizer='rmsprop',\n",
    "              metrics=['accuracy'])"
   ]
  },
  {
   "cell_type": "code",
   "execution_count": 51,
   "metadata": {},
   "outputs": [
    {
     "name": "stdout",
     "output_type": "stream",
     "text": [
      "Train on 909 samples, validate on 101 samples\n",
      "Epoch 1/100\n",
      "909/909 [==============================] - 1s 618us/step - loss: 1.3187 - accuracy: 0.3905 - val_loss: 1.2600 - val_accuracy: 0.4752\n",
      "Epoch 2/100\n",
      "909/909 [==============================] - 0s 64us/step - loss: 1.2474 - accuracy: 0.4730 - val_loss: 1.1699 - val_accuracy: 0.5842\n",
      "Epoch 3/100\n",
      "909/909 [==============================] - 0s 70us/step - loss: 1.1342 - accuracy: 0.5204 - val_loss: 1.0839 - val_accuracy: 0.6436\n",
      "Epoch 4/100\n",
      "909/909 [==============================] - 0s 72us/step - loss: 1.0437 - accuracy: 0.5809 - val_loss: 1.0277 - val_accuracy: 0.6535\n",
      "Epoch 5/100\n",
      "909/909 [==============================] - 0s 68us/step - loss: 0.9882 - accuracy: 0.6139 - val_loss: 0.9920 - val_accuracy: 0.6436\n",
      "Epoch 6/100\n",
      "909/909 [==============================] - 0s 60us/step - loss: 0.9383 - accuracy: 0.6205 - val_loss: 0.9665 - val_accuracy: 0.6436\n",
      "Epoch 7/100\n",
      "909/909 [==============================] - 0s 62us/step - loss: 0.8937 - accuracy: 0.6601 - val_loss: 0.9380 - val_accuracy: 0.6436\n",
      "Epoch 8/100\n",
      "909/909 [==============================] - 0s 69us/step - loss: 0.8818 - accuracy: 0.6502 - val_loss: 0.9202 - val_accuracy: 0.6832\n",
      "Epoch 9/100\n",
      "909/909 [==============================] - 0s 72us/step - loss: 0.8508 - accuracy: 0.6601 - val_loss: 0.8992 - val_accuracy: 0.6931\n",
      "Epoch 10/100\n",
      "909/909 [==============================] - 0s 60us/step - loss: 0.8236 - accuracy: 0.6744 - val_loss: 0.8882 - val_accuracy: 0.6931\n",
      "Epoch 11/100\n",
      "909/909 [==============================] - 0s 65us/step - loss: 0.8053 - accuracy: 0.6656 - val_loss: 0.8751 - val_accuracy: 0.7030\n",
      "Epoch 12/100\n",
      "909/909 [==============================] - 0s 64us/step - loss: 0.8137 - accuracy: 0.6733 - val_loss: 0.8518 - val_accuracy: 0.7030\n",
      "Epoch 13/100\n",
      "909/909 [==============================] - 0s 65us/step - loss: 0.7896 - accuracy: 0.6865 - val_loss: 0.8489 - val_accuracy: 0.6931\n",
      "Epoch 14/100\n",
      "909/909 [==============================] - 0s 60us/step - loss: 0.7479 - accuracy: 0.7052 - val_loss: 0.8459 - val_accuracy: 0.6931\n",
      "Epoch 15/100\n",
      "909/909 [==============================] - 0s 59us/step - loss: 0.7362 - accuracy: 0.7184 - val_loss: 0.8294 - val_accuracy: 0.7129\n",
      "Epoch 16/100\n",
      "909/909 [==============================] - 0s 59us/step - loss: 0.7308 - accuracy: 0.7118 - val_loss: 0.8103 - val_accuracy: 0.7327\n",
      "Epoch 17/100\n",
      "909/909 [==============================] - 0s 68us/step - loss: 0.7345 - accuracy: 0.7151 - val_loss: 0.8022 - val_accuracy: 0.7327\n",
      "Epoch 18/100\n",
      "909/909 [==============================] - 0s 57us/step - loss: 0.7205 - accuracy: 0.7151 - val_loss: 0.7934 - val_accuracy: 0.7228\n",
      "Epoch 19/100\n",
      "909/909 [==============================] - 0s 68us/step - loss: 0.6992 - accuracy: 0.7437 - val_loss: 0.7802 - val_accuracy: 0.7228\n",
      "Epoch 20/100\n",
      "909/909 [==============================] - 0s 57us/step - loss: 0.6859 - accuracy: 0.7327 - val_loss: 0.7685 - val_accuracy: 0.7228\n",
      "Epoch 21/100\n",
      "909/909 [==============================] - 0s 64us/step - loss: 0.6767 - accuracy: 0.7492 - val_loss: 0.7655 - val_accuracy: 0.7426\n",
      "Epoch 22/100\n",
      "909/909 [==============================] - 0s 62us/step - loss: 0.6583 - accuracy: 0.7382 - val_loss: 0.7577 - val_accuracy: 0.7426\n",
      "Epoch 23/100\n",
      "909/909 [==============================] - 0s 65us/step - loss: 0.6793 - accuracy: 0.7382 - val_loss: 0.7638 - val_accuracy: 0.7426\n",
      "Epoch 24/100\n",
      "909/909 [==============================] - 0s 61us/step - loss: 0.6332 - accuracy: 0.7404 - val_loss: 0.7532 - val_accuracy: 0.7426\n",
      "Epoch 25/100\n",
      "909/909 [==============================] - 0s 65us/step - loss: 0.6564 - accuracy: 0.7503 - val_loss: 0.7389 - val_accuracy: 0.7525\n",
      "Epoch 26/100\n",
      "909/909 [==============================] - 0s 65us/step - loss: 0.6224 - accuracy: 0.7657 - val_loss: 0.7324 - val_accuracy: 0.7525\n",
      "Epoch 27/100\n",
      "909/909 [==============================] - 0s 59us/step - loss: 0.6256 - accuracy: 0.7624 - val_loss: 0.7279 - val_accuracy: 0.7525\n",
      "Epoch 28/100\n",
      "909/909 [==============================] - 0s 58us/step - loss: 0.6117 - accuracy: 0.7613 - val_loss: 0.7240 - val_accuracy: 0.7723\n",
      "Epoch 29/100\n",
      "909/909 [==============================] - 0s 65us/step - loss: 0.6148 - accuracy: 0.7580 - val_loss: 0.7106 - val_accuracy: 0.7723\n",
      "Epoch 30/100\n",
      "909/909 [==============================] - 0s 58us/step - loss: 0.6116 - accuracy: 0.7602 - val_loss: 0.7084 - val_accuracy: 0.7525\n",
      "Epoch 31/100\n",
      "909/909 [==============================] - 0s 68us/step - loss: 0.6134 - accuracy: 0.7932 - val_loss: 0.7069 - val_accuracy: 0.7822\n",
      "Epoch 32/100\n",
      "909/909 [==============================] - 0s 58us/step - loss: 0.6118 - accuracy: 0.7745 - val_loss: 0.7028 - val_accuracy: 0.7624\n",
      "Epoch 33/100\n",
      "909/909 [==============================] - 0s 67us/step - loss: 0.5868 - accuracy: 0.7778 - val_loss: 0.6881 - val_accuracy: 0.7921\n",
      "Epoch 34/100\n",
      "909/909 [==============================] - 0s 58us/step - loss: 0.6007 - accuracy: 0.7767 - val_loss: 0.6912 - val_accuracy: 0.7822\n",
      "Epoch 35/100\n",
      "909/909 [==============================] - 0s 67us/step - loss: 0.5697 - accuracy: 0.7932 - val_loss: 0.6837 - val_accuracy: 0.7723\n",
      "Epoch 36/100\n",
      "909/909 [==============================] - 0s 69us/step - loss: 0.5662 - accuracy: 0.7910 - val_loss: 0.6777 - val_accuracy: 0.7921\n",
      "Epoch 37/100\n",
      "909/909 [==============================] - 0s 58us/step - loss: 0.5592 - accuracy: 0.7943 - val_loss: 0.6863 - val_accuracy: 0.7723\n",
      "Epoch 38/100\n",
      "909/909 [==============================] - 0s 60us/step - loss: 0.5654 - accuracy: 0.7899 - val_loss: 0.6703 - val_accuracy: 0.7921\n",
      "Epoch 39/100\n",
      "909/909 [==============================] - 0s 56us/step - loss: 0.5262 - accuracy: 0.8207 - val_loss: 0.6658 - val_accuracy: 0.7921\n",
      "Epoch 40/100\n",
      "909/909 [==============================] - 0s 57us/step - loss: 0.5414 - accuracy: 0.8053 - val_loss: 0.6538 - val_accuracy: 0.8119\n",
      "Epoch 41/100\n",
      "909/909 [==============================] - 0s 61us/step - loss: 0.5449 - accuracy: 0.8020 - val_loss: 0.6642 - val_accuracy: 0.7822\n",
      "Epoch 42/100\n",
      "909/909 [==============================] - 0s 56us/step - loss: 0.5596 - accuracy: 0.7822 - val_loss: 0.6564 - val_accuracy: 0.8119\n",
      "Epoch 43/100\n",
      "909/909 [==============================] - 0s 57us/step - loss: 0.5447 - accuracy: 0.8009 - val_loss: 0.6688 - val_accuracy: 0.7822\n",
      "Epoch 44/100\n",
      "909/909 [==============================] - 0s 55us/step - loss: 0.5345 - accuracy: 0.7877 - val_loss: 0.6579 - val_accuracy: 0.7921\n",
      "Epoch 45/100\n",
      "909/909 [==============================] - 0s 58us/step - loss: 0.5332 - accuracy: 0.8064 - val_loss: 0.6514 - val_accuracy: 0.8020\n",
      "Epoch 46/100\n",
      "909/909 [==============================] - 0s 62us/step - loss: 0.5427 - accuracy: 0.8031 - val_loss: 0.6551 - val_accuracy: 0.8020\n",
      "Epoch 47/100\n",
      "909/909 [==============================] - 0s 55us/step - loss: 0.5124 - accuracy: 0.8086 - val_loss: 0.6499 - val_accuracy: 0.7921\n",
      "Epoch 48/100\n",
      "909/909 [==============================] - 0s 57us/step - loss: 0.5120 - accuracy: 0.8108 - val_loss: 0.6516 - val_accuracy: 0.7822\n",
      "Epoch 49/100\n",
      "909/909 [==============================] - 0s 64us/step - loss: 0.4928 - accuracy: 0.8064 - val_loss: 0.6403 - val_accuracy: 0.8020\n",
      "Epoch 50/100\n",
      "909/909 [==============================] - 0s 55us/step - loss: 0.5101 - accuracy: 0.8086 - val_loss: 0.6448 - val_accuracy: 0.7822\n",
      "Epoch 51/100\n",
      "909/909 [==============================] - 0s 57us/step - loss: 0.4904 - accuracy: 0.8097 - val_loss: 0.6449 - val_accuracy: 0.7921\n",
      "Epoch 52/100\n",
      "909/909 [==============================] - 0s 56us/step - loss: 0.4616 - accuracy: 0.8251 - val_loss: 0.6449 - val_accuracy: 0.8119\n",
      "Epoch 53/100\n",
      "909/909 [==============================] - 0s 61us/step - loss: 0.4724 - accuracy: 0.8284 - val_loss: 0.6415 - val_accuracy: 0.7921\n",
      "Epoch 54/100\n",
      "909/909 [==============================] - 0s 54us/step - loss: 0.4924 - accuracy: 0.8174 - val_loss: 0.6344 - val_accuracy: 0.8218\n",
      "Epoch 55/100\n",
      "909/909 [==============================] - 0s 59us/step - loss: 0.4502 - accuracy: 0.8339 - val_loss: 0.6384 - val_accuracy: 0.8020\n",
      "Epoch 56/100\n",
      "909/909 [==============================] - 0s 56us/step - loss: 0.4739 - accuracy: 0.8361 - val_loss: 0.6378 - val_accuracy: 0.8119\n",
      "Epoch 57/100\n"
     ]
    },
    {
     "name": "stdout",
     "output_type": "stream",
     "text": [
      "909/909 [==============================] - 0s 61us/step - loss: 0.4668 - accuracy: 0.8196 - val_loss: 0.6392 - val_accuracy: 0.8020\n",
      "Epoch 58/100\n",
      "909/909 [==============================] - 0s 58us/step - loss: 0.4553 - accuracy: 0.8240 - val_loss: 0.6418 - val_accuracy: 0.7921\n",
      "Epoch 59/100\n",
      "909/909 [==============================] - 0s 55us/step - loss: 0.4905 - accuracy: 0.8240 - val_loss: 0.6341 - val_accuracy: 0.8020\n",
      "Epoch 60/100\n",
      "909/909 [==============================] - 0s 53us/step - loss: 0.4360 - accuracy: 0.8460 - val_loss: 0.6378 - val_accuracy: 0.7921\n",
      "Epoch 61/100\n",
      "909/909 [==============================] - 0s 56us/step - loss: 0.4707 - accuracy: 0.8251 - val_loss: 0.6332 - val_accuracy: 0.7822\n",
      "Epoch 62/100\n",
      "909/909 [==============================] - 0s 58us/step - loss: 0.4693 - accuracy: 0.8284 - val_loss: 0.6315 - val_accuracy: 0.7921\n",
      "Epoch 63/100\n",
      "909/909 [==============================] - 0s 56us/step - loss: 0.4301 - accuracy: 0.8416 - val_loss: 0.6297 - val_accuracy: 0.8119\n",
      "Epoch 64/100\n",
      "909/909 [==============================] - 0s 60us/step - loss: 0.4438 - accuracy: 0.8405 - val_loss: 0.6412 - val_accuracy: 0.7921\n",
      "Epoch 65/100\n",
      "909/909 [==============================] - 0s 62us/step - loss: 0.4782 - accuracy: 0.8284 - val_loss: 0.6285 - val_accuracy: 0.7921\n",
      "Epoch 66/100\n",
      "909/909 [==============================] - 0s 58us/step - loss: 0.4327 - accuracy: 0.8383 - val_loss: 0.6247 - val_accuracy: 0.7921\n",
      "Epoch 67/100\n",
      "909/909 [==============================] - 0s 64us/step - loss: 0.4235 - accuracy: 0.8493 - val_loss: 0.6278 - val_accuracy: 0.7921\n",
      "Epoch 68/100\n",
      "909/909 [==============================] - 0s 68us/step - loss: 0.4480 - accuracy: 0.8394 - val_loss: 0.6364 - val_accuracy: 0.7921\n",
      "Epoch 69/100\n",
      "909/909 [==============================] - 0s 66us/step - loss: 0.4601 - accuracy: 0.8383 - val_loss: 0.6304 - val_accuracy: 0.8218\n",
      "Epoch 70/100\n",
      "909/909 [==============================] - 0s 69us/step - loss: 0.4601 - accuracy: 0.8273 - val_loss: 0.6311 - val_accuracy: 0.7921\n",
      "Epoch 71/100\n",
      "909/909 [==============================] - 0s 63us/step - loss: 0.4095 - accuracy: 0.8559 - val_loss: 0.6381 - val_accuracy: 0.8020\n",
      "Epoch 72/100\n",
      "909/909 [==============================] - 0s 69us/step - loss: 0.4442 - accuracy: 0.8438 - val_loss: 0.6328 - val_accuracy: 0.8020\n",
      "Epoch 73/100\n",
      "909/909 [==============================] - 0s 66us/step - loss: 0.4587 - accuracy: 0.8273 - val_loss: 0.6392 - val_accuracy: 0.8119\n",
      "Epoch 74/100\n",
      "909/909 [==============================] - 0s 69us/step - loss: 0.4323 - accuracy: 0.8317 - val_loss: 0.6328 - val_accuracy: 0.8020\n",
      "Epoch 75/100\n",
      "909/909 [==============================] - 0s 70us/step - loss: 0.4343 - accuracy: 0.8383 - val_loss: 0.6262 - val_accuracy: 0.7921\n",
      "Epoch 76/100\n",
      "909/909 [==============================] - 0s 63us/step - loss: 0.3920 - accuracy: 0.8570 - val_loss: 0.6357 - val_accuracy: 0.7921\n",
      "Epoch 77/100\n",
      "909/909 [==============================] - 0s 70us/step - loss: 0.4358 - accuracy: 0.8372 - val_loss: 0.6361 - val_accuracy: 0.7921\n",
      "Epoch 78/100\n",
      "909/909 [==============================] - 0s 67us/step - loss: 0.4017 - accuracy: 0.8592 - val_loss: 0.6272 - val_accuracy: 0.7921\n",
      "Epoch 79/100\n",
      "909/909 [==============================] - 0s 76us/step - loss: 0.3907 - accuracy: 0.8493 - val_loss: 0.6400 - val_accuracy: 0.7921\n",
      "Epoch 80/100\n",
      "909/909 [==============================] - 0s 76us/step - loss: 0.4358 - accuracy: 0.8559 - val_loss: 0.6347 - val_accuracy: 0.8020\n",
      "Epoch 81/100\n",
      "909/909 [==============================] - 0s 74us/step - loss: 0.4038 - accuracy: 0.8603 - val_loss: 0.6515 - val_accuracy: 0.8119\n",
      "Epoch 82/100\n",
      "909/909 [==============================] - 0s 76us/step - loss: 0.3923 - accuracy: 0.8680 - val_loss: 0.6469 - val_accuracy: 0.7822\n",
      "Epoch 83/100\n",
      "909/909 [==============================] - 0s 75us/step - loss: 0.4017 - accuracy: 0.8416 - val_loss: 0.6499 - val_accuracy: 0.8020\n",
      "Epoch 84/100\n",
      "909/909 [==============================] - 0s 75us/step - loss: 0.3846 - accuracy: 0.8603 - val_loss: 0.6413 - val_accuracy: 0.8020\n",
      "Epoch 85/100\n",
      "909/909 [==============================] - 0s 74us/step - loss: 0.3806 - accuracy: 0.8702 - val_loss: 0.6516 - val_accuracy: 0.7921\n",
      "Epoch 86/100\n",
      "909/909 [==============================] - 0s 76us/step - loss: 0.4021 - accuracy: 0.8559 - val_loss: 0.6471 - val_accuracy: 0.7921\n",
      "Epoch 87/100\n",
      "909/909 [==============================] - 0s 75us/step - loss: 0.3720 - accuracy: 0.8625 - val_loss: 0.6336 - val_accuracy: 0.8020\n",
      "Epoch 88/100\n",
      "909/909 [==============================] - 0s 75us/step - loss: 0.3907 - accuracy: 0.8471 - val_loss: 0.6256 - val_accuracy: 0.8020\n",
      "Epoch 89/100\n",
      "909/909 [==============================] - 0s 75us/step - loss: 0.3922 - accuracy: 0.8636 - val_loss: 0.6264 - val_accuracy: 0.8020\n",
      "Epoch 90/100\n",
      "909/909 [==============================] - 0s 75us/step - loss: 0.3932 - accuracy: 0.8592 - val_loss: 0.6252 - val_accuracy: 0.7921\n",
      "Epoch 91/100\n",
      "909/909 [==============================] - 0s 75us/step - loss: 0.3751 - accuracy: 0.8592 - val_loss: 0.6266 - val_accuracy: 0.8020\n",
      "Epoch 92/100\n",
      "909/909 [==============================] - 0s 75us/step - loss: 0.3757 - accuracy: 0.8603 - val_loss: 0.6322 - val_accuracy: 0.7921\n",
      "Epoch 93/100\n",
      "909/909 [==============================] - 0s 74us/step - loss: 0.3735 - accuracy: 0.8438 - val_loss: 0.6247 - val_accuracy: 0.7921\n",
      "Epoch 94/100\n",
      "909/909 [==============================] - 0s 74us/step - loss: 0.3988 - accuracy: 0.8603 - val_loss: 0.6358 - val_accuracy: 0.8020\n",
      "Epoch 95/100\n",
      "909/909 [==============================] - 0s 71us/step - loss: 0.3961 - accuracy: 0.8625 - val_loss: 0.6350 - val_accuracy: 0.7921\n",
      "Epoch 96/100\n",
      "909/909 [==============================] - 0s 68us/step - loss: 0.3747 - accuracy: 0.8482 - val_loss: 0.6495 - val_accuracy: 0.8119\n",
      "Epoch 97/100\n",
      "909/909 [==============================] - 0s 63us/step - loss: 0.3499 - accuracy: 0.8790 - val_loss: 0.6441 - val_accuracy: 0.7921\n",
      "Epoch 98/100\n",
      "909/909 [==============================] - 0s 65us/step - loss: 0.3866 - accuracy: 0.8449 - val_loss: 0.6514 - val_accuracy: 0.7921\n",
      "Epoch 99/100\n",
      "909/909 [==============================] - 0s 64us/step - loss: 0.3827 - accuracy: 0.8702 - val_loss: 0.6419 - val_accuracy: 0.7921\n",
      "Epoch 100/100\n",
      "909/909 [==============================] - 0s 62us/step - loss: 0.3613 - accuracy: 0.8713 - val_loss: 0.6407 - val_accuracy: 0.7921\n"
     ]
    },
    {
     "data": {
      "text/plain": [
       "<keras.callbacks.callbacks.History at 0x7fc16ac95cd0>"
      ]
     },
     "execution_count": 51,
     "metadata": {},
     "output_type": "execute_result"
    }
   ],
   "source": [
    "model.fit(x_train_s, y_train, epochs=100, batch_size=32, validation_split=0.1)"
   ]
  },
  {
   "cell_type": "code",
   "execution_count": 52,
   "metadata": {},
   "outputs": [
    {
     "name": "stdout",
     "output_type": "stream",
     "text": [
      "1010/1010 [==============================] - 0s 44us/step\n",
      "\n",
      "accuracy: 91.68%\n"
     ]
    }
   ],
   "source": [
    "# Evaluamos en el conjunto de entrenamiento\n",
    "scores = model.evaluate(x_train_s, y_train)\n",
    "print(\"\\n%s: %.2f%%\" % (model.metrics_names[1], scores[1]*100))"
   ]
  },
  {
   "cell_type": "code",
   "execution_count": 53,
   "metadata": {},
   "outputs": [
    {
     "name": "stdout",
     "output_type": "stream",
     "text": [
      "\n",
      "# Evaluación en el conjunto de validación\n",
      "253/253 [==============================] - 0s 49us/step\n",
      "\n",
      "accuracy: 84.19%\n"
     ]
    }
   ],
   "source": [
    "# Evaluamos el modelo en el conjunto de validacion\n",
    "print('\\n# Evaluación en el conjunto de validación')\n",
    "scores = model.evaluate(x_test_s, y_test)\n",
    "print(\"\\n%s: %.2f%%\" % (model.metrics_names[1], scores[1]*100))\n",
    "\n",
    "# Obtenemos las predicciones\n",
    "predictions_mlp_codif = model.predict(x_test_s).round()\n",
    "\n",
    "# Obtenemos las predicciones con valores 0,1,2 y 3 ya que estaban codificadas\n",
    "predictions_mlp = np.array([label.argmax() for label in predictions_mlp_codif])\n",
    "\n",
    "#print(predictions_mlp)"
   ]
  },
  {
   "cell_type": "code",
   "execution_count": 54,
   "metadata": {},
   "outputs": [
    {
     "name": "stdout",
     "output_type": "stream",
     "text": [
      "[[82  1  0  0]\n",
      " [30 40  1  1]\n",
      " [42  7 14  0]\n",
      " [ 8  0  0 27]]\n"
     ]
    }
   ],
   "source": [
    "# Obtenemos la matriz de confusión\n",
    "con = tf.confusion_matrix(labels=y_test_cls, predictions=predictions_mlp )\n",
    "sess = tf.Session()\n",
    "with sess.as_default():\n",
    "        print(sess.run(con))"
   ]
  },
  {
   "cell_type": "markdown",
   "metadata": {},
   "source": [
    "## Red neuronal sobre bases de datos TEST"
   ]
  },
  {
   "cell_type": "code",
   "execution_count": 55,
   "metadata": {},
   "outputs": [],
   "source": [
    "# Para obtener las predicciones eliminamos el diagnostico y el identificado de número\n",
    "\n",
    "x_test_db_smd = db_smd_test.drop(['Diagnosis'], axis=1)\n",
    "x_test_db_hpt = db_hpt_test.drop(['Diagnosis'], axis=1)\n",
    "x_test_db_onc = db_onc_test.drop(['Diagnosis'], axis=1)\n",
    "x_test_db_pti = db_pti_test.drop(['Diagnosis'], axis=1)"
   ]
  },
  {
   "cell_type": "code",
   "execution_count": 56,
   "metadata": {},
   "outputs": [],
   "source": [
    "# Estandarizamos las bases de datos\n",
    "\n",
    "x_test_db_smd = scaler.transform(x_test_db_smd)\n",
    "x_test_db_hpt = scaler.transform(x_test_db_hpt)\n",
    "x_test_db_onc = scaler.transform(x_test_db_onc)\n",
    "x_test_db_pti = scaler.transform(x_test_db_pti)"
   ]
  },
  {
   "cell_type": "code",
   "execution_count": 57,
   "metadata": {},
   "outputs": [
    {
     "name": "stdout",
     "output_type": "stream",
     "text": [
      "[0 0 0 0 0 0 0 0 0 0]\n"
     ]
    }
   ],
   "source": [
    "# Probamos con db_smd\n",
    "predictions_mlp_codif_db_smd = model.predict(x_test_db_smd).round()\n",
    "\n",
    "# Obtenemos las predicciones con valores ya que estaban codificadas\n",
    "predictions_mlp_codif_db_smd = np.array([label.argmax() for label in predictions_mlp_codif_db_smd])\n",
    "\n",
    "print(predictions_mlp_codif_db_smd)"
   ]
  },
  {
   "cell_type": "code",
   "execution_count": 58,
   "metadata": {},
   "outputs": [
    {
     "name": "stdout",
     "output_type": "stream",
     "text": [
      "[0 1 1 0 0 0 1 0 0 0 0 0 1 0 2 0 1 1 1]\n"
     ]
    }
   ],
   "source": [
    "# Probamos con db_hpt\n",
    "predictions_mlp_codif_db_hpt = model.predict(x_test_db_hpt).round()\n",
    "\n",
    "# Obtenemos las predicciones con valores ya que estaban codificadas\n",
    "predictions_mlp_codif_db_hpt = np.array([label.argmax() for label in predictions_mlp_codif_db_hpt])\n",
    "\n",
    "print(predictions_mlp_codif_db_hpt)"
   ]
  },
  {
   "cell_type": "code",
   "execution_count": 59,
   "metadata": {},
   "outputs": [
    {
     "name": "stdout",
     "output_type": "stream",
     "text": [
      "[0 3 0 0 0 0 1 0 0 0 0 0 0 0 0 0 0 0 0]\n"
     ]
    }
   ],
   "source": [
    "# Probamos con x_test_db_onc\n",
    "\n",
    "predictions_mlp_codif_db_onc = model.predict(x_test_db_onc).round()\n",
    "\n",
    "\n",
    "# Obtenemos las predicciones con valores ya que estaban codificadas\n",
    "predictions_mlp_codif_db_onc = np.array([label.argmax() for label in predictions_mlp_codif_db_onc])\n",
    "\n",
    "print(predictions_mlp_codif_db_onc)\n"
   ]
  },
  {
   "cell_type": "code",
   "execution_count": 60,
   "metadata": {},
   "outputs": [
    {
     "name": "stdout",
     "output_type": "stream",
     "text": [
      "[3 0 0 0]\n"
     ]
    }
   ],
   "source": [
    "# Probamos con x_test_db_pti\n",
    "\n",
    "predictions_mlp_codif_db_pti = model.predict(x_test_db_pti).round()\n",
    "\n",
    "\n",
    "# Obtenemos las predicciones con valores ya que estaban codificadas\n",
    "predictions_mlp_codif_db_pti = np.array([label.argmax() for label in predictions_mlp_codif_db_pti])\n",
    "\n",
    "print(predictions_mlp_codif_db_pti)"
   ]
  },
  {
   "cell_type": "markdown",
   "metadata": {},
   "source": [
    "# Etapa 3: Seleccion de caracteristicas"
   ]
  },
  {
   "cell_type": "markdown",
   "metadata": {},
   "source": [
    "## Metodo de filtrado: Prueba F de Fisher (F)"
   ]
  },
  {
   "cell_type": "code",
   "execution_count": 61,
   "metadata": {},
   "outputs": [],
   "source": [
    "#Realizamos las particiones de entrenamiento y test\n",
    "\n",
    "x = db_final.drop(['Diagnosis'],axis=1)\n",
    "y = db_final['Diagnosis']\n",
    "\n",
    "x_train,x_test,y_train,y_test = train_test_split(x,y, test_size=0.2)"
   ]
  },
  {
   "cell_type": "code",
   "execution_count": 62,
   "metadata": {},
   "outputs": [
    {
     "name": "stdout",
     "output_type": "stream",
     "text": [
      "['LEU' 'NEU' 'LIN' 'MON' 'EOS' 'BAS' 'IG' 'ERIT' 'HGB' 'HCT' 'VCM' 'HCM'\n",
      " 'CHCM' 'ERBL' 'PLT' 'MacR' 'MicR' 'NE_R' 'LY_R' 'MO_R' 'EO_R' 'BA_R'\n",
      " 'BA-D#' 'BA-N#' 'HFLCA' 'HFLCP' 'LIN_a' 'LY-WX' 'LY-WY' 'LY-WZ' 'LY-X'\n",
      " 'LY-Y' 'LY-Z' 'MO-WX' 'MO-WY' 'MO-WZ' 'MO-X' 'MO-Y' 'MO-Z' 'NEFSC'\n",
      " 'NESFL' 'NESSC' 'NEU_a' 'NE-WX' 'NE-WY' 'NE-WZ' 'TNC-N' 'WBC-D' 'WBC-N']\n",
      "[ True False  True False False False False  True  True  True False False\n",
      " False False  True  True  True False False False False False False False\n",
      " False False  True False False False  True False False False False False\n",
      "  True False  True  True False  True False  True  True  True  True  True\n",
      "  True]\n",
      "\n",
      " F de Fisher: ['LEU', 'LIN', 'ERIT', 'HGB', 'HCT', 'PLT', 'MacR', 'MicR', 'LIN_a', 'LY-X', 'MO-X', 'MO-Z', 'NEFSC', 'NESSC', 'NE-WX', 'NE-WY', 'NE-WZ', 'TNC-N', 'WBC-D', 'WBC-N']\n"
     ]
    }
   ],
   "source": [
    "#Algoritmo univariante de prueba F\n",
    "\n",
    "n_variables = 20\n",
    "\n",
    "selector_f = SelectKBest(f_classif, k= n_variables)\n",
    "\n",
    "selection_f = selector_f.fit(x_train,y_train)\n",
    "\n",
    "atrib_matrix_f = selection_f.get_support()\n",
    "\n",
    "atrib_names = x_train.columns.values\n",
    "\n",
    "print(atrib_names)\n",
    "print(atrib_matrix_f)\n",
    "\n",
    "selected_atributes_f = []\n",
    "\n",
    "for i in range(len(atrib_names)):\n",
    "    if atrib_matrix_f[i] == True:\n",
    "        selected_atributes_f.append(atrib_names[i])\n",
    "        \n",
    "print('\\n F de Fisher:', selected_atributes_f)"
   ]
  },
  {
   "cell_type": "markdown",
   "metadata": {},
   "source": [
    "## Metodo de empaquetamiento: Eliminacion recursiva de atributos (ERA)"
   ]
  },
  {
   "cell_type": "code",
   "execution_count": 63,
   "metadata": {},
   "outputs": [
    {
     "name": "stdout",
     "output_type": "stream",
     "text": [
      "['LEU' 'NEU' 'LIN' 'MON' 'EOS' 'BAS' 'IG' 'ERIT' 'HGB' 'HCT' 'VCM' 'HCM'\n",
      " 'CHCM' 'ERBL' 'PLT' 'MacR' 'MicR' 'NE_R' 'LY_R' 'MO_R' 'EO_R' 'BA_R'\n",
      " 'BA-D#' 'BA-N#' 'HFLCA' 'HFLCP' 'LIN_a' 'LY-WX' 'LY-WY' 'LY-WZ' 'LY-X'\n",
      " 'LY-Y' 'LY-Z' 'MO-WX' 'MO-WY' 'MO-WZ' 'MO-X' 'MO-Y' 'MO-Z' 'NEFSC'\n",
      " 'NESFL' 'NESSC' 'NEU_a' 'NE-WX' 'NE-WY' 'NE-WZ' 'TNC-N' 'WBC-D' 'WBC-N']\n",
      "[ True  True False False False False False  True  True  True False  True\n",
      " False False  True  True  True  True  True False False False False False\n",
      " False False False False False False False False False False False False\n",
      "  True False False  True False  True  True  True  True  True  True False\n",
      "  True]\n",
      "\n",
      " ERA: ['LEU', 'NEU', 'ERIT', 'HGB', 'HCT', 'HCM', 'PLT', 'MacR', 'MicR', 'NE_R', 'LY_R', 'MO-X', 'NEFSC', 'NESSC', 'NEU_a', 'NE-WX', 'NE-WY', 'NE-WZ', 'TNC-N', 'WBC-N']\n"
     ]
    }
   ],
   "source": [
    "#Eliminacion recursiva de atributos\n",
    "\n",
    "n_variables = 20\n",
    "\n",
    "selector_elim = ExtraTreesClassifier()\n",
    "\n",
    "era = RFE(selector_elim, n_variables)\n",
    "\n",
    "selection_era = era.fit(x_train, y_train)\n",
    "\n",
    "atrib_matrix_era = selection_era.get_support()\n",
    "\n",
    "atrib_names = x_train.columns.values\n",
    "\n",
    "print(atrib_names)\n",
    "print(atrib_matrix_era)\n",
    "\n",
    "selected_atributes_era = []\n",
    "\n",
    "for i in range(len(atrib_names)):\n",
    "    if atrib_matrix_era[i] == True:\n",
    "        selected_atributes_era.append(atrib_names[i])\n",
    "        \n",
    "print('\\n ERA:',selected_atributes_era )"
   ]
  },
  {
   "cell_type": "markdown",
   "metadata": {},
   "source": [
    "# Bases de datos tras seleccion de caracteristicas (F y ERA)"
   ]
  },
  {
   "cell_type": "code",
   "execution_count": 64,
   "metadata": {},
   "outputs": [
    {
     "name": "stdout",
     "output_type": "stream",
     "text": [
      "<class 'pandas.core.frame.DataFrame'>\n",
      "Int64Index: 1263 entries, 0 to 200\n",
      "Data columns (total 20 columns):\n",
      "LEU      1263 non-null float64\n",
      "LIN      1263 non-null float64\n",
      "ERIT     1263 non-null float64\n",
      "HGB      1263 non-null float64\n",
      "HCT      1263 non-null float64\n",
      "PLT      1263 non-null float64\n",
      "MacR     1263 non-null float64\n",
      "MicR     1263 non-null float64\n",
      "LIN_a    1263 non-null float64\n",
      "LY-X     1263 non-null float64\n",
      "MO-X     1263 non-null float64\n",
      "MO-Z     1263 non-null float64\n",
      "NEFSC    1263 non-null float64\n",
      "NESSC    1263 non-null float64\n",
      "NE-WX    1263 non-null int64\n",
      "NE-WY    1263 non-null int64\n",
      "NE-WZ    1263 non-null int64\n",
      "TNC-N    1263 non-null float64\n",
      "WBC-D    1263 non-null float64\n",
      "WBC-N    1263 non-null float64\n",
      "dtypes: float64(17), int64(3)\n",
      "memory usage: 207.2 KB\n"
     ]
    }
   ],
   "source": [
    "#Base de datos tras F de Fisher\n",
    "\n",
    "x = db_final.drop(['Diagnosis'],axis=1)\n",
    "x_f = x[selected_atributes_f]\n",
    "y_f = db_final['Diagnosis']\n",
    "y_vals_f = np.eye(len(set(y_f)))[y_f]\n",
    "\n",
    "x_f.info()\n",
    "x_train_f,x_test_f,y_train_f,y_test_f = train_test_split(x_f,y_vals_f, test_size=0.2,random_state=7)\n",
    "\n",
    "#Estandarizacion\n",
    "\n",
    "scaler_f = preprocessing.StandardScaler().fit(x_train_f)\n",
    "\n",
    "x_train_fs = scaler_f.transform(x_train_f)\n",
    "x_test_fs = scaler_f.transform(x_test_f)"
   ]
  },
  {
   "cell_type": "code",
   "execution_count": 65,
   "metadata": {},
   "outputs": [
    {
     "name": "stdout",
     "output_type": "stream",
     "text": [
      "<class 'pandas.core.frame.DataFrame'>\n",
      "Int64Index: 1263 entries, 0 to 200\n",
      "Data columns (total 20 columns):\n",
      "LEU      1263 non-null float64\n",
      "NEU      1263 non-null float64\n",
      "ERIT     1263 non-null float64\n",
      "HGB      1263 non-null float64\n",
      "HCT      1263 non-null float64\n",
      "HCM      1263 non-null float64\n",
      "PLT      1263 non-null float64\n",
      "MacR     1263 non-null float64\n",
      "MicR     1263 non-null float64\n",
      "NE_R     1263 non-null float64\n",
      "LY_R     1263 non-null float64\n",
      "MO-X     1263 non-null float64\n",
      "NEFSC    1263 non-null float64\n",
      "NESSC    1263 non-null float64\n",
      "NEU_a    1263 non-null float64\n",
      "NE-WX    1263 non-null int64\n",
      "NE-WY    1263 non-null int64\n",
      "NE-WZ    1263 non-null int64\n",
      "TNC-N    1263 non-null float64\n",
      "WBC-N    1263 non-null float64\n",
      "dtypes: float64(17), int64(3)\n",
      "memory usage: 207.2 KB\n"
     ]
    }
   ],
   "source": [
    "#Base de datos tras ERA\n",
    "x = db_final.drop(['Diagnosis'],axis=1)\n",
    "x_era = x[selected_atributes_era]\n",
    "y_era = db_final['Diagnosis']\n",
    "y_vals_era = np.eye(len(set(y_era)))[y_era]\n",
    "\n",
    "x_era.info()\n",
    "x_train_era,x_test_era,y_train_era,y_test_era = train_test_split(x_era,y_vals_era, test_size=0.2,random_state=7)\n",
    "\n",
    "#Estandarizacion\n",
    "\n",
    "scaler_era = preprocessing.StandardScaler().fit(x_train_era)\n",
    "\n",
    "x_train_eras = scaler_era.transform(x_train_era)\n",
    "x_test_eras = scaler_era.transform(x_test_era)"
   ]
  },
  {
   "cell_type": "markdown",
   "metadata": {},
   "source": [
    "## Seleccion de caracteristicas : Regresion logistica (F de Fisher)"
   ]
  },
  {
   "cell_type": "code",
   "execution_count": 66,
   "metadata": {},
   "outputs": [],
   "source": [
    "#Crear modelo\n",
    "n_atributos = 20\n",
    "x = tf.placeholder(tf.float32, [None, n_atributos])\n",
    "y_true = tf.placeholder(tf.float32, [None, 4])\n",
    "y_true_cls = tf.placeholder(tf.int64, [None])\n",
    "w = tf.Variable(tf.zeros([n_atributos, 4]))\n",
    "b = tf.Variable(tf.zeros([4]))\n",
    "logits = tf.matmul(x, w) + b\n",
    "y_pred = tf.nn.softmax(logits)\n",
    "y_pred_cls = tf.argmax(y_pred, axis=1) #axis=dimension\n",
    "\n",
    "y_test_cls_f = np.array([label.argmax() for label in y_test_f])\n",
    "y_test_cls_era = np.array([label.argmax() for label in y_test_era])"
   ]
  },
  {
   "cell_type": "code",
   "execution_count": 67,
   "metadata": {},
   "outputs": [],
   "source": [
    "cross_entropy = tf.nn.softmax_cross_entropy_with_logits_v2(logits=logits,labels=y_true)\n",
    "#cost = tf.reduce_mean(cross_entropy)\n",
    "optimizer = tf.train.GradientDescentOptimizer(learning_rate=0.001).minimize(cross_entropy)\n",
    "correct_prediction = tf.equal(y_pred_cls, y_true_cls)\n",
    "accuracy = tf.reduce_mean(tf.cast(correct_prediction, tf.float32))"
   ]
  },
  {
   "cell_type": "code",
   "execution_count": 68,
   "metadata": {},
   "outputs": [],
   "source": [
    "#Entrenamiento con F de Fisher\n",
    "session = tf.Session()\n",
    "session.run(tf.global_variables_initializer())\n",
    "def optimize(num_iterations):\n",
    "    for i in range(num_iterations):\n",
    "        \n",
    "        feed_dict_train = {x: x_train_fs, y_true: y_train_f}\n",
    "\n",
    "        session.run(optimizer, feed_dict=feed_dict_train)\n"
   ]
  },
  {
   "cell_type": "code",
   "execution_count": 69,
   "metadata": {},
   "outputs": [],
   "source": [
    "#Validacion con F de Fisher\n",
    "classes = ['SMD','Hepatópatas','Oncológicos','PTI']\n",
    "\n",
    "feed_dict_test = {x: x_test_fs,\n",
    "                  y_true: y_test_f,\n",
    "                  y_true_cls: y_test_cls_f}\n",
    "\n",
    "def print_accuracy():\n",
    "    # Use TensorFlow to compute the accuracy.\n",
    "    acc = session.run(accuracy, feed_dict=feed_dict_test)\n",
    "\n",
    "    # Print the accuracy.\n",
    "    print(\"Accuracy on test-set: {0:.1%}\".format(acc))\n",
    "\n",
    "def plot_confusion_matrix(normalize=False):\n",
    "\n",
    "    # Compute confusion matrix\n",
    "    # Only use the labels that appear in the data\n",
    "    #classes = classes[unique_labels(y_true, y_pred)]\n",
    "    \n",
    "    # Get the true classifications for the test-set.\n",
    "    cls_true = y_test_cls_f\n",
    "\n",
    "    # Get the predicted classifications for the test-set.\n",
    "    cls_pred = session.run(y_pred_cls, feed_dict=feed_dict_test)\n",
    "\n",
    "    # Get the confusion matrix using sklearn.\n",
    "    cm = confusion_matrix(y_true=cls_true,\n",
    "                          y_pred=cls_pred)\n",
    "\n",
    "    # Print the confusion matrix as text.\n",
    "    print(cm)\n",
    "    \n",
    "    fig, ax = plt.subplots()\n",
    "    im = ax.imshow(cm, interpolation='nearest', cmap=plt.cm.Blues)\n",
    "    ax.figure.colorbar(im, ax=ax)\n",
    "    # We want to show all ticks...\n",
    "    ax.set(xticks=np.arange(cm.shape[1]),\n",
    "           yticks=np.arange(cm.shape[0]),\n",
    "           # ... and label them with the respective list entries\n",
    "           xticklabels=classes, yticklabels=classes,\n",
    "           title='Matriz de confusión',\n",
    "           ylabel='True label',\n",
    "           xlabel='Predicted label')\n",
    "\n",
    "    # Rotate the tick labels and set their alignment.\n",
    "    plt.setp(ax.get_xticklabels(), rotation=45, ha=\"right\",\n",
    "             rotation_mode=\"anchor\")\n",
    "\n",
    "    # Loop over data dimensions and create text annotations.\n",
    "    fmt = '.2f' if normalize else 'd'\n",
    "    thresh = cm.max() / 2.\n",
    "    for i in range(cm.shape[0]):\n",
    "        for j in range(cm.shape[1]):\n",
    "            ax.text(j, i, format(cm[i, j], fmt),\n",
    "                    ha=\"center\", va=\"center\",\n",
    "                    color=\"white\" if cm[i, j] > thresh else \"black\")\n",
    "    fig.tight_layout()\n",
    "    return ax"
   ]
  },
  {
   "cell_type": "code",
   "execution_count": 70,
   "metadata": {},
   "outputs": [
    {
     "name": "stdout",
     "output_type": "stream",
     "text": [
      "[[67  7  7  2]\n",
      " [ 4 57  9  2]\n",
      " [ 9 16 34  4]\n",
      " [ 1  3  4 27]]\n",
      "Accuracy on test-set: 73.1%\n"
     ]
    },
    {
     "data": {
      "image/png": "[encoded data removed]",
      "text/plain": [
       "<Figure size 432x288 with 2 Axes>"
      ]
     },
     "metadata": {
      "needs_background": "light"
     },
     "output_type": "display_data"
    }
   ],
   "source": [
    "optimize(num_iterations=1000)\n",
    "plot_confusion_matrix()\n",
    "print_accuracy()\n"
   ]
  },
  {
   "cell_type": "markdown",
   "metadata": {},
   "source": [
    "## Seleccion de caracteristicas: Regresion logistica (ERA)"
   ]
  },
  {
   "cell_type": "code",
   "execution_count": 71,
   "metadata": {},
   "outputs": [],
   "source": [
    "#Crear modelo\n",
    "n_atributos = 20\n",
    "x = tf.placeholder(tf.float32, [None, n_atributos])\n",
    "y_true = tf.placeholder(tf.float32, [None, 4])\n",
    "y_true_cls = tf.placeholder(tf.int64, [None])\n",
    "w = tf.Variable(tf.zeros([n_atributos, 4]))\n",
    "b = tf.Variable(tf.zeros([4]))\n",
    "logits = tf.matmul(x, w) + b\n",
    "y_pred = tf.nn.softmax(logits)\n",
    "y_pred_cls = tf.argmax(y_pred, axis=1) #axis=dimension\n",
    "\n",
    "y_test_cls_f = np.array([label.argmax() for label in y_test_f])\n",
    "y_test_cls_era = np.array([label.argmax() for label in y_test_era])"
   ]
  },
  {
   "cell_type": "code",
   "execution_count": 72,
   "metadata": {},
   "outputs": [],
   "source": [
    "cross_entropy = tf.nn.softmax_cross_entropy_with_logits_v2(logits=logits,labels=y_true)\n",
    "#cost = tf.reduce_mean(cross_entropy)\n",
    "optimizer = tf.train.GradientDescentOptimizer(learning_rate=0.001).minimize(cross_entropy)\n",
    "correct_prediction = tf.equal(y_pred_cls, y_true_cls)\n",
    "accuracy = tf.reduce_mean(tf.cast(correct_prediction, tf.float32))"
   ]
  },
  {
   "cell_type": "code",
   "execution_count": 73,
   "metadata": {},
   "outputs": [],
   "source": [
    "#Entrenamiento con era\n",
    "session = tf.Session()\n",
    "session.run(tf.global_variables_initializer())\n",
    "def optimize(num_iterations):\n",
    "    for i in range(num_iterations):\n",
    "        \n",
    "        feed_dict_train = {x: x_train_eras, y_true: y_train_era}\n",
    "\n",
    "        session.run(optimizer, feed_dict=feed_dict_train)"
   ]
  },
  {
   "cell_type": "code",
   "execution_count": 74,
   "metadata": {},
   "outputs": [],
   "source": [
    "#Validacion con era\n",
    "classes = ['SMD','Hepatópatas','Oncológicos','PTI']\n",
    "\n",
    "feed_dict_test = {x: x_test_eras,\n",
    "                  y_true: y_test_era,\n",
    "                  y_true_cls: y_test_cls_era}\n",
    "\n",
    "def print_accuracy():\n",
    "    # Use TensorFlow to compute the accuracy.\n",
    "    acc = session.run(accuracy, feed_dict=feed_dict_test)\n",
    "\n",
    "    # Print the accuracy.\n",
    "    print(\"Accuracy on test-set: {0:.1%}\".format(acc))\n",
    "\n",
    "def plot_confusion_matrix(normalize=False):\n",
    "\n",
    "    # Compute confusion matrix\n",
    "    # Only use the labels that appear in the data\n",
    "    #classes = classes[unique_labels(y_true, y_pred)]\n",
    "    \n",
    "    # Get the true classifications for the test-set.\n",
    "    cls_true = y_test_cls_f\n",
    "\n",
    "    # Get the predicted classifications for the test-set.\n",
    "    cls_pred = session.run(y_pred_cls, feed_dict=feed_dict_test)\n",
    "\n",
    "    # Get the confusion matrix using sklearn.\n",
    "    cm = confusion_matrix(y_true=cls_true,\n",
    "                          y_pred=cls_pred)\n",
    "\n",
    "    # Print the confusion matrix as text.\n",
    "    print(cm)\n",
    "    \n",
    "    fig, ax = plt.subplots()\n",
    "    im = ax.imshow(cm, interpolation='nearest', cmap=plt.cm.Blues)\n",
    "    ax.figure.colorbar(im, ax=ax)\n",
    "    # We want to show all ticks...\n",
    "    ax.set(xticks=np.arange(cm.shape[1]),\n",
    "           yticks=np.arange(cm.shape[0]),\n",
    "           # ... and label them with the respective list entries\n",
    "           xticklabels=classes, yticklabels=classes,\n",
    "           title='Matriz de confusión',\n",
    "           ylabel='True label',\n",
    "           xlabel='Predicted label')\n",
    "\n",
    "    # Rotate the tick labels and set their alignment.\n",
    "    plt.setp(ax.get_xticklabels(), rotation=45, ha=\"right\",\n",
    "             rotation_mode=\"anchor\")\n",
    "\n",
    "    # Loop over data dimensions and create text annotations.\n",
    "    fmt = '.2f' if normalize else 'd'\n",
    "    thresh = cm.max() / 2.\n",
    "    for i in range(cm.shape[0]):\n",
    "        for j in range(cm.shape[1]):\n",
    "            ax.text(j, i, format(cm[i, j], fmt),\n",
    "                    ha=\"center\", va=\"center\",\n",
    "                    color=\"white\" if cm[i, j] > thresh else \"black\")\n",
    "    fig.tight_layout()\n",
    "    return ax"
   ]
  },
  {
   "cell_type": "code",
   "execution_count": 75,
   "metadata": {},
   "outputs": [
    {
     "name": "stdout",
     "output_type": "stream",
     "text": [
      "[[68  7  6  2]\n",
      " [ 4 58  9  1]\n",
      " [11 14 36  2]\n",
      " [ 1  2  4 28]]\n",
      "Accuracy on test-set: 75.1%\n"
     ]
    },
    {
     "data": {
      "image/png": "[encoded data removed]",
      "text/plain": [
       "<Figure size 432x288 with 2 Axes>"
      ]
     },
     "metadata": {
      "needs_background": "light"
     },
     "output_type": "display_data"
    }
   ],
   "source": [
    "optimize(num_iterations=1000)\n",
    "plot_confusion_matrix()\n",
    "print_accuracy()"
   ]
  },
  {
   "cell_type": "markdown",
   "metadata": {},
   "source": [
    "## Seleccion de caracteristicas: Knn (F de Fisher)"
   ]
  },
  {
   "cell_type": "code",
   "execution_count": 76,
   "metadata": {},
   "outputs": [],
   "source": [
    "# Creacion del modelo knn\n",
    "n_atributos = 20\n",
    "x_data_train = tf.placeholder(shape=[None, n_atributos], dtype=tf.float32)\n",
    "y_data_train = tf.placeholder(shape=[None, 4], dtype=tf.float32)\n",
    "x_data_test = tf.placeholder(shape=[None, n_atributos], dtype=tf.float32)"
   ]
  },
  {
   "cell_type": "code",
   "execution_count": 77,
   "metadata": {},
   "outputs": [
    {
     "name": "stdout",
     "output_type": "stream",
     "text": [
      "cv_k_Scores: [0.8023715415019763, 0.7984189723320159, 0.7905138339920948, 0.8142292490118577, 0.8142292490118577, 0.8023715415019763, 0.7944664031620553, 0.7984189723320159, 0.7786561264822134, 0.782608695652174, 0.7707509881422925, 0.766798418972332, 0.7707509881422925, 0.7747035573122529, 0.7707509881422925, 0.766798418972332, 0.7470355731225297, 0.758893280632411, 0.758893280632411, 0.7509881422924901]\n",
      "20\n",
      "20\n"
     ]
    },
    {
     "data": {
      "image/png": "[encoded data removed]",
      "text/plain": [
       "<Figure size 432x288 with 1 Axes>"
      ]
     },
     "metadata": {
      "needs_background": "light"
     },
     "output_type": "display_data"
    },
    {
     "name": "stdout",
     "output_type": "stream",
     "text": [
      "El valor óptimo de vecinos cercanos es: 7\n",
      "El máximo valor de accuracy es: 0.8142292490118577\n"
     ]
    }
   ],
   "source": [
    "#Validacion cruzada para obtener una buena capacidad de generalizacion\n",
    "\n",
    "k_values = range(1,40,2)\n",
    "cv_k_scores = []\n",
    "\n",
    "distance = tf.reduce_sum(tf.abs(tf.subtract(x_data_train, tf.expand_dims(x_data_test, 1))), axis=2)\n",
    "\n",
    "for k in k_values:\n",
    "    _, top_k_indices = tf.nn.top_k(tf.negative(distance), k=k)\n",
    "    top_k_label = tf.gather(y_data_train, top_k_indices)\n",
    "\n",
    "    sum_up_predictions = tf.reduce_sum(top_k_label, axis=1)\n",
    "    prediction = tf.argmax(sum_up_predictions, axis=1)\n",
    "    sess = tf.Session()\n",
    "    prediction_outcome = sess.run(prediction, feed_dict = \n",
    "                              {x_data_train: x_train_fs,\n",
    "                               x_data_test: x_test_fs,\n",
    "                               y_data_train: y_train_f})\n",
    "    \n",
    "    accuracy = 0\n",
    "    for pred, actual in zip(prediction_outcome, y_test_f):\n",
    "        if pred == np.argmax(actual):\n",
    "            accuracy += 1\n",
    "    cv_k_scores.append(accuracy / len(prediction_outcome))\n",
    "\n",
    "        \n",
    "print('cv_k_Scores:',cv_k_scores)\n",
    "print(len(cv_k_scores))\n",
    "print(len(k_values))\n",
    "\n",
    "\n",
    "plt.plot(k_values, cv_k_scores)\n",
    "plt.grid()\n",
    "\n",
    "plt.xlabel('K')\n",
    "plt.ylabel('Accuracy')\n",
    "plt.show()\n",
    "\n",
    "\n",
    "# Seleccionamor el maximo porque consideramos accuracy\n",
    "\n",
    "print('El valor óptimo de vecinos cercanos es:',np.array(k_values)[cv_k_scores.index(np.array(cv_k_scores).max())])\n",
    "\n",
    "# Obtenemos el máximo valor de accuracy \n",
    "\n",
    "print('El máximo valor de accuracy es:',max(cv_k_scores))\n"
   ]
  },
  {
   "cell_type": "code",
   "execution_count": 78,
   "metadata": {},
   "outputs": [],
   "source": [
    "distance = tf.reduce_sum(tf.abs(tf.subtract(x_data_train, tf.expand_dims(x_data_test, 1))), axis=2)"
   ]
  },
  {
   "cell_type": "code",
   "execution_count": 79,
   "metadata": {},
   "outputs": [],
   "source": [
    "k = np.array(k_values)[cv_k_scores.index(np.array(cv_k_scores).max())]\n",
    "\n",
    "# k puntos mas cercanos\n",
    "_, top_k_indices = tf.nn.top_k(tf.negative(distance), k=k)\n",
    "top_k_label = tf.gather(y_data_train, top_k_indices)\n",
    "\n",
    "sum_up_predictions = tf.reduce_sum(top_k_label, axis=1)\n",
    "prediction = tf.argmax(sum_up_predictions, axis=1)"
   ]
  },
  {
   "cell_type": "code",
   "execution_count": 80,
   "metadata": {},
   "outputs": [],
   "source": [
    "sess = tf.Session()\n",
    "# Obtenemos las predicciones\n",
    "prediction_outcome = sess.run(prediction, feed_dict = \n",
    "                              {x_data_train: x_train_fs,\n",
    "                               x_data_test: x_test_fs,\n",
    "                               y_data_train: y_train_f})"
   ]
  },
  {
   "cell_type": "code",
   "execution_count": 81,
   "metadata": {},
   "outputs": [
    {
     "name": "stdout",
     "output_type": "stream",
     "text": [
      "[[77  5  1  0]\n",
      " [ 4 60  4  4]\n",
      " [ 7 15 37  4]\n",
      " [ 0  2  1 32]]\n"
     ]
    }
   ],
   "source": [
    "# Obtenemos la matriz de confusión\n",
    "con = tf.confusion_matrix(labels=y_test_cls, predictions=prediction_outcome )\n",
    "sess = tf.Session()\n",
    "with sess.as_default():\n",
    "        print(sess.run(con))"
   ]
  },
  {
   "cell_type": "code",
   "execution_count": 82,
   "metadata": {},
   "outputs": [
    {
     "name": "stdout",
     "output_type": "stream",
     "text": [
      "0.8142292490118577\n"
     ]
    }
   ],
   "source": [
    "accuracy = 0\n",
    "for pred, actual in zip(prediction_outcome, y_test_f):\n",
    "    if pred == np.argmax(actual):\n",
    "        accuracy += 1\n",
    "print(accuracy / len(prediction_outcome))"
   ]
  },
  {
   "cell_type": "markdown",
   "metadata": {},
   "source": [
    "## Seleccion de caracteristicas: Knn (ERA)"
   ]
  },
  {
   "cell_type": "code",
   "execution_count": 83,
   "metadata": {},
   "outputs": [],
   "source": [
    "# Creacion del modelo knn\n",
    "n_atributos = 20\n",
    "x_data_train = tf.placeholder(shape=[None, n_atributos], dtype=tf.float32)\n",
    "y_data_train = tf.placeholder(shape=[None, 4], dtype=tf.float32)\n",
    "x_data_test = tf.placeholder(shape=[None, n_atributos], dtype=tf.float32)"
   ]
  },
  {
   "cell_type": "code",
   "execution_count": 84,
   "metadata": {},
   "outputs": [
    {
     "name": "stdout",
     "output_type": "stream",
     "text": [
      "cv_k_Scores: [0.83399209486166, 0.8260869565217391, 0.7984189723320159, 0.8300395256916996, 0.8102766798418972, 0.782608695652174, 0.7786561264822134, 0.7786561264822134, 0.7628458498023716, 0.7707509881422925, 0.7786561264822134, 0.7786561264822134, 0.7786561264822134, 0.7707509881422925, 0.7707509881422925, 0.7747035573122529, 0.782608695652174, 0.766798418972332, 0.7628458498023716, 0.7628458498023716]\n",
      "20\n",
      "20\n"
     ]
    },
    {
     "data": {
      "image/png": "[encoded data removed]",
      "text/plain": [
       "<Figure size 432x288 with 1 Axes>"
      ]
     },
     "metadata": {
      "needs_background": "light"
     },
     "output_type": "display_data"
    },
    {
     "name": "stdout",
     "output_type": "stream",
     "text": [
      "El valor óptimo de vecinos cercanos es: 1\n",
      "El máximo valor de accuracy es: 0.83399209486166\n"
     ]
    }
   ],
   "source": [
    "#Validacion cruzada para obtener una buena capacidad de generalizacion\n",
    "\n",
    "k_values = range(1,40,2)\n",
    "cv_k_scores = []\n",
    "\n",
    "distance = tf.reduce_sum(tf.abs(tf.subtract(x_data_train, tf.expand_dims(x_data_test, 1))), axis=2)\n",
    "\n",
    "for k in k_values:\n",
    "    _, top_k_indices = tf.nn.top_k(tf.negative(distance), k=k)\n",
    "    top_k_label = tf.gather(y_data_train, top_k_indices)\n",
    "\n",
    "    sum_up_predictions = tf.reduce_sum(top_k_label, axis=1)\n",
    "    prediction = tf.argmax(sum_up_predictions, axis=1)\n",
    "    sess = tf.Session()\n",
    "    prediction_outcome = sess.run(prediction, feed_dict = \n",
    "                              {x_data_train: x_train_eras,\n",
    "                               x_data_test: x_test_eras,\n",
    "                               y_data_train: y_train_era})\n",
    "    \n",
    "    accuracy = 0\n",
    "    for pred, actual in zip(prediction_outcome, y_test_era):\n",
    "        if pred == np.argmax(actual):\n",
    "            accuracy += 1\n",
    "    cv_k_scores.append(accuracy / len(prediction_outcome))\n",
    "\n",
    "        \n",
    "print('cv_k_Scores:',cv_k_scores)\n",
    "print(len(cv_k_scores))\n",
    "print(len(k_values))\n",
    "\n",
    "\n",
    "plt.plot(k_values, cv_k_scores)\n",
    "plt.grid()\n",
    "\n",
    "plt.xlabel('K')\n",
    "plt.ylabel('Accuracy')\n",
    "plt.show()\n",
    "\n",
    "\n",
    "# Seleccionamor el maximo porque consideramos accuracy\n",
    "\n",
    "print('El valor óptimo de vecinos cercanos es:',np.array(k_values)[cv_k_scores.index(np.array(cv_k_scores).max())])\n",
    "\n",
    "# Obtenemos el máximo valor de accuracy \n",
    "\n",
    "print('El máximo valor de accuracy es:',max(cv_k_scores))\n"
   ]
  },
  {
   "cell_type": "code",
   "execution_count": 85,
   "metadata": {},
   "outputs": [],
   "source": [
    "distance = tf.reduce_sum(tf.abs(tf.subtract(x_data_train, tf.expand_dims(x_data_test, 1))), axis=2)"
   ]
  },
  {
   "cell_type": "code",
   "execution_count": 86,
   "metadata": {},
   "outputs": [],
   "source": [
    "k = np.array(k_values)[cv_k_scores.index(np.array(cv_k_scores).max())]\n",
    "\n",
    "# k puntos mas cercanos\n",
    "_, top_k_indices = tf.nn.top_k(tf.negative(distance), k=k)\n",
    "top_k_label = tf.gather(y_data_train, top_k_indices)\n",
    "\n",
    "sum_up_predictions = tf.reduce_sum(top_k_label, axis=1)\n",
    "prediction = tf.argmax(sum_up_predictions, axis=1)"
   ]
  },
  {
   "cell_type": "code",
   "execution_count": 87,
   "metadata": {},
   "outputs": [],
   "source": [
    "sess = tf.Session()\n",
    "# Obtenemos las predicciones\n",
    "prediction_outcome = sess.run(prediction, feed_dict = \n",
    "                              {x_data_train: x_train_eras,\n",
    "                               x_data_test: x_test_eras,\n",
    "                               y_data_train: y_train_era})\n"
   ]
  },
  {
   "cell_type": "code",
   "execution_count": 88,
   "metadata": {},
   "outputs": [
    {
     "name": "stdout",
     "output_type": "stream",
     "text": [
      "[[78  1  3  1]\n",
      " [ 5 57  9  1]\n",
      " [ 9 11 42  1]\n",
      " [ 0  0  1 34]]\n"
     ]
    }
   ],
   "source": [
    "# Obtenemos la matriz de confusión\n",
    "con = tf.confusion_matrix(labels=y_test_cls, predictions=prediction_outcome )\n",
    "sess = tf.Session()\n",
    "with sess.as_default():\n",
    "        print(sess.run(con))"
   ]
  },
  {
   "cell_type": "code",
   "execution_count": 89,
   "metadata": {},
   "outputs": [
    {
     "name": "stdout",
     "output_type": "stream",
     "text": [
      "0.83399209486166\n"
     ]
    }
   ],
   "source": [
    "accuracy = 0\n",
    "for pred, actual in zip(prediction_outcome, y_test_era):\n",
    "    if pred == np.argmax(actual):\n",
    "        accuracy += 1\n",
    "print(accuracy / len(prediction_outcome))"
   ]
  },
  {
   "cell_type": "code",
   "execution_count": null,
   "metadata": {},
   "outputs": [],
   "source": []
  }
 ],
 "metadata": {
  "kernelspec": {
   "display_name": "Python 3",
   "language": "python",
   "name": "python3"
  },
  "language_info": {
   "codemirror_mode": {
    "name": "ipython",
    "version": 3
   },
   "file_extension": ".py",
   "mimetype": "text/x-python",
   "name": "python",
   "nbconvert_exporter": "python",
   "pygments_lexer": "ipython3",
   "version": "3.7.4"
  }
 },
 "nbformat": 4,
 "nbformat_minor": 2
}
