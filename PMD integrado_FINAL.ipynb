{
 "cells": [
  {
   "cell_type": "code",
   "execution_count": 3,
   "metadata": {},
   "outputs": [
    {
     "name": "stderr",
     "output_type": "stream",
     "text": [
      "Using TensorFlow backend.\n"
     ]
    }
   ],
   "source": [
    "import pandas as pd\n",
    "import matplotlib.pyplot as plt\n",
    "import sklearn as sk\n",
    "from sklearn.model_selection import train_test_split\n",
    "from sklearn.neighbors import KNeighborsClassifier\n",
    "from sklearn.model_selection import cross_val_score\n",
    "from sklearn.metrics import confusion_matrix\n",
    "from sklearn import neural_network\n",
    "from sklearn import linear_model\n",
    "from sklearn import tree\n",
    "#import graphviz \n",
    "import numpy as np\n",
    "from scipy import stats \n",
    "from sklearn import preprocessing\n",
    "from sklearn.feature_selection import SelectKBest, f_classif, RFE\n",
    "from sklearn.ensemble import ExtraTreesClassifier\n",
    "import tensorflow as tf\n",
    "#import tensorflow.compat.v1 as tf\n",
    "#tf.disable_v2_behavior() \n",
    "from tensorflow import keras\n",
    "from keras.models import Sequential\n",
    "from keras.layers.core import Dense"
   ]
  },
  {
   "cell_type": "markdown",
   "metadata": {},
   "source": [
    "# Etapa 1: Preprocesamiento"
   ]
  },
  {
   "cell_type": "markdown",
   "metadata": {},
   "source": [
    "## Cargamos las bases de datos (excel)\n"
   ]
  },
  {
   "cell_type": "code",
   "execution_count": 4,
   "metadata": {},
   "outputs": [],
   "source": [
    "#Cargamos las bases de datos\n",
    "\n",
    "db_displasia = pd.read_excel('SMD.xls')\n",
    "\n",
    "\n",
    "db_hepatopata = pd.read_excel('Hepatopata.xls')\n",
    "\n",
    "\n",
    "db_oncologicos = pd.read_excel('Oncologicos.xls')\n",
    "\n",
    "\n",
    "db_PTI = pd.read_excel('PTI.xls')"
   ]
  },
  {
   "cell_type": "markdown",
   "metadata": {},
   "source": [
    "## Informacion de cada una de las db\n"
   ]
  },
  {
   "cell_type": "code",
   "execution_count": 5,
   "metadata": {},
   "outputs": [
    {
     "name": "stdout",
     "output_type": "stream",
     "text": [
      "<class 'pandas.core.frame.DataFrame'>\n",
      "RangeIndex: 417 entries, 0 to 416\n",
      "Columns: 110 entries, LEU to ESSYS\n",
      "dtypes: float64(93), int64(9), object(8)\n",
      "memory usage: 358.4+ KB\n"
     ]
    }
   ],
   "source": [
    "#Informacion SMD\n",
    "db_displasia.info()"
   ]
  },
  {
   "cell_type": "code",
   "execution_count": 6,
   "metadata": {},
   "outputs": [],
   "source": [
    "#Informacion Hepatopata\n",
    "#db_hepatopata.info()"
   ]
  },
  {
   "cell_type": "code",
   "execution_count": 7,
   "metadata": {},
   "outputs": [],
   "source": [
    "#Informacion oncologicos\n",
    "#db_oncologicos.info()"
   ]
  },
  {
   "cell_type": "code",
   "execution_count": 8,
   "metadata": {},
   "outputs": [
    {
     "name": "stdout",
     "output_type": "stream",
     "text": [
      "<class 'pandas.core.frame.DataFrame'>\n",
      "RangeIndex: 201 entries, 0 to 200\n",
      "Columns: 110 entries, LEU to ESSYS\n",
      "dtypes: float64(93), int64(10), object(7)\n",
      "memory usage: 172.8+ KB\n"
     ]
    }
   ],
   "source": [
    "#Informacion PTI\n",
    "db_PTI.info()"
   ]
  },
  {
   "cell_type": "markdown",
   "metadata": {},
   "source": [
    "## Limpieza de variables bajo supervision clinica y codificacion de etiquetas"
   ]
  },
  {
   "cell_type": "code",
   "execution_count": 9,
   "metadata": {},
   "outputs": [],
   "source": [
    "\n",
    "db_smd = db_displasia.drop(['PLTI','PLTF','PLTO','MNEU','MLIN','MMON','MBAS','MEOS','MCAS','MMET','MMIE','MPRO','CPLAS','MBLS','MERI','FRSP','COMHE','AVSBL','AVSPL','AVSRJ','AVNRB','ESSYS','WBC-P','IPFA','IPF','HIPF','VPM','RDW','NEUp','LINp','MONp','EOSp','BASp','IGp','ERBLp','RET','RETp','FRI','RETHE','HIPER','HYPO','MACR','MICRO','FRAGM','RBCO','MCHCO','BA-D%','BA-N%','D-HE','FRCA','IRF-Y','LIN_p','NEU_p','RBCHE','RBC-Y','RTNC','RUPP','RET-Y','RPI','TNC-D','TNC-P'],axis=1)\n"
   ]
  },
  {
   "cell_type": "code",
   "execution_count": 10,
   "metadata": {},
   "outputs": [],
   "source": [
    "#Añadimos una nueva variable que identifique la patologia (SMD --> 0)\n",
    "\n",
    "db_smd['Diagnosis']=np.zeros((417,1),dtype=np.int8)"
   ]
  },
  {
   "cell_type": "code",
   "execution_count": 11,
   "metadata": {},
   "outputs": [],
   "source": [
    "db_hpt = db_hepatopata.drop(['WBC-P','IPFA','IPF','HIPF','VPM','RDW','NEUp','LINp','MONp','EOSp','BASp','IGp','ERBLp','RET','RETp','FRI','RETHE','HIPER','HYPO','MACR','MICRO','FRAGM','RBCO','MCHCO','BA-D%','BA-N%','D-HE','FRCA','IRF-Y','LIN_p','NEU_p','RBCHE','RBC-Y','RTNC','RUPP','RET-Y','RPI','TNC-D','TNC-P'],axis=1)\n"
   ]
  },
  {
   "cell_type": "code",
   "execution_count": 12,
   "metadata": {},
   "outputs": [],
   "source": [
    "#Añadimos una variable que identifique el diagnostico (HPT --> 1)\n",
    "db_hpt['Diagnosis']=np.ones((342,1),dtype=np.int8)"
   ]
  },
  {
   "cell_type": "code",
   "execution_count": 13,
   "metadata": {},
   "outputs": [],
   "source": [
    "db_onc = db_oncologicos.drop(['WBC-P','IPFA','IPF','HIPF','VPM','RDW','NEUp','LINp','MONp','EOSp','BASp','IGp','ERBLp','RET','RETp','FRI','RETHE','HIPER','HYPO','MACR','MICRO','FRAGM','RBCO','MCHCO','BA-D%','BA-N%','D-HE','FRCA','IRF-Y','LIN_p','NEU_p','RBCHE','RBC-Y','RTNC','RUPP','RET-Y','RPI','TNC-D','TNC-P'],axis=1)\n"
   ]
  },
  {
   "cell_type": "code",
   "execution_count": 14,
   "metadata": {},
   "outputs": [],
   "source": [
    "#Añadimos una variable que identifique el diagnostico (ONC --> 2)\n",
    "db_onc['Diagnosis']=np.full((303,1),2)"
   ]
  },
  {
   "cell_type": "code",
   "execution_count": 15,
   "metadata": {},
   "outputs": [],
   "source": [
    "\n",
    "db_pti = db_PTI.drop(['PLTI','PLTF','PLTO','MNEU','MLIN','MMON','MBAS','MEOS','MCAS','MMET','MMIE','MPRO','CPLAS','MBLS','MERI','FRSP','COMHE','AVSBL','AVSPL','AVSRJ','AVNRB','ESSYS','WBC-P','IPFA','IPF','HIPF','VPM','RDW','NEUp','LINp','MONp','EOSp','BASp','IGp','ERBLp','RET','RETp','FRI','RETHE','HIPER','HYPO','MACR','MICRO','FRAGM','RBCO','MCHCO','BA-D%','BA-N%','D-HE','FRCA','IRF-Y','LIN_p','NEU_p','RBCHE','RBC-Y','RTNC','RUPP','RET-Y','RPI','TNC-D','TNC-P'],axis=1)\n"
   ]
  },
  {
   "cell_type": "code",
   "execution_count": 16,
   "metadata": {},
   "outputs": [],
   "source": [
    "#Añadimos una variable que identifique el diagnostico\n",
    "db_pti['Diagnosis']=np.full((201,1),3)"
   ]
  },
  {
   "cell_type": "markdown",
   "metadata": {},
   "source": [
    "## Fusionamos las bases de datos y representamos diagrama de cajas y bigotes"
   ]
  },
  {
   "cell_type": "code",
   "execution_count": 17,
   "metadata": {},
   "outputs": [],
   "source": [
    "db_final = pd.concat([db_smd,db_hpt,db_onc,db_pti])\n",
    "\n",
    "#db_final.info()\n",
    "\n",
    "db_final = db_final.replace(np.nan ,np.mean(db_final['PLT']))\n",
    "\n",
    "\n",
    "\n",
    "\n",
    "#db_final.plot(kind='box',subplots=True, layout= (10,10), sharex= False, sharey = False, figsize = (50,50))\n",
    "#plt.show()"
   ]
  },
  {
   "cell_type": "markdown",
   "metadata": {},
   "source": [
    "## Opcional: Eliminar los outliers utilizando z-score"
   ]
  },
  {
   "cell_type": "code",
   "execution_count": 18,
   "metadata": {},
   "outputs": [],
   "source": [
    "#Obtenemos z-score\n",
    "\n",
    "z = np.abs(stats.zscore(db_final))\n",
    "\n",
    "\n",
    "#Establecemps un umbral \n",
    "\n",
    "threshold = 2\n",
    "pos = np.where(z >threshold)\n",
    "\n",
    "#Eliminamos los outliers identificados por z-score \n",
    "\n",
    "db_final = db_final[(z < threshold).all(axis=1)]"
   ]
  },
  {
   "cell_type": "markdown",
   "metadata": {},
   "source": [
    "## Aleatorizamos y realizamos las particiones (Train y Validacion)"
   ]
  },
  {
   "cell_type": "code",
   "execution_count": 19,
   "metadata": {},
   "outputs": [],
   "source": [
    "#Realizamos las particiones de entrenamiento y test\n",
    "\n",
    "x = db_final.drop(['Diagnosis'],axis=1)\n",
    "y = db_final['Diagnosis']\n",
    "y_vals = np.eye(len(set(y)))[y]\n",
    "\n",
    "\n",
    "x_train,x_test,y_train,y_test = train_test_split(x,y_vals, test_size=0.2, random_state=7)\n",
    "\n",
    "y_test_cls = np.array([label.argmax() for label in y_test])"
   ]
  },
  {
   "cell_type": "markdown",
   "metadata": {},
   "source": [
    "## Cargamos las bases de datos de Test (una por patologia)"
   ]
  },
  {
   "cell_type": "code",
   "execution_count": 20,
   "metadata": {},
   "outputs": [],
   "source": [
    "db_displasia_test = pd.read_excel('smdtest.xls')\n",
    "\n",
    "\n",
    "db_hepatopata_test = pd.read_excel('hpttest.xls')\n",
    "\n",
    "\n",
    "db_oncologicos_test = pd.read_excel('oncotest.xls')\n",
    "\n",
    "\n",
    "db_PTI_test = pd.read_excel('ptitest.xls')"
   ]
  },
  {
   "cell_type": "markdown",
   "metadata": {},
   "source": [
    "## Limpieza de variables en test bajo supervision clinica y codificacion de etiquetas"
   ]
  },
  {
   "cell_type": "code",
   "execution_count": 21,
   "metadata": {},
   "outputs": [],
   "source": [
    "db_smd_test = db_displasia_test.drop(['Número','PLTI','PLTF','PLTO','MNEU','MLIN','MMON','MBAS','MEOS','MCAS','MMET','MMIE','MPRO','CPLAS','MBLS','MERI','FRSP','COMHE','WBC-P','IPFA','IPF','HIPF','VPM','RDW','NEUp','LINp','MONp','EOSp','BASp','IGp','ERBLp','RET','RETp','FRI','RETHE','HIPER','HYPO','MACR','MICRO','FRAGM','RBCO','MCHCO','BA-D%','BA-N%','D-HE','FRCA','IRF-Y','LIN_p','NEU_p','RBCHE','RBC-Y','RTNC','RUPP','RET-Y','RPI','TNC-D','TNC-P'],axis=1)\n",
    "db_smd_test['Diagnosis']=np.zeros((10,1),dtype=np.int8)\n",
    "\n",
    "db_hpt_test = db_hepatopata_test.drop(['Número','PLTI','PLTF','PLTO','MNEU','MLIN','MMON','MBAS','MEOS','MCAS','MMET','MMIE','MPRO','CPLAS','MBLS','MERI','FRSP','COMHE','WBC-P','IPFA','IPF','HIPF','VPM','RDW','NEUp','LINp','MONp','EOSp','BASp','IGp','ERBLp','RET','RETp','FRI','RETHE','HIPER','HYPO','MACR','MICRO','FRAGM','RBCO','MCHCO','BA-D%','BA-N%','D-HE','FRCA','IRF-Y','LIN_p','NEU_p','RBCHE','RBC-Y','RTNC','RUPP','RET-Y','RPI','TNC-D','TNC-P'],axis=1)\n",
    "db_hpt_test['Diagnosis']=np.ones((19,1),dtype=np.int8)\n",
    "\n",
    "\n",
    "db_onc_test = db_oncologicos_test.drop(['Número','PLTI','PLTF','PLTO','MNEU','MLIN','MMON','MBAS','MEOS','MCAS','MMET','MMIE','MPRO','CPLAS','MBLS','MERI','FRSP','COMHE','WBC-P','IPFA','IPF','HIPF','VPM','RDW','NEUp','LINp','MONp','EOSp','BASp','IGp','ERBLp','RET','RETp','FRI','RETHE','HIPER','HYPO','MACR','MICRO','FRAGM','RBCO','MCHCO','BA-D%','BA-N%','D-HE','FRCA','IRF-Y','LIN_p','NEU_p','RBCHE','RBC-Y','RTNC','RUPP','RET-Y','RPI','TNC-D','TNC-P'],axis=1)\n",
    "db_onc_test['Diagnosis']=np.full((19,1),2,dtype=np.int8)\n",
    "\n",
    "db_pti_test = db_PTI_test.drop(['Número','Fecha','Código Externo','PLTI','PLTF','PLTO','MNEU','MLIN','MMON','MBAS','MEOS','MCAS','MMET','MMIE','MPRO','CPLAS','MBLS','MERI','FRSP','COMHE','WBC-P','IPFA','IPF','HIPF','VPM','RDW','NEUp','LINp','MONp','EOSp','BASp','IGp','ERBLp','RET','RETp','FRI','RETHE','HIPER','HYPO','MACR','MICRO','FRAGM','RBCO','MCHCO','BA-D%','BA-N%','D-HE','FRCA','IRF-Y','LIN_p','NEU_p','RBCHE','RBC-Y','RTNC','RUPP','RET-Y','RPI','TNC-D','TNC-P'],axis=1)\n",
    "db_pti_test['Diagnosis']=np.full((4,1),3,dtype=np.int8)\n"
   ]
  },
  {
   "cell_type": "markdown",
   "metadata": {},
   "source": [
    "# Etapa 2: Machine Learning (Regresion logistica, Knn y Perceptron multicapa)"
   ]
  },
  {
   "cell_type": "markdown",
   "metadata": {},
   "source": [
    "## Estandarizador y entradas estandarizadas (se aplicara en caso necesario)"
   ]
  },
  {
   "cell_type": "code",
   "execution_count": 22,
   "metadata": {},
   "outputs": [],
   "source": [
    "scaler = preprocessing.StandardScaler().fit(x_train)\n",
    "\n",
    "x_train_s = scaler.transform(x_train)\n",
    "x_test_s = scaler.transform(x_test)"
   ]
  },
  {
   "cell_type": "markdown",
   "metadata": {},
   "source": [
    "## Regresion logistica (Modelo)"
   ]
  },
  {
   "cell_type": "code",
   "execution_count": 66,
   "metadata": {},
   "outputs": [],
   "source": [
    "x = tf.placeholder(tf.float32, [None, 49])\n",
    "y_true = tf.placeholder(tf.float32, [None, 4])\n",
    "y_true_cls = tf.placeholder(tf.int64, [None])\n",
    "w = tf.Variable(tf.zeros([49, 4]))\n",
    "b = tf.Variable(tf.zeros([4]))\n",
    "logits = tf.matmul(x, w) + b\n",
    "y_pred = tf.nn.softmax(logits)\n",
    "y_pred_cls = tf.argmax(y_pred, axis=1) #axis=dimension\n",
    "#y_test_cls = np.array([label.argmax() for label in y_test])"
   ]
  },
  {
   "cell_type": "code",
   "execution_count": 86,
   "metadata": {},
   "outputs": [],
   "source": [
    "cross_entropy = tf.nn.softmax_cross_entropy_with_logits_v2(logits=logits,labels=y_true)\n",
    "cost = tf.reduce_mean(cross_entropy)\n",
    "optimizer = tf.train.GradientDescentOptimizer(learning_rate=0.01).minimize(cost)\n",
    "correct_prediction = tf.equal(y_pred_cls, y_true_cls)\n",
    "accuracy = tf.reduce_mean(tf.cast(correct_prediction, tf.float32))"
   ]
  },
  {
   "cell_type": "markdown",
   "metadata": {},
   "source": [
    "## Regresion logistica (Entrenamiento)"
   ]
  },
  {
   "cell_type": "code",
   "execution_count": 87,
   "metadata": {},
   "outputs": [],
   "source": [
    "session = tf.Session()\n",
    "session.run(tf.global_variables_initializer())\n",
    "def optimize(num_iterations):\n",
    "    for i in range(num_iterations):\n",
    "        \n",
    "        feed_dict_train = {x: x_train_s, y_true: y_train}\n",
    "\n",
    "        session.run(optimizer, feed_dict=feed_dict_train)"
   ]
  },
  {
   "cell_type": "markdown",
   "metadata": {},
   "source": [
    "## Regresion logistica (Validacion)"
   ]
  },
  {
   "cell_type": "code",
   "execution_count": 88,
   "metadata": {},
   "outputs": [],
   "source": [
    "classes = ['SMD','Hepatópatas','Oncológicos','PTI']\n",
    "\n",
    "feed_dict_test = {x: x_test_s,\n",
    "                  y_true: y_test,\n",
    "                  y_true_cls: y_test_cls}\n",
    "\n",
    "def print_accuracy():\n",
    "    # Use TensorFlow to compute the accuracy.\n",
    "    acc = session.run(accuracy, feed_dict=feed_dict_test)\n",
    "\n",
    "    # Print the accuracy.\n",
    "    print(\"Accuracy on test-set: {0:.1%}\".format(acc))\n",
    "\n",
    "def plot_confusion_matrix(normalize=False):\n",
    "\n",
    "    # Compute confusion matrix\n",
    "    # Only use the labels that appear in the data\n",
    "    #classes = classes[unique_labels(y_true, y_pred)]\n",
    "    \n",
    "    # Get the true classifications for the test-set.\n",
    "    cls_true = y_test_cls\n",
    "\n",
    "    # Get the predicted classifications for the test-set.\n",
    "    cls_pred = session.run(y_pred_cls, feed_dict=feed_dict_test)\n",
    "\n",
    "    # Get the confusion matrix using sklearn.\n",
    "    cm = confusion_matrix(y_true=cls_true,\n",
    "                          y_pred=cls_pred)\n",
    "\n",
    "    # Print the confusion matrix as text.\n",
    "    print(cm)\n",
    "    \n",
    "    fig, ax = plt.subplots()\n",
    "    im = ax.imshow(cm, interpolation='nearest', cmap=plt.cm.Blues)\n",
    "    ax.figure.colorbar(im, ax=ax)\n",
    "    # We want to show all ticks...\n",
    "    ax.set(xticks=np.arange(cm.shape[1]),\n",
    "           yticks=np.arange(cm.shape[0]),\n",
    "           # ... and label them with the respective list entries\n",
    "           xticklabels=classes, yticklabels=classes,\n",
    "           title='Matriz de confusión',\n",
    "           ylabel='True label',\n",
    "           xlabel='Predicted label')\n",
    "\n",
    "    # Rotate the tick labels and set their alignment.\n",
    "    plt.setp(ax.get_xticklabels(), rotation=45, ha=\"right\",\n",
    "             rotation_mode=\"anchor\")\n",
    "\n",
    "    # Loop over data dimensions and create text annotations.\n",
    "    fmt = '.2f' if normalize else 'd'\n",
    "    thresh = cm.max() / 2.\n",
    "    for i in range(cm.shape[0]):\n",
    "        for j in range(cm.shape[1]):\n",
    "            ax.text(j, i, format(cm[i, j], fmt),\n",
    "                    ha=\"center\", va=\"center\",\n",
    "                    color=\"white\" if cm[i, j] > thresh else \"black\")\n",
    "    fig.tight_layout()\n",
    "    return ax\n"
   ]
  },
  {
   "cell_type": "code",
   "execution_count": 89,
   "metadata": {},
   "outputs": [
    {
     "name": "stdout",
     "output_type": "stream",
     "text": [
      "[[13  2  2  0]\n",
      " [ 1 48  4  1]\n",
      " [ 2 13 32  2]\n",
      " [ 1  1  2 18]]\n",
      "Accuracy on test-set: 78.2%\n"
     ]
    },
    {
     "data": {
      "image/png": "[encoded data removed]",
      "text/plain": [
       "<Figure size 432x288 with 2 Axes>"
      ]
     },
     "metadata": {
      "needs_background": "light"
     },
     "output_type": "display_data"
    }
   ],
   "source": [
    "optimize(num_iterations=1000)\n",
    "plot_confusion_matrix()\n",
    "print_accuracy()"
   ]
  },
  {
   "cell_type": "code",
   "execution_count": 90,
   "metadata": {},
   "outputs": [],
   "source": [
    "session.close()"
   ]
  },
  {
   "cell_type": "markdown",
   "metadata": {},
   "source": [
    "## Knn (Modelo)"
   ]
  },
  {
   "cell_type": "code",
   "execution_count": 29,
   "metadata": {},
   "outputs": [],
   "source": [
    "# Creacion del modelo knn\n",
    "x_data_train = tf.placeholder(shape=[None, 49], dtype=tf.float32)\n",
    "y_data_train = tf.placeholder(shape=[None, 4], dtype=tf.float32)\n",
    "x_data_test = tf.placeholder(shape=[None, 49], dtype=tf.float32)"
   ]
  },
  {
   "cell_type": "markdown",
   "metadata": {},
   "source": [
    "## Knn (distancia Manhattan)"
   ]
  },
  {
   "cell_type": "code",
   "execution_count": 30,
   "metadata": {},
   "outputs": [
    {
     "name": "stdout",
     "output_type": "stream",
     "text": [
      "cv_k_Scores: [0.7394366197183099, 0.7394366197183099, 0.7605633802816901, 0.7323943661971831, 0.7183098591549296, 0.7112676056338029, 0.7323943661971831, 0.7323943661971831, 0.7112676056338029, 0.7183098591549296, 0.7183098591549296, 0.6830985915492958, 0.6830985915492958, 0.6690140845070423, 0.6830985915492958, 0.6830985915492958, 0.676056338028169, 0.676056338028169, 0.676056338028169, 0.676056338028169]\n",
      "20\n",
      "20\n"
     ]
    },
    {
     "data": {
      "image/png": "[encoded data removed]",
      "text/plain": [
       "<Figure size 432x288 with 1 Axes>"
      ]
     },
     "metadata": {
      "needs_background": "light"
     },
     "output_type": "display_data"
    },
    {
     "name": "stdout",
     "output_type": "stream",
     "text": [
      "El valor óptimo de vecinos cercanos es: 5\n",
      "El máximo valor de accuracy es: 0.7605633802816901\n"
     ]
    }
   ],
   "source": [
    "#Validacion cruzada para obtener una buena capacidad de generalizacion\n",
    "\n",
    "k_values = range(1,40,2)\n",
    "cv_k_scores = []\n",
    "\n",
    "distance = tf.reduce_sum(tf.abs(tf.subtract(x_data_train, tf.expand_dims(x_data_test, 1))), axis=2)\n",
    "\n",
    "for k in k_values:\n",
    "    _, top_k_indices = tf.nn.top_k(tf.negative(distance), k=k)\n",
    "    top_k_label = tf.gather(y_data_train, top_k_indices)\n",
    "\n",
    "    sum_up_predictions = tf.reduce_sum(top_k_label, axis=1)\n",
    "    prediction = tf.argmax(sum_up_predictions, axis=1)\n",
    "    sess = tf.Session()\n",
    "    prediction_outcome = sess.run(prediction, feed_dict = \n",
    "                              {x_data_train: x_train_s,\n",
    "                               x_data_test: x_test_s,\n",
    "                               y_data_train: y_train})\n",
    "    \n",
    "    accuracy = 0\n",
    "    for pred, actual in zip(prediction_outcome, y_test):\n",
    "        if pred == np.argmax(actual):\n",
    "            accuracy += 1\n",
    "    cv_k_scores.append(accuracy / len(prediction_outcome))\n",
    "\n",
    "        \n",
    "print('cv_k_Scores:',cv_k_scores)\n",
    "print(len(cv_k_scores))\n",
    "print(len(k_values))\n",
    "\n",
    "\n",
    "plt.plot(k_values, cv_k_scores)\n",
    "plt.grid()\n",
    "\n",
    "plt.xlabel('K')\n",
    "plt.ylabel('Accuracy')\n",
    "plt.show()\n",
    "\n",
    "\n",
    "# Seleccionamor el maximo porque consideramos accuracy\n",
    "\n",
    "print('El valor óptimo de vecinos cercanos es:',np.array(k_values)[cv_k_scores.index(np.array(cv_k_scores).max())])\n",
    "\n",
    "# Obtenemos el máximo valor de accuracy \n",
    "\n",
    "print('El máximo valor de accuracy es:',max(cv_k_scores))\n"
   ]
  },
  {
   "cell_type": "markdown",
   "metadata": {},
   "source": [
    "Se implementa la distancia Manhattan:valor absoluto de la diferencia entre los valores del vector de dos puntos de datos de x1 y x2.\n",
    "El comando 'tf.expand_dims' añade una dimension extra a 'x_data_test' para que se puede llevar a cabo la resta."
   ]
  },
  {
   "cell_type": "code",
   "execution_count": 31,
   "metadata": {},
   "outputs": [],
   "source": [
    "distance = tf.reduce_sum(tf.abs(tf.subtract(x_data_train, tf.expand_dims(x_data_test, 1))), axis=2)"
   ]
  },
  {
   "cell_type": "markdown",
   "metadata": {},
   "source": [
    "Reemplazamos el valor de k que hemos obtenido tras realizar validación cruzada."
   ]
  },
  {
   "cell_type": "code",
   "execution_count": 32,
   "metadata": {},
   "outputs": [],
   "source": [
    "k = 5\n",
    "\n",
    "# k puntos mas cercanos\n",
    "_, top_k_indices = tf.nn.top_k(tf.negative(distance), k=k)\n",
    "top_k_label = tf.gather(y_data_train, top_k_indices)\n",
    "\n",
    "sum_up_predictions = tf.reduce_sum(top_k_label, axis=1)\n",
    "prediction = tf.argmax(sum_up_predictions, axis=1)"
   ]
  },
  {
   "cell_type": "markdown",
   "metadata": {},
   "source": [
    "- Con la funcion 'tf.nn.top_k()', se obtienes los mayores valores y los índices de KNN. El primer valor de retorno, son los valores de las distancias y por lo tanto se descartan ya que la función 'tf.negative()' hace que los valores sean negativos.\n",
    "\n",
    "\n",
    "- Con la función 'tf.gather()' extraemos las etiquetas de entrenamiento asociadas a los índices de los vecinos más cercanos. Por tanto, top_k_label son las etiquetas codificadas.\n",
    "\n",
    "\n",
    "- Con la función 'tf.reduce_sum()', se obtiene la suma de elementos.\n",
    "\n",
    "\n",
    "- Con la funcion 'tf.argmax()' se obtienen las etiquetas predichas ya que con esta función se obtiene el índice del valor máximo."
   ]
  },
  {
   "cell_type": "markdown",
   "metadata": {},
   "source": [
    "## Knn (Manhattan) - Entrenamiento"
   ]
  },
  {
   "cell_type": "code",
   "execution_count": 33,
   "metadata": {},
   "outputs": [],
   "source": [
    "sess = tf.Session()\n",
    "# Obtenemos las predicciones\n",
    "prediction_outcome = sess.run(prediction, feed_dict = \n",
    "                              {x_data_train: x_train_s,\n",
    "                               x_data_test: x_test_s,\n",
    "                               y_data_train: y_train})"
   ]
  },
  {
   "cell_type": "markdown",
   "metadata": {},
   "source": [
    "## Knn (Manhattan) - Validacion"
   ]
  },
  {
   "cell_type": "code",
   "execution_count": 34,
   "metadata": {},
   "outputs": [
    {
     "name": "stdout",
     "output_type": "stream",
     "text": [
      "[[12  3  1  1]\n",
      " [ 3 46  3  2]\n",
      " [ 3 11 32  3]\n",
      " [ 0  3  1 18]]\n"
     ]
    }
   ],
   "source": [
    "# Obtenemos la matriz de confusión\n",
    "con = tf.confusion_matrix(labels=y_test_cls, predictions=prediction_outcome )\n",
    "sess = tf.Session()\n",
    "with sess.as_default():\n",
    "        print(sess.run(con))"
   ]
  },
  {
   "cell_type": "code",
   "execution_count": 35,
   "metadata": {},
   "outputs": [
    {
     "data": {
      "text/plain": [
       "Counter({1: 54, 3: 22, 2: 49, 0: 17})"
      ]
     },
     "execution_count": 35,
     "metadata": {},
     "output_type": "execute_result"
    }
   ],
   "source": [
    "import collections\n",
    "\n",
    "# Contamos cuantos pacientes hay en cada clase\n",
    "collections.Counter(y_test_cls)"
   ]
  },
  {
   "cell_type": "code",
   "execution_count": 36,
   "metadata": {},
   "outputs": [
    {
     "name": "stdout",
     "output_type": "stream",
     "text": [
      "0.7605633802816901\n"
     ]
    }
   ],
   "source": [
    "accuracy = 0\n",
    "for pred, actual in zip(prediction_outcome, y_test):\n",
    "    if pred == np.argmax(actual):\n",
    "        accuracy += 1\n",
    "print(accuracy / len(prediction_outcome))"
   ]
  },
  {
   "cell_type": "markdown",
   "metadata": {},
   "source": [
    "## Knn (Euclidea)"
   ]
  },
  {
   "cell_type": "markdown",
   "metadata": {},
   "source": [
    "En este punto, se realiza validación cruzada tomando como medida de distancia la euclídea, ya que sabemos que KNN es sensible a la distancia que se considere (los vecinos cercanos pueden cambiar)."
   ]
  },
  {
   "cell_type": "code",
   "execution_count": 74,
   "metadata": {},
   "outputs": [
    {
     "data": {
      "image/png": "[encoded data removed]",
      "text/plain": [
       "<Figure size 432x288 with 1 Axes>"
      ]
     },
     "metadata": {
      "needs_background": "light"
     },
     "output_type": "display_data"
    },
    {
     "name": "stdout",
     "output_type": "stream",
     "text": [
      "El valor óptimo de vecinos cercanos es: 11\n",
      "El máximo valor de accuracy es: 0.7394366197183099\n"
     ]
    }
   ],
   "source": [
    "k_values = range(1,55,2)\n",
    "cv_k_scores = []\n",
    "\n",
    "# Definimos la distancia euclidea\n",
    "euclidian_distance = tf.sqrt(tf.reduce_sum(tf.square(tf.subtract(x_data_train, tf.expand_dims(x_data_test,1))), axis=2))\n",
    "\n",
    "\n",
    "for k in k_values:\n",
    "    _, top_k_indices = tf.nn.top_k(tf.negative(euclidian_distance), k=k)\n",
    "    top_k_label = tf.gather(y_data_train, top_k_indices)\n",
    "\n",
    "    sum_up_predictions = tf.reduce_sum(top_k_label, axis=1)\n",
    "    prediction = tf.argmax(sum_up_predictions, axis=1)\n",
    "    sess = tf.Session()\n",
    "    prediction_outcome = sess.run(prediction, feed_dict = \n",
    "                              {x_data_train: x_train_s,\n",
    "                               x_data_test: x_test_s,\n",
    "                               y_data_train: y_train})\n",
    "    \n",
    "    accuracy = 0\n",
    "    for pred, actual in zip(prediction_outcome, y_test):\n",
    "        if pred == np.argmax(actual):\n",
    "            accuracy += 1\n",
    "    cv_k_scores.append(accuracy / len(prediction_outcome))\n",
    "\n",
    "\n",
    "\n",
    "plt.plot(k_values, cv_k_scores)\n",
    "plt.grid()\n",
    "\n",
    "plt.xlabel('K')\n",
    "plt.ylabel('Accuracy')\n",
    "plt.show()\n",
    "\n",
    "\n",
    "# Seleccionamor el maximo porque consideramos accuracy\n",
    "\n",
    "print('El valor óptimo de vecinos cercanos es:',np.array(k_values)[cv_k_scores.index(np.array(cv_k_scores).max())])\n",
    "\n",
    "# Obtenemos el máximo valor de accuracy \n",
    "\n",
    "print('El máximo valor de accuracy es:',max(cv_k_scores))"
   ]
  },
  {
   "cell_type": "markdown",
   "metadata": {},
   "source": [
    "Hemos obtenido como valor óptimo de vecinos cercanos el valor 7, por tanto creamos el modelo con este valor de k."
   ]
  },
  {
   "cell_type": "code",
   "execution_count": 38,
   "metadata": {},
   "outputs": [],
   "source": [
    "k = 11\n",
    "\n",
    "# K puntos mas cercanos\n",
    "_, top_k_indices = tf.nn.top_k(tf.negative(euclidian_distance), k=k)\n",
    "top_k_label = tf.gather(y_data_train, top_k_indices)\n",
    "\n",
    "sum_up_predictions = tf.reduce_sum(top_k_label, axis=1)\n",
    "prediction = tf.argmax(sum_up_predictions, axis=1)"
   ]
  },
  {
   "cell_type": "markdown",
   "metadata": {},
   "source": [
    "## Knn (Euclidea) - Entrenamiento"
   ]
  },
  {
   "cell_type": "code",
   "execution_count": 39,
   "metadata": {},
   "outputs": [],
   "source": [
    "sess = tf.Session()\n",
    "prediction_outcome_d2 = sess.run(prediction, feed_dict = \n",
    "                              {x_data_train: x_train_s,\n",
    "                               x_data_test: x_test_s,\n",
    "                               y_data_train: y_train})"
   ]
  },
  {
   "cell_type": "markdown",
   "metadata": {},
   "source": [
    "## Knn (Euclidea) - Validacion"
   ]
  },
  {
   "cell_type": "code",
   "execution_count": 40,
   "metadata": {},
   "outputs": [
    {
     "name": "stdout",
     "output_type": "stream",
     "text": [
      "[[12  1  3  1]\n",
      " [ 1 47  3  3]\n",
      " [ 0 18 29  2]\n",
      " [ 0  3  2 17]]\n"
     ]
    }
   ],
   "source": [
    "# Matriz de confusión \n",
    "\n",
    "con = tf.confusion_matrix(labels=y_test_cls, predictions=prediction_outcome_d2 )\n",
    "sess = tf.Session()\n",
    "with sess.as_default():\n",
    "        print(sess.run(con))"
   ]
  },
  {
   "cell_type": "code",
   "execution_count": 41,
   "metadata": {},
   "outputs": [
    {
     "name": "stdout",
     "output_type": "stream",
     "text": [
      "Tasa de acierto: 0.7394366197183099\n"
     ]
    }
   ],
   "source": [
    "# Obtenemos la tasa de acierto\n",
    "accuracy_d2 = 0\n",
    "for pred, actual in zip(prediction_outcome_d2, y_test):\n",
    "    if pred == np.argmax(actual):\n",
    "        accuracy_d2 += 1\n",
    "print('Tasa de acierto:',accuracy_d2 / len(prediction_outcome_d2))\n",
    "\n"
   ]
  },
  {
   "cell_type": "markdown",
   "metadata": {},
   "source": [
    "## Red neuronal : Perceptron multicapa"
   ]
  },
  {
   "cell_type": "code",
   "execution_count": 42,
   "metadata": {},
   "outputs": [],
   "source": [
    "from keras.wrappers.scikit_learn import KerasClassifier\n",
    "from keras.layers import Dropout\n",
    "from sklearn.model_selection import GridSearchCV"
   ]
  },
  {
   "cell_type": "markdown",
   "metadata": {},
   "source": [
    "Obtenemos los valores de las etiquetas (0,1,2 y 3) ya que estaban codificadas, y para el entrenamiento de la red neuronal se requieren con dichos valores\n"
   ]
  },
  {
   "cell_type": "code",
   "execution_count": 75,
   "metadata": {},
   "outputs": [],
   "source": [
    "y_train_cls = np.array([label.argmax() for label in y_train])\n"
   ]
  },
  {
   "cell_type": "markdown",
   "metadata": {},
   "source": [
    "Validación cruzada - Tamaño del batch, épocas y optimizador"
   ]
  },
  {
   "cell_type": "code",
   "execution_count": 46,
   "metadata": {},
   "outputs": [],
   "source": [
    "def build_model(optimizer):\n",
    "  model = Sequential()\n",
    "  model.add(Dense(32, input_shape=(x_train_s.shape[1],), activation='relu'))\n",
    "  model.add(Dropout(0.1))\n",
    "  model.add(Dense(64, activation='relu'))\n",
    "  model.add(Dropout(0.1))\n",
    "  model.add(Dense(4, activation='sigmoid'))\n",
    "  model.compile(loss='categorical_crossentropy', optimizer=optimizer, metrics=['acc'])\n",
    "  return model\n",
    "\n"
   ]
  },
  {
   "cell_type": "code",
   "execution_count": 47,
   "metadata": {},
   "outputs": [
    {
     "name": "stdout",
     "output_type": "stream",
     "text": [
      "WARNING:tensorflow:From /Users/nicolevizhnaycorral/anaconda3/envs/optimization/lib/python3.6/site-packages/tensorflow/python/ops/math_grad.py:1250: add_dispatch_support.<locals>.wrapper (from tensorflow.python.ops.array_ops) is deprecated and will be removed in a future version.\n",
      "Instructions for updating:\n",
      "Use tf.where in 2.0, which has the same broadcast rule as np.where\n",
      "WARNING:tensorflow:From /Users/nicolevizhnaycorral/anaconda3/envs/optimization/lib/python3.6/site-packages/keras/backend/tensorflow_backend.py:422: The name tf.global_variables is deprecated. Please use tf.compat.v1.global_variables instead.\n",
      "\n",
      "WARNING:tensorflow:From /Users/nicolevizhnaycorral/anaconda3/envs/optimization/lib/python3.6/site-packages/keras/backend/tensorflow_backend.py:431: The name tf.is_variable_initialized is deprecated. Please use tf.compat.v1.is_variable_initialized instead.\n",
      "\n",
      "WARNING:tensorflow:From /Users/nicolevizhnaycorral/anaconda3/envs/optimization/lib/python3.6/site-packages/keras/backend/tensorflow_backend.py:438: The name tf.variables_initializer is deprecated. Please use tf.compat.v1.variables_initializer instead.\n",
      "\n"
     ]
    },
    {
     "name": "stderr",
     "output_type": "stream",
     "text": [
      "/Users/nicolevizhnaycorral/anaconda3/envs/optimization/lib/python3.6/site-packages/sklearn/model_selection/_search.py:814: DeprecationWarning: The default of the `iid` parameter will change from True to False in version 0.22 and will be removed in 0.24. This will change numeric results when test-set sizes are unequal.\n",
      "  DeprecationWarning)\n"
     ]
    },
    {
     "data": {
      "text/plain": [
       "{'batch_size': 32, 'epochs': 100, 'optimizer': 'rmsprop'}"
      ]
     },
     "execution_count": 47,
     "metadata": {},
     "output_type": "execute_result"
    }
   ],
   "source": [
    "parameters = parameters = {'batch_size': [16,32],\n",
    "             'epochs':[100,300],\n",
    "             'optimizer': ['adam', 'rmsprop']}\n",
    "\n",
    "estimator = KerasClassifier(build_fn=build_model, verbose=0)\n",
    "grid_search = GridSearchCV(estimator=estimator, param_grid=parameters, scoring='accuracy', cv=3)\n",
    "grid_search.fit(x_train_s, y_train_cls)\n",
    "grid_search.best_params_"
   ]
  },
  {
   "cell_type": "markdown",
   "metadata": {},
   "source": [
    "Validación cruzada - Número de neuronas de entrada\n",
    "\n",
    "Una vez que obtenemos los parámetros óptimos los definimos en el estimador y realizamos validación cruzada para obtener el número de neuronas a la entrada de las capas."
   ]
  },
  {
   "cell_type": "code",
   "execution_count": 50,
   "metadata": {},
   "outputs": [],
   "source": [
    "def build_model(l1, l2):\n",
    "  model = Sequential()\n",
    "  model.add(Dense(l1, input_shape=(x_train_s.shape[1],), activation='relu'))\n",
    "  model.add(Dropout(0.1))\n",
    "  model.add(Dense(l2, activation='relu'))\n",
    "  model.add(Dropout(0.1))\n",
    "  model.add(Dense(4, activation='sigmoid'))\n",
    "  model.compile(loss='categorical_crossentropy', optimizer='rmsprop', metrics=['accuracy'])\n",
    "  return model\n",
    "\n",
    "parameters = {'l1':[16,32,64],\n",
    "             'l2':[16,23,64]}\n",
    "\n"
   ]
  },
  {
   "cell_type": "code",
   "execution_count": 51,
   "metadata": {},
   "outputs": [
    {
     "data": {
      "text/plain": [
       "{'l1': 64, 'l2': 23}"
      ]
     },
     "execution_count": 51,
     "metadata": {},
     "output_type": "execute_result"
    }
   ],
   "source": [
    "estimator = KerasClassifier(build_fn=build_model, verbose=0, batch_size=32, epochs=100)\n",
    "grid_search = GridSearchCV(estimator=estimator, param_grid=parameters, scoring='accuracy', cv=3)\n",
    "grid_search.fit(x_train_s, y_train_cls) \n",
    "grid_search.best_params_"
   ]
  },
  {
   "cell_type": "markdown",
   "metadata": {},
   "source": [
    "Validación cruzada - Dropouts\n",
    "\n",
    "Una vez tenemos los correspondientes valores de las capas, los sustituimos y buscamos con los porcentajes de dropout óptimos"
   ]
  },
  {
   "cell_type": "code",
   "execution_count": 56,
   "metadata": {},
   "outputs": [],
   "source": [
    "#Dropouts\n",
    "\n",
    "def build_model(d1, d2):\n",
    "    model = Sequential()\n",
    "    model.add(Dense(64, input_shape=(x_train_s.shape[1],), activation='relu'))\n",
    "    model.add(Dropout(d1))\n",
    "    model.add(Dense(23, activation='relu'))\n",
    "    model.add(Dropout(d2))\n",
    "    model.add(Dense(4, activation='sigmoid'))\n",
    "    model.compile(loss='categorical_crossentropy', optimizer='rmsprop', metrics=['acc'])\n",
    "    return model\n",
    "\n",
    "parameters = {'d1':[0.1,0.2,0.3],\n",
    "             'd2':[0.1,0.2,0.3]}\n",
    "\n"
   ]
  },
  {
   "cell_type": "code",
   "execution_count": 57,
   "metadata": {},
   "outputs": [
    {
     "data": {
      "text/plain": [
       "{'d1': 0.3, 'd2': 0.3}"
      ]
     },
     "execution_count": 57,
     "metadata": {},
     "output_type": "execute_result"
    }
   ],
   "source": [
    "estimator = KerasClassifier(build_fn=build_model, verbose=0, batch_size=32, epochs=100)\n",
    "grid_search = GridSearchCV(estimator=estimator, param_grid=parameters, scoring='accuracy', cv=3)\n",
    "grid_search.fit(x_train_s, y_train_cls)\n",
    "grid_search.best_params_"
   ]
  },
  {
   "cell_type": "markdown",
   "metadata": {},
   "source": [
    "Una vez que hemos obtenido los parámetros libres a través de validación cruzada creamos el modelo definitivo"
   ]
  },
  {
   "cell_type": "code",
   "execution_count": 67,
   "metadata": {},
   "outputs": [],
   "source": [
    "# Crearemos una serie de capas de neuronas secuenciales\n",
    "model = Sequential()\n",
    "\n",
    "# Capa de entrada con 49 neuronas\n",
    "# La primera capa oculta tiene 64 neuronas\n",
    "model.add(Dense(64, input_shape=(x_train_s.shape[1],), activation='relu'))\n",
    "model.add(Dropout(0.3))\n",
    "model.add(Dense(23, activation='relu'))\n",
    "model.add(Dropout(0.3))\n",
    "\n",
    "# Agregamos una capa con 4 neuronas de salida y función de activación sigmoide\n",
    "model.add(Dense(4, activation='sigmoid'))\n"
   ]
  },
  {
   "cell_type": "code",
   "execution_count": 68,
   "metadata": {},
   "outputs": [],
   "source": [
    "# Función de pérdida: binary_crossentropy, optimizador= adam, definimos exactitud como métrica\n",
    "\n",
    "model.compile(loss='categorical_crossentropy',\n",
    "              optimizer='rmsprop',\n",
    "              metrics=['accuracy'])"
   ]
  },
  {
   "cell_type": "code",
   "execution_count": 69,
   "metadata": {},
   "outputs": [
    {
     "name": "stdout",
     "output_type": "stream",
     "text": [
      "Train on 508 samples, validate on 57 samples\n",
      "Epoch 1/100\n",
      "508/508 [==============================] - 4s 8ms/step - loss: 1.4173 - accuracy: 0.2854 - val_loss: 1.3254 - val_accuracy: 0.4211\n",
      "Epoch 2/100\n",
      "508/508 [==============================] - 0s 347us/step - loss: 1.2701 - accuracy: 0.4232 - val_loss: 1.2427 - val_accuracy: 0.4912\n",
      "Epoch 3/100\n",
      "508/508 [==============================] - 0s 278us/step - loss: 1.2253 - accuracy: 0.4626 - val_loss: 1.1676 - val_accuracy: 0.5088\n",
      "Epoch 4/100\n",
      "508/508 [==============================] - 0s 353us/step - loss: 1.1392 - accuracy: 0.5315 - val_loss: 1.1078 - val_accuracy: 0.5263\n",
      "Epoch 5/100\n",
      "508/508 [==============================] - 0s 282us/step - loss: 1.0605 - accuracy: 0.5709 - val_loss: 1.0539 - val_accuracy: 0.5614\n",
      "Epoch 6/100\n",
      "508/508 [==============================] - 0s 358us/step - loss: 1.0247 - accuracy: 0.6024 - val_loss: 1.0068 - val_accuracy: 0.5965\n",
      "Epoch 7/100\n",
      "508/508 [==============================] - 0s 361us/step - loss: 1.0222 - accuracy: 0.5945 - val_loss: 0.9757 - val_accuracy: 0.6140\n",
      "Epoch 8/100\n",
      "508/508 [==============================] - 0s 353us/step - loss: 0.9424 - accuracy: 0.6142 - val_loss: 0.9439 - val_accuracy: 0.6316\n",
      "Epoch 9/100\n",
      "508/508 [==============================] - 0s 359us/step - loss: 0.9009 - accuracy: 0.6457 - val_loss: 0.9220 - val_accuracy: 0.6316\n",
      "Epoch 10/100\n",
      "508/508 [==============================] - 0s 370us/step - loss: 0.8899 - accuracy: 0.6713 - val_loss: 0.8913 - val_accuracy: 0.6316\n",
      "Epoch 11/100\n",
      "508/508 [==============================] - 0s 369us/step - loss: 0.8640 - accuracy: 0.6772 - val_loss: 0.8751 - val_accuracy: 0.6491\n",
      "Epoch 12/100\n",
      "508/508 [==============================] - 0s 445us/step - loss: 0.8343 - accuracy: 0.6614 - val_loss: 0.8451 - val_accuracy: 0.6667\n",
      "Epoch 13/100\n",
      "508/508 [==============================] - 0s 459us/step - loss: 0.7911 - accuracy: 0.6890 - val_loss: 0.8173 - val_accuracy: 0.6842\n",
      "Epoch 14/100\n",
      "508/508 [==============================] - 0s 364us/step - loss: 0.7861 - accuracy: 0.6890 - val_loss: 0.8021 - val_accuracy: 0.6842\n",
      "Epoch 15/100\n",
      "508/508 [==============================] - 0s 506us/step - loss: 0.7888 - accuracy: 0.6811 - val_loss: 0.7887 - val_accuracy: 0.6842\n",
      "Epoch 16/100\n",
      "508/508 [==============================] - 0s 455us/step - loss: 0.7438 - accuracy: 0.7047 - val_loss: 0.7860 - val_accuracy: 0.7018\n",
      "Epoch 17/100\n",
      "508/508 [==============================] - 0s 339us/step - loss: 0.7388 - accuracy: 0.7185 - val_loss: 0.7745 - val_accuracy: 0.7018\n",
      "Epoch 18/100\n",
      "508/508 [==============================] - 0s 382us/step - loss: 0.7125 - accuracy: 0.7185 - val_loss: 0.7670 - val_accuracy: 0.7018\n",
      "Epoch 19/100\n",
      "508/508 [==============================] - 0s 373us/step - loss: 0.7032 - accuracy: 0.7264 - val_loss: 0.7554 - val_accuracy: 0.7018\n",
      "Epoch 20/100\n",
      "508/508 [==============================] - 0s 471us/step - loss: 0.6824 - accuracy: 0.7224 - val_loss: 0.7545 - val_accuracy: 0.7018\n",
      "Epoch 21/100\n",
      "508/508 [==============================] - 0s 373us/step - loss: 0.6706 - accuracy: 0.7224 - val_loss: 0.7462 - val_accuracy: 0.7018\n",
      "Epoch 22/100\n",
      "508/508 [==============================] - 0s 370us/step - loss: 0.6503 - accuracy: 0.7559 - val_loss: 0.7385 - val_accuracy: 0.7018\n",
      "Epoch 23/100\n",
      "508/508 [==============================] - 0s 310us/step - loss: 0.6470 - accuracy: 0.7500 - val_loss: 0.7358 - val_accuracy: 0.7018\n",
      "Epoch 24/100\n",
      "508/508 [==============================] - 0s 324us/step - loss: 0.6187 - accuracy: 0.7362 - val_loss: 0.7388 - val_accuracy: 0.7018\n",
      "Epoch 25/100\n",
      "508/508 [==============================] - 0s 392us/step - loss: 0.6350 - accuracy: 0.7382 - val_loss: 0.7373 - val_accuracy: 0.7018\n",
      "Epoch 26/100\n",
      "508/508 [==============================] - 0s 407us/step - loss: 0.5895 - accuracy: 0.7717 - val_loss: 0.7191 - val_accuracy: 0.7368\n",
      "Epoch 27/100\n",
      "508/508 [==============================] - 0s 436us/step - loss: 0.5847 - accuracy: 0.7559 - val_loss: 0.7148 - val_accuracy: 0.7018\n",
      "Epoch 28/100\n",
      "508/508 [==============================] - 0s 447us/step - loss: 0.5782 - accuracy: 0.7795 - val_loss: 0.7262 - val_accuracy: 0.7018\n",
      "Epoch 29/100\n",
      "508/508 [==============================] - 0s 303us/step - loss: 0.5617 - accuracy: 0.7539 - val_loss: 0.7311 - val_accuracy: 0.7018\n",
      "Epoch 30/100\n",
      "508/508 [==============================] - 0s 414us/step - loss: 0.5467 - accuracy: 0.7933 - val_loss: 0.7428 - val_accuracy: 0.7018\n",
      "Epoch 31/100\n",
      "508/508 [==============================] - 0s 393us/step - loss: 0.5888 - accuracy: 0.7736 - val_loss: 0.7497 - val_accuracy: 0.7018\n",
      "Epoch 32/100\n",
      "508/508 [==============================] - 0s 439us/step - loss: 0.5614 - accuracy: 0.7815 - val_loss: 0.7480 - val_accuracy: 0.6842\n",
      "Epoch 33/100\n",
      "508/508 [==============================] - 0s 384us/step - loss: 0.5090 - accuracy: 0.8012 - val_loss: 0.7502 - val_accuracy: 0.6842\n",
      "Epoch 34/100\n",
      "508/508 [==============================] - 0s 576us/step - loss: 0.5148 - accuracy: 0.8130 - val_loss: 0.7573 - val_accuracy: 0.6667\n",
      "Epoch 35/100\n",
      "508/508 [==============================] - 0s 345us/step - loss: 0.5800 - accuracy: 0.7854 - val_loss: 0.7355 - val_accuracy: 0.6842\n",
      "Epoch 36/100\n",
      "508/508 [==============================] - 0s 381us/step - loss: 0.5343 - accuracy: 0.7854 - val_loss: 0.7404 - val_accuracy: 0.6842\n",
      "Epoch 37/100\n",
      "508/508 [==============================] - 0s 405us/step - loss: 0.5146 - accuracy: 0.8071 - val_loss: 0.7617 - val_accuracy: 0.6842\n",
      "Epoch 38/100\n",
      "508/508 [==============================] - 0s 325us/step - loss: 0.5127 - accuracy: 0.8012 - val_loss: 0.7750 - val_accuracy: 0.6842\n",
      "Epoch 39/100\n",
      "508/508 [==============================] - 0s 248us/step - loss: 0.5027 - accuracy: 0.8130 - val_loss: 0.7696 - val_accuracy: 0.6842\n",
      "Epoch 40/100\n",
      "508/508 [==============================] - 0s 291us/step - loss: 0.4424 - accuracy: 0.8248 - val_loss: 0.7662 - val_accuracy: 0.6667\n",
      "Epoch 41/100\n",
      "508/508 [==============================] - 0s 283us/step - loss: 0.4899 - accuracy: 0.8012 - val_loss: 0.7747 - val_accuracy: 0.6667\n",
      "Epoch 42/100\n",
      "508/508 [==============================] - 0s 345us/step - loss: 0.4875 - accuracy: 0.8110 - val_loss: 0.7934 - val_accuracy: 0.6667\n",
      "Epoch 43/100\n",
      "508/508 [==============================] - 0s 574us/step - loss: 0.4687 - accuracy: 0.8248 - val_loss: 0.7857 - val_accuracy: 0.6842\n",
      "Epoch 44/100\n",
      "508/508 [==============================] - 0s 505us/step - loss: 0.4494 - accuracy: 0.8228 - val_loss: 0.7933 - val_accuracy: 0.6842\n",
      "Epoch 45/100\n",
      "508/508 [==============================] - 0s 405us/step - loss: 0.4770 - accuracy: 0.8110 - val_loss: 0.8007 - val_accuracy: 0.6842\n",
      "Epoch 46/100\n",
      "508/508 [==============================] - 0s 339us/step - loss: 0.4503 - accuracy: 0.8346 - val_loss: 0.8191 - val_accuracy: 0.6842\n",
      "Epoch 47/100\n",
      "508/508 [==============================] - 0s 487us/step - loss: 0.4261 - accuracy: 0.8169 - val_loss: 0.8358 - val_accuracy: 0.6842\n",
      "Epoch 48/100\n",
      "508/508 [==============================] - 0s 386us/step - loss: 0.4413 - accuracy: 0.8150 - val_loss: 0.8352 - val_accuracy: 0.6842\n",
      "Epoch 49/100\n",
      "508/508 [==============================] - 0s 307us/step - loss: 0.3803 - accuracy: 0.8504 - val_loss: 0.8423 - val_accuracy: 0.6842\n",
      "Epoch 50/100\n",
      "508/508 [==============================] - 0s 333us/step - loss: 0.4574 - accuracy: 0.8248 - val_loss: 0.8481 - val_accuracy: 0.6842\n",
      "Epoch 51/100\n",
      "508/508 [==============================] - 0s 332us/step - loss: 0.4337 - accuracy: 0.8287 - val_loss: 0.8370 - val_accuracy: 0.6842\n",
      "Epoch 52/100\n",
      "508/508 [==============================] - 0s 397us/step - loss: 0.4228 - accuracy: 0.8189 - val_loss: 0.8325 - val_accuracy: 0.6842\n",
      "Epoch 53/100\n",
      "508/508 [==============================] - 0s 361us/step - loss: 0.4179 - accuracy: 0.8524 - val_loss: 0.8287 - val_accuracy: 0.6842\n",
      "Epoch 54/100\n",
      "508/508 [==============================] - 0s 381us/step - loss: 0.4310 - accuracy: 0.8209 - val_loss: 0.8444 - val_accuracy: 0.6842\n",
      "Epoch 55/100\n",
      "508/508 [==============================] - 0s 377us/step - loss: 0.3762 - accuracy: 0.8484 - val_loss: 0.8417 - val_accuracy: 0.6667\n",
      "Epoch 56/100\n",
      "508/508 [==============================] - 0s 321us/step - loss: 0.4059 - accuracy: 0.8445 - val_loss: 0.8486 - val_accuracy: 0.6842\n"
     ]
    },
    {
     "name": "stdout",
     "output_type": "stream",
     "text": [
      "Epoch 57/100\n",
      "508/508 [==============================] - 0s 313us/step - loss: 0.4241 - accuracy: 0.8366 - val_loss: 0.8647 - val_accuracy: 0.6842\n",
      "Epoch 58/100\n",
      "508/508 [==============================] - 0s 342us/step - loss: 0.3791 - accuracy: 0.8622 - val_loss: 0.8802 - val_accuracy: 0.6842\n",
      "Epoch 59/100\n",
      "508/508 [==============================] - 0s 308us/step - loss: 0.4426 - accuracy: 0.8268 - val_loss: 0.8707 - val_accuracy: 0.6842\n",
      "Epoch 60/100\n",
      "508/508 [==============================] - 0s 277us/step - loss: 0.3813 - accuracy: 0.8406 - val_loss: 0.8797 - val_accuracy: 0.6842\n",
      "Epoch 61/100\n",
      "508/508 [==============================] - 0s 255us/step - loss: 0.3982 - accuracy: 0.8504 - val_loss: 0.9020 - val_accuracy: 0.6842\n",
      "Epoch 62/100\n",
      "508/508 [==============================] - 0s 308us/step - loss: 0.3876 - accuracy: 0.8366 - val_loss: 0.8951 - val_accuracy: 0.6842\n",
      "Epoch 63/100\n",
      "508/508 [==============================] - 0s 366us/step - loss: 0.3473 - accuracy: 0.8681 - val_loss: 0.8897 - val_accuracy: 0.6842\n",
      "Epoch 64/100\n",
      "508/508 [==============================] - 0s 346us/step - loss: 0.3554 - accuracy: 0.8681 - val_loss: 0.9222 - val_accuracy: 0.6842\n",
      "Epoch 65/100\n",
      "508/508 [==============================] - 0s 360us/step - loss: 0.3430 - accuracy: 0.8642 - val_loss: 0.9005 - val_accuracy: 0.6842\n",
      "Epoch 66/100\n",
      "508/508 [==============================] - 0s 466us/step - loss: 0.3668 - accuracy: 0.8583 - val_loss: 0.9073 - val_accuracy: 0.6842\n",
      "Epoch 67/100\n",
      "508/508 [==============================] - 0s 430us/step - loss: 0.3966 - accuracy: 0.8524 - val_loss: 0.9028 - val_accuracy: 0.6842\n",
      "Epoch 68/100\n",
      "508/508 [==============================] - 0s 327us/step - loss: 0.4092 - accuracy: 0.8445 - val_loss: 0.9074 - val_accuracy: 0.6842\n",
      "Epoch 69/100\n",
      "508/508 [==============================] - 0s 333us/step - loss: 0.3501 - accuracy: 0.8583 - val_loss: 0.9197 - val_accuracy: 0.6842\n",
      "Epoch 70/100\n",
      "508/508 [==============================] - 0s 361us/step - loss: 0.3750 - accuracy: 0.8602 - val_loss: 0.8882 - val_accuracy: 0.6842\n",
      "Epoch 71/100\n",
      "508/508 [==============================] - 0s 318us/step - loss: 0.3593 - accuracy: 0.8701 - val_loss: 0.9122 - val_accuracy: 0.6667\n",
      "Epoch 72/100\n",
      "508/508 [==============================] - 0s 322us/step - loss: 0.3802 - accuracy: 0.8720 - val_loss: 0.8996 - val_accuracy: 0.6667\n",
      "Epoch 73/100\n",
      "508/508 [==============================] - 0s 317us/step - loss: 0.3190 - accuracy: 0.8780 - val_loss: 0.9298 - val_accuracy: 0.6842\n",
      "Epoch 74/100\n",
      "508/508 [==============================] - 0s 299us/step - loss: 0.3189 - accuracy: 0.8799 - val_loss: 0.9552 - val_accuracy: 0.6842\n",
      "Epoch 75/100\n",
      "508/508 [==============================] - 0s 257us/step - loss: 0.3323 - accuracy: 0.8681 - val_loss: 0.9457 - val_accuracy: 0.6842\n",
      "Epoch 76/100\n",
      "508/508 [==============================] - 0s 437us/step - loss: 0.3516 - accuracy: 0.8681 - val_loss: 0.9483 - val_accuracy: 0.6842\n",
      "Epoch 77/100\n",
      "508/508 [==============================] - 0s 340us/step - loss: 0.3227 - accuracy: 0.8839 - val_loss: 0.9629 - val_accuracy: 0.6842\n",
      "Epoch 78/100\n",
      "508/508 [==============================] - 0s 360us/step - loss: 0.3396 - accuracy: 0.8858 - val_loss: 0.9465 - val_accuracy: 0.6667\n",
      "Epoch 79/100\n",
      "508/508 [==============================] - 0s 259us/step - loss: 0.3220 - accuracy: 0.8701 - val_loss: 0.9343 - val_accuracy: 0.6667\n",
      "Epoch 80/100\n",
      "508/508 [==============================] - 0s 294us/step - loss: 0.3114 - accuracy: 0.8740 - val_loss: 0.9394 - val_accuracy: 0.6667\n",
      "Epoch 81/100\n",
      "508/508 [==============================] - 0s 312us/step - loss: 0.3244 - accuracy: 0.8543 - val_loss: 0.9342 - val_accuracy: 0.6667\n",
      "Epoch 82/100\n",
      "508/508 [==============================] - 0s 330us/step - loss: 0.3153 - accuracy: 0.8780 - val_loss: 0.9197 - val_accuracy: 0.6667\n",
      "Epoch 83/100\n",
      "508/508 [==============================] - 0s 414us/step - loss: 0.3545 - accuracy: 0.8602 - val_loss: 0.9499 - val_accuracy: 0.7018\n",
      "Epoch 84/100\n",
      "508/508 [==============================] - 0s 329us/step - loss: 0.3223 - accuracy: 0.8760 - val_loss: 0.9790 - val_accuracy: 0.6842\n",
      "Epoch 85/100\n",
      "508/508 [==============================] - 0s 335us/step - loss: 0.2727 - accuracy: 0.8976 - val_loss: 0.9989 - val_accuracy: 0.6842\n",
      "Epoch 86/100\n",
      "508/508 [==============================] - 0s 353us/step - loss: 0.2948 - accuracy: 0.8917 - val_loss: 1.0035 - val_accuracy: 0.6842\n",
      "Epoch 87/100\n",
      "508/508 [==============================] - 0s 377us/step - loss: 0.3233 - accuracy: 0.8701 - val_loss: 1.0149 - val_accuracy: 0.6667\n",
      "Epoch 88/100\n",
      "508/508 [==============================] - 0s 363us/step - loss: 0.3206 - accuracy: 0.8740 - val_loss: 1.0493 - val_accuracy: 0.6667\n",
      "Epoch 89/100\n",
      "508/508 [==============================] - 0s 281us/step - loss: 0.2946 - accuracy: 0.8858 - val_loss: 1.0468 - val_accuracy: 0.6667\n",
      "Epoch 90/100\n",
      "508/508 [==============================] - 0s 451us/step - loss: 0.3175 - accuracy: 0.8661 - val_loss: 1.0370 - val_accuracy: 0.6667\n",
      "Epoch 91/100\n",
      "508/508 [==============================] - 0s 339us/step - loss: 0.3148 - accuracy: 0.8799 - val_loss: 1.0332 - val_accuracy: 0.6667\n",
      "Epoch 92/100\n",
      "508/508 [==============================] - 0s 347us/step - loss: 0.2566 - accuracy: 0.9055 - val_loss: 1.0511 - val_accuracy: 0.6667\n",
      "Epoch 93/100\n",
      "508/508 [==============================] - 0s 363us/step - loss: 0.2959 - accuracy: 0.9035 - val_loss: 1.0363 - val_accuracy: 0.6667\n",
      "Epoch 94/100\n",
      "508/508 [==============================] - 0s 362us/step - loss: 0.2828 - accuracy: 0.8957 - val_loss: 1.0528 - val_accuracy: 0.6842\n",
      "Epoch 95/100\n",
      "508/508 [==============================] - 0s 352us/step - loss: 0.2819 - accuracy: 0.8878 - val_loss: 1.0262 - val_accuracy: 0.6842\n",
      "Epoch 96/100\n",
      "508/508 [==============================] - 0s 290us/step - loss: 0.2988 - accuracy: 0.8937 - val_loss: 1.0054 - val_accuracy: 0.6842\n",
      "Epoch 97/100\n",
      "508/508 [==============================] - 0s 299us/step - loss: 0.2570 - accuracy: 0.9094 - val_loss: 1.0035 - val_accuracy: 0.6842\n",
      "Epoch 98/100\n",
      "508/508 [==============================] - 0s 421us/step - loss: 0.3185 - accuracy: 0.8642 - val_loss: 0.9870 - val_accuracy: 0.7018\n",
      "Epoch 99/100\n",
      "508/508 [==============================] - 0s 335us/step - loss: 0.3033 - accuracy: 0.8760 - val_loss: 1.0396 - val_accuracy: 0.6667\n",
      "Epoch 100/100\n",
      "508/508 [==============================] - 0s 359us/step - loss: 0.2604 - accuracy: 0.8937 - val_loss: 1.0439 - val_accuracy: 0.7193\n"
     ]
    },
    {
     "data": {
      "text/plain": [
       "<keras.callbacks.callbacks.History at 0x1a4c438128>"
      ]
     },
     "execution_count": 69,
     "metadata": {},
     "output_type": "execute_result"
    }
   ],
   "source": [
    "model.fit(x_train_s, y_train, epochs=100, batch_size=32, validation_split=0.1)"
   ]
  },
  {
   "cell_type": "code",
   "execution_count": 70,
   "metadata": {},
   "outputs": [
    {
     "name": "stdout",
     "output_type": "stream",
     "text": [
      "565/565 [==============================] - 0s 481us/step\n",
      "\n",
      "accuracy: 93.27%\n"
     ]
    }
   ],
   "source": [
    "# Evaluamos en el conjunto de entrenamiento\n",
    "scores = model.evaluate(x_train_s, y_train)\n",
    "print(\"\\n%s: %.2f%%\" % (model.metrics_names[1], scores[1]*100))"
   ]
  },
  {
   "cell_type": "code",
   "execution_count": 71,
   "metadata": {},
   "outputs": [
    {
     "name": "stdout",
     "output_type": "stream",
     "text": [
      "\n",
      "# Evaluación en el conjunto de validación\n",
      "142/142 [==============================] - 0s 173us/step\n",
      "\n",
      "accuracy: 78.87%\n"
     ]
    }
   ],
   "source": [
    "# Evaluamos el modelo en el conjunto de validacion\n",
    "print('\\n# Evaluación en el conjunto de validación')\n",
    "scores = model.evaluate(x_test_s, y_test)\n",
    "print(\"\\n%s: %.2f%%\" % (model.metrics_names[1], scores[1]*100))\n",
    "\n",
    "# Obtenemos las predicciones\n",
    "predictions_mlp_codif = model.predict(x_test_s).round()\n",
    "\n",
    "# Obtenemos las predicciones con valores 0,1,2 y 3 ya que estaban codificadas\n",
    "predictions_mlp = np.array([label.argmax() for label in predictions_mlp_codif])\n",
    "\n",
    "#print(predictions_mlp)"
   ]
  },
  {
   "cell_type": "code",
   "execution_count": 72,
   "metadata": {},
   "outputs": [
    {
     "name": "stdout",
     "output_type": "stream",
     "text": [
      "[[16  1  0  0]\n",
      " [20 31  2  1]\n",
      " [18  4 25  2]\n",
      " [ 5  0  0 17]]\n"
     ]
    }
   ],
   "source": [
    "# Obtenemos la matriz de confusión\n",
    "con = tf.confusion_matrix(labels=y_test_cls, predictions=predictions_mlp )\n",
    "sess = tf.Session()\n",
    "with sess.as_default():\n",
    "        print(sess.run(con))"
   ]
  },
  {
   "cell_type": "markdown",
   "metadata": {},
   "source": [
    "## Red neuronal sobre bases de datos TEST"
   ]
  },
  {
   "cell_type": "code",
   "execution_count": null,
   "metadata": {},
   "outputs": [],
   "source": [
    "# Para obtener las predicciones eliminamos el diagnostico y el identificado de número\n",
    "\n",
    "x_test_db_smd = db_smd_test.drop(['Diagnosis'], axis=1)\n",
    "x_test_db_hpt = db_hpt_test.drop(['Diagnosis'], axis=1)\n",
    "x_test_db_onc = db_onc_test.drop(['Diagnosis'], axis=1)\n",
    "x_test_db_pti = db_pti_test.drop(['Diagnosis'], axis=1)"
   ]
  },
  {
   "cell_type": "code",
   "execution_count": null,
   "metadata": {},
   "outputs": [],
   "source": [
    "# Estandarizamos las bases de datos\n",
    "\n",
    "x_test_db_smd = scaler.transform(x_test_db_smd)\n",
    "x_test_db_hpt = scaler.transform(x_test_db_hpt)\n",
    "x_test_db_onc = scaler.transform(x_test_db_onc)\n",
    "x_test_db_pti = scaler.transform(x_test_db_pti)"
   ]
  },
  {
   "cell_type": "code",
   "execution_count": null,
   "metadata": {},
   "outputs": [],
   "source": [
    "# Probamos con db_smd\n",
    "predictions_mlp_codif_db_smd = model.predict(x_test_db_smd).round()\n",
    "\n",
    "# Obtenemos las predicciones con valores ya que estaban codificadas\n",
    "predictions_mlp_codif_db_smd = np.array([label.argmax() for label in predictions_mlp_codif_db_smd])\n",
    "\n",
    "print(predictions_mlp_codif_db_smd)"
   ]
  },
  {
   "cell_type": "code",
   "execution_count": null,
   "metadata": {},
   "outputs": [],
   "source": [
    "# Probamos con db_hpt\n",
    "predictions_mlp_codif_db_hpt = model.predict(x_test_db_hpt).round()\n",
    "\n",
    "# Obtenemos las predicciones con valores ya que estaban codificadas\n",
    "predictions_mlp_codif_db_hpt = np.array([label.argmax() for label in predictions_mlp_codif_db_hpt])\n",
    "\n",
    "print(predictions_mlp_codif_db_hpt)"
   ]
  },
  {
   "cell_type": "code",
   "execution_count": null,
   "metadata": {},
   "outputs": [],
   "source": [
    "# Probamos con x_test_db_onc\n",
    "\n",
    "predictions_mlp_codif_db_onc = model.predict(x_test_db_onc).round()\n",
    "\n",
    "\n",
    "# Obtenemos las predicciones con valores ya que estaban codificadas\n",
    "predictions_mlp_codif_db_onc = np.array([label.argmax() for label in predictions_mlp_codif_db_onc])\n",
    "\n",
    "print(predictions_mlp_codif_db_onc)\n"
   ]
  },
  {
   "cell_type": "code",
   "execution_count": null,
   "metadata": {},
   "outputs": [],
   "source": [
    "# Probamos con x_test_db_pti\n",
    "\n",
    "predictions_mlp_codif_db_pti = model.predict(x_test_db_pti).round()\n",
    "\n",
    "\n",
    "# Obtenemos las predicciones con valores ya que estaban codificadas\n",
    "predictions_mlp_codif_db_pti = np.array([label.argmax() for label in predictions_mlp_codif_db_pti])\n",
    "\n",
    "print(predictions_mlp_codif_db_pti)"
   ]
  },
  {
   "cell_type": "markdown",
   "metadata": {},
   "source": [
    "# Etapa 3: Seleccion de caracteristicas"
   ]
  },
  {
   "cell_type": "markdown",
   "metadata": {},
   "source": [
    "## Metodo de filtrado: Prueba F de Fisher (F)"
   ]
  },
  {
   "cell_type": "code",
   "execution_count": null,
   "metadata": {},
   "outputs": [],
   "source": [
    "#Realizamos las particiones de entrenamiento y test\n",
    "\n",
    "x = db_final.drop(['Diagnosis'],axis=1)\n",
    "y = db_final['Diagnosis']\n",
    "\n",
    "x_train,x_test,y_train,y_test = train_test_split(x,y, test_size=0.2)"
   ]
  },
  {
   "cell_type": "code",
   "execution_count": null,
   "metadata": {},
   "outputs": [],
   "source": [
    "#Algoritmo univariante de prueba F\n",
    "\n",
    "n_variables = 10\n",
    "\n",
    "selector_f = SelectKBest(f_classif, k= n_variables)\n",
    "\n",
    "selection_f = selector_f.fit(x_train,y_train)\n",
    "\n",
    "atrib_matrix_f = selection_f.get_support()\n",
    "\n",
    "atrib_names = x_train.columns.values\n",
    "\n",
    "print(atrib_names)\n",
    "print(atrib_matrix_f)\n",
    "\n",
    "selected_atributes_f = []\n",
    "\n",
    "for i in range(len(atrib_names)):\n",
    "    if atrib_matrix_f[i] == True:\n",
    "        selected_atributes_f.append(atrib_names[i])\n",
    "        \n",
    "print(selected_atributes_f)"
   ]
  },
  {
   "cell_type": "markdown",
   "metadata": {},
   "source": [
    "## Metodo de empaquetamiento: Eliminacion recursiva de atributos (ERA)"
   ]
  },
  {
   "cell_type": "code",
   "execution_count": null,
   "metadata": {},
   "outputs": [],
   "source": [
    "#Eliminacion recursiva de atributos\n",
    "\n",
    "selector_elim = ExtraTreesClassifier()\n",
    "\n",
    "era = RFE(selector_elim, 49)\n",
    "\n",
    "selection_era = era.fit(x_train, y_train)\n",
    "\n",
    "atrib_matrix_era = selection_era.get_support()\n",
    "\n",
    "atrib_names = x_train.columns.values\n",
    "\n",
    "print(atrib_names)\n",
    "print(atrib_matrix_era)\n",
    "\n",
    "selected_atributes_era = []\n",
    "\n",
    "for i in range(len(atrib_names)):\n",
    "    if atrib_matrix_era[i] == True:\n",
    "        selected_atributes_era.append(atrib_names[i])\n",
    "        \n",
    "print(selected_atributes_era)"
   ]
  },
  {
   "cell_type": "markdown",
   "metadata": {},
   "source": [
    "# Bases de datos tras seleccion de caracteristicas (F y ERA)"
   ]
  },
  {
   "cell_type": "code",
   "execution_count": null,
   "metadata": {},
   "outputs": [],
   "source": [
    "#Base de datos tras F de Fisher\n",
    "\n",
    "x = db_final.drop(['Diagnosis'],axis=1)\n",
    "x_f = x[selected_atributes_f]\n",
    "y_f = db_final['Diagnosis']\n",
    "y_vals_f = np.eye(len(set(y_f)))[y_f]\n",
    "\n",
    "x_f.info()\n",
    "x_train_f,x_test_f,y_train_f,y_test_f = train_test_split(x_f,y_vals_f, test_size=0.2)"
   ]
  },
  {
   "cell_type": "code",
   "execution_count": null,
   "metadata": {},
   "outputs": [],
   "source": [
    "#Base de datos tras ERA\n",
    "x = db_final.drop(['Diagnosis'],axis=1)\n",
    "x_era = x[selected_atributes_era]\n",
    "y_era = db_final['Diagnosis']\n",
    "y_vals_era = np.eye(len(set(y_era)))[y_era]\n",
    "\n",
    "x_era.info()\n",
    "x_train_era,x_test_era,y_train_era,y_test_era = train_test_split(x_era,y_vals_era, test_size=0.2)"
   ]
  },
  {
   "cell_type": "markdown",
   "metadata": {},
   "source": [
    "## Seleccion de caracteristicas : Regresion logistica"
   ]
  },
  {
   "cell_type": "code",
   "execution_count": null,
   "metadata": {},
   "outputs": [],
   "source": [
    "#Crear modelo\n",
    "x = tf.placeholder(tf.float32, [None, 49])\n",
    "y_true = tf.placeholder(tf.float32, [None, 4])\n",
    "y_true_cls = tf.placeholder(tf.int64, [None])\n",
    "w = tf.Variable(tf.zeros([49, 4]))\n",
    "b = tf.Variable(tf.zeros([4]))\n",
    "logits = tf.matmul(x, w) + b\n",
    "y_pred = tf.nn.softmax(logits)\n",
    "y_pred_cls = tf.argmax(y_pred, axis=1) #axis=dimension\n",
    "\n",
    "y_test_cls_f = np.array([label.argmax() for label in y_test_f])\n",
    "y_test_cls_era = np.array([label.argmax() for label in y_test_era])"
   ]
  },
  {
   "cell_type": "code",
   "execution_count": null,
   "metadata": {},
   "outputs": [],
   "source": [
    "cross_entropy = tf.nn.softmax_cross_entropy_with_logits_v2(logits=logits,labels=y_true)\n",
    "#cost = tf.reduce_mean(cross_entropy)\n",
    "optimizer = tf.train.GradientDescentOptimizer(learning_rate=0.001).minimize(cross_entropy)\n",
    "correct_prediction = tf.equal(y_pred_cls, y_true_cls)\n",
    "accuracy = tf.reduce_mean(tf.cast(correct_prediction, tf.float32))"
   ]
  },
  {
   "cell_type": "code",
   "execution_count": null,
   "metadata": {},
   "outputs": [],
   "source": [
    "#Entrenamiento con F de Fisher\n",
    "session = tf.Session()\n",
    "session.run(tf.global_variables_initializer())\n",
    "def optimize(num_iterations):\n",
    "    for i in range(num_iterations):\n",
    "        \n",
    "        feed_dict_train = {x: x_train_f, y_true: y_train_f}\n",
    "\n",
    "        session.run(optimizer, feed_dict=feed_dict_train)\n"
   ]
  },
  {
   "cell_type": "code",
   "execution_count": null,
   "metadata": {},
   "outputs": [],
   "source": [
    "#Validacion con F de Fisher\n",
    "classes = ['SMD','Hepatópatas','Oncológicos','PTI']\n",
    "\n",
    "feed_dict_test = {x: x_test_f,\n",
    "                  y_true: y_test_f,\n",
    "                  y_true_cls: y_test_cls_f}\n",
    "\n",
    "def print_accuracy():\n",
    "    # Use TensorFlow to compute the accuracy.\n",
    "    acc = session.run(accuracy, feed_dict=feed_dict_test)\n",
    "\n",
    "    # Print the accuracy.\n",
    "    print(\"Accuracy on test-set: {0:.1%}\".format(acc))\n",
    "\n",
    "def plot_confusion_matrix(normalize=False):\n",
    "\n",
    "    # Compute confusion matrix\n",
    "    # Only use the labels that appear in the data\n",
    "    #classes = classes[unique_labels(y_true, y_pred)]\n",
    "    \n",
    "    # Get the true classifications for the test-set.\n",
    "    cls_true = y_test_cls_f\n",
    "\n",
    "    # Get the predicted classifications for the test-set.\n",
    "    cls_pred = session.run(y_pred_cls, feed_dict=feed_dict_test)\n",
    "\n",
    "    # Get the confusion matrix using sklearn.\n",
    "    cm = confusion_matrix(y_true=cls_true,\n",
    "                          y_pred=cls_pred)\n",
    "\n",
    "    # Print the confusion matrix as text.\n",
    "    print(cm)\n",
    "    \n",
    "    fig, ax = plt.subplots()\n",
    "    im = ax.imshow(cm, interpolation='nearest', cmap=plt.cm.Blues)\n",
    "    ax.figure.colorbar(im, ax=ax)\n",
    "    # We want to show all ticks...\n",
    "    ax.set(xticks=np.arange(cm.shape[1]),\n",
    "           yticks=np.arange(cm.shape[0]),\n",
    "           # ... and label them with the respective list entries\n",
    "           xticklabels=classes, yticklabels=classes,\n",
    "           title='Matriz de confusión',\n",
    "           ylabel='True label',\n",
    "           xlabel='Predicted label')\n",
    "\n",
    "    # Rotate the tick labels and set their alignment.\n",
    "    plt.setp(ax.get_xticklabels(), rotation=45, ha=\"right\",\n",
    "             rotation_mode=\"anchor\")\n",
    "\n",
    "    # Loop over data dimensions and create text annotations.\n",
    "    fmt = '.2f' if normalize else 'd'\n",
    "    thresh = cm.max() / 2.\n",
    "    for i in range(cm.shape[0]):\n",
    "        for j in range(cm.shape[1]):\n",
    "            ax.text(j, i, format(cm[i, j], fmt),\n",
    "                    ha=\"center\", va=\"center\",\n",
    "                    color=\"white\" if cm[i, j] > thresh else \"black\")\n",
    "    fig.tight_layout()\n",
    "    return ax"
   ]
  },
  {
   "cell_type": "code",
   "execution_count": null,
   "metadata": {},
   "outputs": [],
   "source": [
    "optimize(num_iterations=1000)\n",
    "plot_confusion_matrix()\n",
    "print_accuracy()\n"
   ]
  },
  {
   "cell_type": "code",
   "execution_count": null,
   "metadata": {},
   "outputs": [],
   "source": []
  }
 ],
 "metadata": {
  "kernelspec": {
   "display_name": "Python 3",
   "language": "python",
   "name": "python3"
  },
  "language_info": {
   "codemirror_mode": {
    "name": "ipython",
    "version": 3
   },
   "file_extension": ".py",
   "mimetype": "text/x-python",
   "name": "python",
   "nbconvert_exporter": "python",
   "pygments_lexer": "ipython3",
   "version": "3.6.10"
  }
 },
 "nbformat": 4,
 "nbformat_minor": 2
}
