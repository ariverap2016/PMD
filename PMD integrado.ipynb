{
 "cells": [
  {
   "cell_type": "code",
   "execution_count": 40,
   "metadata": {},
   "outputs": [
    {
     "name": "stderr",
     "output_type": "stream",
     "text": [
      "Using TensorFlow backend.\n"
     ]
    }
   ],
   "source": [
    "import pandas as pd\n",
    "import matplotlib.pyplot as plt\n",
    "import sklearn as sk\n",
    "from sklearn.model_selection import train_test_split\n",
    "from sklearn.neighbors import KNeighborsClassifier\n",
    "from sklearn.model_selection import cross_val_score\n",
    "from sklearn.metrics import confusion_matrix\n",
    "from sklearn import neural_network\n",
    "from sklearn import linear_model\n",
    "from sklearn import tree\n",
    "#import graphviz \n",
    "import numpy as np\n",
    "from scipy import stats \n",
    "from sklearn import preprocessing\n",
    "from sklearn.feature_selection import SelectKBest, f_classif, RFE\n",
    "from sklearn.ensemble import ExtraTreesClassifier\n",
    "import tensorflow as tf\n",
    "import tensorflow.compat.v1 as tf\n",
    "tf.disable_v2_behavior() \n",
    "from tensorflow import keras\n",
    "from keras.models import Sequential\n",
    "from keras.layers.core import Dense"
   ]
  },
  {
   "cell_type": "markdown",
   "metadata": {},
   "source": [
    "# Etapa 1: Preprocesamiento"
   ]
  },
  {
   "cell_type": "markdown",
   "metadata": {},
   "source": [
    "## Cargamos las bases de datos (excel)\n"
   ]
  },
  {
   "cell_type": "code",
   "execution_count": 2,
   "metadata": {},
   "outputs": [],
   "source": [
    "#Cargamos las bases de datos\n",
    "\n",
    "db_displasia = pd.read_excel('SMD.xls')\n",
    "\n",
    "\n",
    "db_hepatopata = pd.read_excel('Hepatopata.xls')\n",
    "\n",
    "\n",
    "db_oncologicos = pd.read_excel('Oncologicos.xls')\n",
    "\n",
    "\n",
    "db_PTI = pd.read_excel('PTI.xls')"
   ]
  },
  {
   "cell_type": "markdown",
   "metadata": {},
   "source": [
    "## Informacion de cada una de las db\n"
   ]
  },
  {
   "cell_type": "code",
   "execution_count": 3,
   "metadata": {},
   "outputs": [
    {
     "name": "stdout",
     "output_type": "stream",
     "text": [
      "<class 'pandas.core.frame.DataFrame'>\n",
      "RangeIndex: 417 entries, 0 to 416\n",
      "Columns: 110 entries, LEU to ESSYS\n",
      "dtypes: float64(93), int64(9), object(8)\n",
      "memory usage: 358.4+ KB\n"
     ]
    }
   ],
   "source": [
    "#Informacion SMD\n",
    "db_displasia.info()"
   ]
  },
  {
   "cell_type": "code",
   "execution_count": 4,
   "metadata": {},
   "outputs": [
    {
     "name": "stdout",
     "output_type": "stream",
     "text": [
      "<class 'pandas.core.frame.DataFrame'>\n",
      "RangeIndex: 342 entries, 0 to 341\n",
      "Data columns (total 88 columns):\n",
      "LEU      342 non-null float64\n",
      "NEU      342 non-null float64\n",
      "NEUp     342 non-null float64\n",
      "LIN      342 non-null float64\n",
      "LINp     342 non-null float64\n",
      "MON      342 non-null float64\n",
      "MONp     342 non-null float64\n",
      "EOS      342 non-null float64\n",
      "EOSp     342 non-null float64\n",
      "BAS      342 non-null float64\n",
      "BASp     342 non-null float64\n",
      "IG       342 non-null float64\n",
      "IGp      342 non-null float64\n",
      "ERIT     342 non-null float64\n",
      "HGB      342 non-null float64\n",
      "HCT      342 non-null float64\n",
      "VCM      342 non-null float64\n",
      "HCM      342 non-null float64\n",
      "CHCM     342 non-null float64\n",
      "RDW      342 non-null object\n",
      "ERBL     342 non-null float64\n",
      "ERBLp    342 non-null float64\n",
      "RET      49 non-null float64\n",
      "RETp     49 non-null float64\n",
      "FRI      49 non-null float64\n",
      "RETHE    49 non-null float64\n",
      "PLT      341 non-null float64\n",
      "VPM      342 non-null object\n",
      "IPF      234 non-null float64\n",
      "HIPER    49 non-null float64\n",
      "HYPO     49 non-null float64\n",
      "MACR     0 non-null float64\n",
      "MICRO    0 non-null float64\n",
      "FRAGM    49 non-null float64\n",
      "MacR     342 non-null float64\n",
      "MicR     342 non-null float64\n",
      "NE_R     342 non-null float64\n",
      "LY_R     342 non-null float64\n",
      "MO_R     342 non-null float64\n",
      "EO_R     342 non-null float64\n",
      "BA_R     342 non-null float64\n",
      "RBCO     49 non-null float64\n",
      "MCHCO    49 non-null float64\n",
      "BA-D#    342 non-null float64\n",
      "BA-D%    342 non-null float64\n",
      "BA-N#    342 non-null float64\n",
      "BA-N%    342 non-null float64\n",
      "D-HE     49 non-null float64\n",
      "FRCA     49 non-null float64\n",
      "HFLCA    342 non-null float64\n",
      "HFLCP    342 non-null float64\n",
      "HIPF     234 non-null float64\n",
      "IPFA     234 non-null float64\n",
      "IRF-Y    49 non-null float64\n",
      "LIN_a    342 non-null float64\n",
      "LIN_p    342 non-null float64\n",
      "LY-WX    342 non-null int64\n",
      "LY-WY    342 non-null int64\n",
      "LY-WZ    342 non-null int64\n",
      "LY-X     342 non-null float64\n",
      "LY-Y     342 non-null float64\n",
      "LY-Z     342 non-null float64\n",
      "MO-WX    342 non-null int64\n",
      "MO-WY    342 non-null int64\n",
      "MO-WZ    342 non-null int64\n",
      "MO-X     342 non-null float64\n",
      "MO-Y     342 non-null float64\n",
      "MO-Z     342 non-null float64\n",
      "NEFSC    342 non-null float64\n",
      "NESFL    342 non-null float64\n",
      "NESSC    342 non-null float64\n",
      "NEU_a    342 non-null float64\n",
      "NEU_p    342 non-null float64\n",
      "NE-WX    342 non-null int64\n",
      "NE-WY    342 non-null int64\n",
      "NE-WZ    342 non-null int64\n",
      "RBCHE    49 non-null float64\n",
      "RBC-Y    49 non-null float64\n",
      "RTNC     49 non-null float64\n",
      "RUPP     49 non-null float64\n",
      "RET-Y    49 non-null float64\n",
      "RPI      49 non-null float64\n",
      "TNC-D    0 non-null float64\n",
      "TNC-N    342 non-null float64\n",
      "TNC-P    23 non-null float64\n",
      "WBC-D    342 non-null float64\n",
      "WBC-N    342 non-null float64\n",
      "WBC-P    23 non-null float64\n",
      "dtypes: float64(77), int64(9), object(2)\n",
      "memory usage: 235.2+ KB\n"
     ]
    }
   ],
   "source": [
    "#Informacion Hepatopata\n",
    "db_hepatopata.info()"
   ]
  },
  {
   "cell_type": "code",
   "execution_count": 5,
   "metadata": {},
   "outputs": [
    {
     "name": "stdout",
     "output_type": "stream",
     "text": [
      "<class 'pandas.core.frame.DataFrame'>\n",
      "RangeIndex: 303 entries, 0 to 302\n",
      "Data columns (total 88 columns):\n",
      "LEU      303 non-null float64\n",
      "NEU      303 non-null float64\n",
      "NEUp     303 non-null float64\n",
      "LIN      303 non-null float64\n",
      "LINp     303 non-null float64\n",
      "MON      303 non-null float64\n",
      "MONp     303 non-null float64\n",
      "EOS      303 non-null float64\n",
      "EOSp     303 non-null float64\n",
      "BAS      303 non-null float64\n",
      "BASp     303 non-null float64\n",
      "IG       303 non-null float64\n",
      "IGp      303 non-null float64\n",
      "ERIT     303 non-null float64\n",
      "HGB      303 non-null float64\n",
      "HCT      303 non-null float64\n",
      "VCM      303 non-null float64\n",
      "HCM      303 non-null float64\n",
      "CHCM     303 non-null float64\n",
      "RDW      303 non-null float64\n",
      "ERBL     303 non-null float64\n",
      "ERBLp    303 non-null float64\n",
      "RET      82 non-null float64\n",
      "RETp     82 non-null float64\n",
      "FRI      82 non-null float64\n",
      "RETHE    82 non-null float64\n",
      "PLT      302 non-null float64\n",
      "VPM      303 non-null object\n",
      "IPF      82 non-null float64\n",
      "HIPER    82 non-null float64\n",
      "HYPO     82 non-null float64\n",
      "MACR     0 non-null float64\n",
      "MICRO    0 non-null float64\n",
      "FRAGM    82 non-null float64\n",
      "MacR     303 non-null float64\n",
      "MicR     303 non-null float64\n",
      "NE_R     303 non-null float64\n",
      "LY_R     303 non-null float64\n",
      "MO_R     303 non-null float64\n",
      "EO_R     303 non-null float64\n",
      "BA_R     303 non-null float64\n",
      "RBCO     82 non-null float64\n",
      "MCHCO    82 non-null float64\n",
      "BA-D#    303 non-null float64\n",
      "BA-D%    303 non-null float64\n",
      "BA-N#    303 non-null float64\n",
      "BA-N%    303 non-null float64\n",
      "D-HE     82 non-null float64\n",
      "FRCA     82 non-null float64\n",
      "HFLCA    303 non-null float64\n",
      "HFLCP    303 non-null float64\n",
      "HIPF     82 non-null float64\n",
      "IPFA     82 non-null float64\n",
      "IRF-Y    82 non-null float64\n",
      "LIN_a    303 non-null float64\n",
      "LIN_p    303 non-null float64\n",
      "LY-WX    303 non-null int64\n",
      "LY-WY    303 non-null int64\n",
      "LY-WZ    303 non-null int64\n",
      "LY-X     303 non-null float64\n",
      "LY-Y     303 non-null float64\n",
      "LY-Z     303 non-null float64\n",
      "MO-WX    303 non-null int64\n",
      "MO-WY    303 non-null int64\n",
      "MO-WZ    303 non-null int64\n",
      "MO-X     303 non-null float64\n",
      "MO-Y     303 non-null float64\n",
      "MO-Z     303 non-null float64\n",
      "NEFSC    303 non-null float64\n",
      "NESFL    303 non-null float64\n",
      "NESSC    303 non-null float64\n",
      "NEU_a    303 non-null float64\n",
      "NEU_p    303 non-null float64\n",
      "NE-WX    303 non-null int64\n",
      "NE-WY    303 non-null int64\n",
      "NE-WZ    303 non-null int64\n",
      "RBCHE    82 non-null float64\n",
      "RBC-Y    82 non-null float64\n",
      "RTNC     82 non-null float64\n",
      "RUPP     82 non-null float64\n",
      "RET-Y    82 non-null float64\n",
      "RPI      82 non-null float64\n",
      "TNC-D    0 non-null float64\n",
      "TNC-N    303 non-null float64\n",
      "TNC-P    115 non-null float64\n",
      "WBC-D    303 non-null float64\n",
      "WBC-N    303 non-null float64\n",
      "WBC-P    115 non-null float64\n",
      "dtypes: float64(78), int64(9), object(1)\n",
      "memory usage: 208.4+ KB\n"
     ]
    }
   ],
   "source": [
    "#Informacion oncologicos\n",
    "db_oncologicos.info()"
   ]
  },
  {
   "cell_type": "code",
   "execution_count": 6,
   "metadata": {},
   "outputs": [
    {
     "name": "stdout",
     "output_type": "stream",
     "text": [
      "<class 'pandas.core.frame.DataFrame'>\n",
      "RangeIndex: 201 entries, 0 to 200\n",
      "Columns: 110 entries, LEU to ESSYS\n",
      "dtypes: float64(93), int64(10), object(7)\n",
      "memory usage: 172.8+ KB\n"
     ]
    }
   ],
   "source": [
    "#Informacion PTI\n",
    "db_PTI.info()"
   ]
  },
  {
   "cell_type": "markdown",
   "metadata": {},
   "source": [
    "## Limpieza de variables bajo supervision clinica y codificacion de etiquetas"
   ]
  },
  {
   "cell_type": "code",
   "execution_count": 7,
   "metadata": {},
   "outputs": [],
   "source": [
    "\n",
    "db_smd = db_displasia.drop(['PLTI','PLTF','PLTO','MNEU','MLIN','MMON','MBAS','MEOS','MCAS','MMET','MMIE','MPRO','CPLAS','MBLS','MERI','FRSP','COMHE','AVSBL','AVSPL','AVSRJ','AVNRB','ESSYS','WBC-P','IPFA','IPF','HIPF','VPM','RDW','NEUp','LINp','MONp','EOSp','BASp','IGp','ERBLp','RET','RETp','FRI','RETHE','HIPER','HYPO','MACR','MICRO','FRAGM','RBCO','MCHCO','BA-D%','BA-N%','D-HE','FRCA','IRF-Y','LIN_p','NEU_p','RBCHE','RBC-Y','RTNC','RUPP','RET-Y','RPI','TNC-D','TNC-P'],axis=1)\n"
   ]
  },
  {
   "cell_type": "code",
   "execution_count": 8,
   "metadata": {},
   "outputs": [],
   "source": [
    "#Añadimos una nueva variable que identifique la patologia (SMD --> 0)\n",
    "\n",
    "db_smd['Diagnosis']=np.zeros((417,1),dtype=np.int8)"
   ]
  },
  {
   "cell_type": "code",
   "execution_count": 9,
   "metadata": {},
   "outputs": [],
   "source": [
    "db_hpt = db_hepatopata.drop(['WBC-P','IPFA','IPF','HIPF','VPM','RDW','NEUp','LINp','MONp','EOSp','BASp','IGp','ERBLp','RET','RETp','FRI','RETHE','HIPER','HYPO','MACR','MICRO','FRAGM','RBCO','MCHCO','BA-D%','BA-N%','D-HE','FRCA','IRF-Y','LIN_p','NEU_p','RBCHE','RBC-Y','RTNC','RUPP','RET-Y','RPI','TNC-D','TNC-P'],axis=1)\n"
   ]
  },
  {
   "cell_type": "code",
   "execution_count": 10,
   "metadata": {},
   "outputs": [],
   "source": [
    "#Añadimos una variable que identifique el diagnostico (HPT --> 1)\n",
    "db_hpt['Diagnosis']=np.ones((342,1),dtype=np.int8)"
   ]
  },
  {
   "cell_type": "code",
   "execution_count": 11,
   "metadata": {},
   "outputs": [],
   "source": [
    "db_onc = db_oncologicos.drop(['WBC-P','IPFA','IPF','HIPF','VPM','RDW','NEUp','LINp','MONp','EOSp','BASp','IGp','ERBLp','RET','RETp','FRI','RETHE','HIPER','HYPO','MACR','MICRO','FRAGM','RBCO','MCHCO','BA-D%','BA-N%','D-HE','FRCA','IRF-Y','LIN_p','NEU_p','RBCHE','RBC-Y','RTNC','RUPP','RET-Y','RPI','TNC-D','TNC-P'],axis=1)\n"
   ]
  },
  {
   "cell_type": "code",
   "execution_count": 12,
   "metadata": {},
   "outputs": [],
   "source": [
    "#Añadimos una variable que identifique el diagnostico (ONC --> 2)\n",
    "db_onc['Diagnosis']=np.full((303,1),2)"
   ]
  },
  {
   "cell_type": "code",
   "execution_count": 13,
   "metadata": {},
   "outputs": [],
   "source": [
    "\n",
    "db_pti = db_PTI.drop(['PLTI','PLTF','PLTO','MNEU','MLIN','MMON','MBAS','MEOS','MCAS','MMET','MMIE','MPRO','CPLAS','MBLS','MERI','FRSP','COMHE','AVSBL','AVSPL','AVSRJ','AVNRB','ESSYS','WBC-P','IPFA','IPF','HIPF','VPM','RDW','NEUp','LINp','MONp','EOSp','BASp','IGp','ERBLp','RET','RETp','FRI','RETHE','HIPER','HYPO','MACR','MICRO','FRAGM','RBCO','MCHCO','BA-D%','BA-N%','D-HE','FRCA','IRF-Y','LIN_p','NEU_p','RBCHE','RBC-Y','RTNC','RUPP','RET-Y','RPI','TNC-D','TNC-P'],axis=1)\n"
   ]
  },
  {
   "cell_type": "code",
   "execution_count": 14,
   "metadata": {},
   "outputs": [],
   "source": [
    "#Añadimos una variable que identifique el diagnostico\n",
    "db_pti['Diagnosis']=np.full((201,1),3)"
   ]
  },
  {
   "cell_type": "markdown",
   "metadata": {},
   "source": [
    "## Fusionamos las bases de datos y representamos diagrama de cajas y bigotes"
   ]
  },
  {
   "cell_type": "code",
   "execution_count": 15,
   "metadata": {},
   "outputs": [
    {
     "name": "stdout",
     "output_type": "stream",
     "text": [
      "<class 'pandas.core.frame.DataFrame'>\n",
      "Int64Index: 1263 entries, 0 to 200\n",
      "Data columns (total 50 columns):\n",
      "LEU          1263 non-null float64\n",
      "NEU          1262 non-null float64\n",
      "LIN          1262 non-null float64\n",
      "MON          1262 non-null float64\n",
      "EOS          1262 non-null float64\n",
      "BAS          1262 non-null float64\n",
      "IG           1262 non-null float64\n",
      "ERIT         1263 non-null float64\n",
      "HGB          1263 non-null float64\n",
      "HCT          1263 non-null float64\n",
      "VCM          1263 non-null float64\n",
      "HCM          1263 non-null float64\n",
      "CHCM         1263 non-null float64\n",
      "ERBL         1263 non-null float64\n",
      "PLT          1257 non-null float64\n",
      "MacR         1263 non-null float64\n",
      "MicR         1263 non-null float64\n",
      "NE_R         1262 non-null float64\n",
      "LY_R         1262 non-null float64\n",
      "MO_R         1262 non-null float64\n",
      "EO_R         1262 non-null float64\n",
      "BA_R         1262 non-null float64\n",
      "BA-D#        1262 non-null float64\n",
      "BA-N#        1262 non-null float64\n",
      "HFLCA        1262 non-null float64\n",
      "HFLCP        1262 non-null float64\n",
      "LIN_a        1262 non-null float64\n",
      "LY-WX        1263 non-null int64\n",
      "LY-WY        1263 non-null int64\n",
      "LY-WZ        1263 non-null int64\n",
      "LY-X         1263 non-null float64\n",
      "LY-Y         1263 non-null float64\n",
      "LY-Z         1263 non-null float64\n",
      "MO-WX        1263 non-null int64\n",
      "MO-WY        1263 non-null int64\n",
      "MO-WZ        1263 non-null int64\n",
      "MO-X         1263 non-null float64\n",
      "MO-Y         1263 non-null float64\n",
      "MO-Z         1263 non-null float64\n",
      "NEFSC        1262 non-null float64\n",
      "NESFL        1262 non-null float64\n",
      "NESSC        1262 non-null float64\n",
      "NEU_a        1262 non-null float64\n",
      "NE-WX        1263 non-null int64\n",
      "NE-WY        1263 non-null int64\n",
      "NE-WZ        1263 non-null int64\n",
      "TNC-N        1263 non-null float64\n",
      "WBC-D        1263 non-null float64\n",
      "WBC-N        1263 non-null float64\n",
      "Diagnosis    1263 non-null int64\n",
      "dtypes: float64(40), int64(10)\n",
      "memory usage: 503.2 KB\n"
     ]
    },
    {
     "data": {
      "image/png": "[encoded data removed]",
      "text/plain": [
       "<Figure size 3600x3600 with 100 Axes>"
      ]
     },
     "metadata": {
      "needs_background": "light"
     },
     "output_type": "display_data"
    }
   ],
   "source": [
    "db_final = pd.concat([db_smd,db_hpt,db_onc,db_pti])\n",
    "\n",
    "db_final.info()\n",
    "\n",
    "db_final = db_final.replace(np.nan ,np.mean(db_final['PLT']))\n",
    "\n",
    "\n",
    "\n",
    "\n",
    "db_final.plot(kind='box',subplots=True, layout= (10,10), sharex= False, sharey = False, figsize = (50,50))\n",
    "plt.show()"
   ]
  },
  {
   "cell_type": "markdown",
   "metadata": {},
   "source": [
    "## Opcional: Eliminar los outliers utilizando z-score"
   ]
  },
  {
   "cell_type": "code",
   "execution_count": 16,
   "metadata": {},
   "outputs": [],
   "source": [
    "#Obtenemos z-score\n",
    "\n",
    "z = np.abs(stats.zscore(db_final))\n",
    "\n",
    "\n",
    "#Establecemps un umbral \n",
    "\n",
    "threshold = 2\n",
    "pos = np.where(z >threshold)\n",
    "\n",
    "#Eliminamos los outliers identificados por z-score \n",
    "\n",
    "db_final = db_final[(z < threshold).all(axis=1)]"
   ]
  },
  {
   "cell_type": "markdown",
   "metadata": {},
   "source": [
    "## Aleatorizamos y realizamos las particiones (Train y Validacion)"
   ]
  },
  {
   "cell_type": "code",
   "execution_count": 17,
   "metadata": {},
   "outputs": [],
   "source": [
    "#Realizamos las particiones de entrenamiento y test\n",
    "\n",
    "x = db_final.drop(['Diagnosis'],axis=1)\n",
    "y = db_final['Diagnosis']\n",
    "\n",
    "x_train,x_test,y_train,y_test = train_test_split(x,y, test_size=0.2)"
   ]
  },
  {
   "cell_type": "markdown",
   "metadata": {},
   "source": [
    "## Cargamos las bases de datos de Test (una por patologia)"
   ]
  },
  {
   "cell_type": "code",
   "execution_count": 18,
   "metadata": {},
   "outputs": [],
   "source": [
    "db_displasia_test = pd.read_excel('smdtest.xls')\n",
    "\n",
    "\n",
    "db_hepatopata_test = pd.read_excel('hpttest.xls')\n",
    "\n",
    "\n",
    "db_oncologicos_test = pd.read_excel('oncotest.xls')\n",
    "\n",
    "\n",
    "db_PTI_test = pd.read_excel('ptitest.xls')"
   ]
  },
  {
   "cell_type": "markdown",
   "metadata": {},
   "source": [
    "## Limpieza de variables en test bajo supervision clinica y codificacion de etiquetas"
   ]
  },
  {
   "cell_type": "code",
   "execution_count": 47,
   "metadata": {},
   "outputs": [],
   "source": [
    "db_smd_test = db_displasia_test.drop(['Número','PLTI','PLTF','PLTO','MNEU','MLIN','MMON','MBAS','MEOS','MCAS','MMET','MMIE','MPRO','CPLAS','MBLS','MERI','FRSP','COMHE','WBC-P','IPFA','IPF','HIPF','VPM','RDW','NEUp','LINp','MONp','EOSp','BASp','IGp','ERBLp','RET','RETp','FRI','RETHE','HIPER','HYPO','MACR','MICRO','FRAGM','RBCO','MCHCO','BA-D%','BA-N%','D-HE','FRCA','IRF-Y','LIN_p','NEU_p','RBCHE','RBC-Y','RTNC','RUPP','RET-Y','RPI','TNC-D','TNC-P'],axis=1)\n",
    "db_smd_test['Diagnosis']=np.zeros((10,1),dtype=np.int8)\n",
    "\n",
    "db_hpt_test = db_hepatopata_test.drop(['Número','PLTI','PLTF','PLTO','MNEU','MLIN','MMON','MBAS','MEOS','MCAS','MMET','MMIE','MPRO','CPLAS','MBLS','MERI','FRSP','COMHE','WBC-P','IPFA','IPF','HIPF','VPM','RDW','NEUp','LINp','MONp','EOSp','BASp','IGp','ERBLp','RET','RETp','FRI','RETHE','HIPER','HYPO','MACR','MICRO','FRAGM','RBCO','MCHCO','BA-D%','BA-N%','D-HE','FRCA','IRF-Y','LIN_p','NEU_p','RBCHE','RBC-Y','RTNC','RUPP','RET-Y','RPI','TNC-D','TNC-P'],axis=1)\n",
    "db_hpt_test['Diagnosis']=np.ones((19,1),dtype=np.int8)\n",
    "\n",
    "\n",
    "db_onc_test = db_oncologicos_test.drop(['Número','PLTI','PLTF','PLTO','MNEU','MLIN','MMON','MBAS','MEOS','MCAS','MMET','MMIE','MPRO','CPLAS','MBLS','MERI','FRSP','COMHE','WBC-P','IPFA','IPF','HIPF','VPM','RDW','NEUp','LINp','MONp','EOSp','BASp','IGp','ERBLp','RET','RETp','FRI','RETHE','HIPER','HYPO','MACR','MICRO','FRAGM','RBCO','MCHCO','BA-D%','BA-N%','D-HE','FRCA','IRF-Y','LIN_p','NEU_p','RBCHE','RBC-Y','RTNC','RUPP','RET-Y','RPI','TNC-D','TNC-P'],axis=1)\n",
    "db_onc_test['Diagnosis']=np.full((19,1),2,dtype=np.int8)\n",
    "\n",
    "db_pti_test = db_PTI_test.drop(['Número','Fecha','Código Externo','PLTI','PLTF','PLTO','MNEU','MLIN','MMON','MBAS','MEOS','MCAS','MMET','MMIE','MPRO','CPLAS','MBLS','MERI','FRSP','COMHE','WBC-P','IPFA','IPF','HIPF','VPM','RDW','NEUp','LINp','MONp','EOSp','BASp','IGp','ERBLp','RET','RETp','FRI','RETHE','HIPER','HYPO','MACR','MICRO','FRAGM','RBCO','MCHCO','BA-D%','BA-N%','D-HE','FRCA','IRF-Y','LIN_p','NEU_p','RBCHE','RBC-Y','RTNC','RUPP','RET-Y','RPI','TNC-D','TNC-P'],axis=1)\n",
    "db_pti_test['Diagnosis']=np.full((4,1),3,dtype=np.int8)\n"
   ]
  },
  {
   "cell_type": "markdown",
   "metadata": {},
   "source": [
    "# Etapa 2: Machine Learning (Regresion logistica, Knn y Perceptron multicapa)"
   ]
  },
  {
   "cell_type": "markdown",
   "metadata": {},
   "source": [
    "## Estandarizador y entradas estandarizadas (se aplicara en caso necesario)"
   ]
  },
  {
   "cell_type": "code",
   "execution_count": 20,
   "metadata": {},
   "outputs": [],
   "source": [
    "scaler = preprocessing.StandardScaler().fit(x_train)\n",
    "\n",
    "x_train_s = scaler.transform(x_train)\n",
    "x_test_s = scaler.transform(x_test)"
   ]
  },
  {
   "cell_type": "markdown",
   "metadata": {},
   "source": [
    "## Regresion logistica (Modelo)"
   ]
  },
  {
   "cell_type": "code",
   "execution_count": 21,
   "metadata": {},
   "outputs": [],
   "source": [
    "#Realizamos las particiones de entrenamiento y test\n",
    "\n",
    "x = db_final.drop(['Diagnosis'],axis=1)\n",
    "y = db_final['Diagnosis']\n",
    "y_vals = np.eye(len(set(y)))[y]\n",
    "\n",
    "x_train,x_test,y_train,y_test = train_test_split(x,y_vals, test_size=0.2)"
   ]
  },
  {
   "cell_type": "code",
   "execution_count": 22,
   "metadata": {},
   "outputs": [],
   "source": [
    "x = tf.placeholder(tf.float32, [None, 49])\n",
    "y_true = tf.placeholder(tf.float32, [None, 4])\n",
    "y_true_cls = tf.placeholder(tf.int64, [None])\n",
    "w = tf.Variable(tf.zeros([49, 4]))\n",
    "b = tf.Variable(tf.zeros([4]))\n",
    "logits = tf.matmul(x, w) + b\n",
    "y_pred = tf.nn.softmax(logits)\n",
    "y_pred_cls = tf.argmax(y_pred, axis=1) #axis=dimension\n",
    "y_test_cls = np.array([label.argmax() for label in y_test])"
   ]
  },
  {
   "cell_type": "code",
   "execution_count": 23,
   "metadata": {},
   "outputs": [],
   "source": [
    "cross_entropy = tf.nn.softmax_cross_entropy_with_logits_v2(logits=logits,labels=y_true)\n",
    "#cost = tf.reduce_mean(cross_entropy)\n",
    "optimizer = tf.train.GradientDescentOptimizer(learning_rate=0.001).minimize(cross_entropy)\n",
    "correct_prediction = tf.equal(y_pred_cls, y_true_cls)\n",
    "accuracy = tf.reduce_mean(tf.cast(correct_prediction, tf.float32))"
   ]
  },
  {
   "cell_type": "markdown",
   "metadata": {},
   "source": [
    "## Regresion logistica (Entrenamiento)"
   ]
  },
  {
   "cell_type": "code",
   "execution_count": 24,
   "metadata": {},
   "outputs": [],
   "source": [
    "session = tf.Session()\n",
    "session.run(tf.global_variables_initializer())\n",
    "def optimize(num_iterations):\n",
    "    for i in range(num_iterations):\n",
    "        \n",
    "        feed_dict_train = {x: x_train, y_true: y_train}\n",
    "\n",
    "        session.run(optimizer, feed_dict=feed_dict_train)"
   ]
  },
  {
   "cell_type": "markdown",
   "metadata": {},
   "source": [
    "## Regresion logistica (Validacion)"
   ]
  },
  {
   "cell_type": "code",
   "execution_count": 25,
   "metadata": {},
   "outputs": [],
   "source": [
    "classes = ['SMD','Hepatópatas','Oncológicos','PTI']\n",
    "\n",
    "feed_dict_test = {x: x_test,\n",
    "                  y_true: y_test,\n",
    "                  y_true_cls: y_test_cls}\n",
    "\n",
    "def print_accuracy():\n",
    "    # Use TensorFlow to compute the accuracy.\n",
    "    acc = session.run(accuracy, feed_dict=feed_dict_test)\n",
    "\n",
    "    # Print the accuracy.\n",
    "    print(\"Accuracy on test-set: {0:.1%}\".format(acc))\n",
    "\n",
    "def plot_confusion_matrix(normalize=False):\n",
    "\n",
    "    # Compute confusion matrix\n",
    "    # Only use the labels that appear in the data\n",
    "    #classes = classes[unique_labels(y_true, y_pred)]\n",
    "    \n",
    "    # Get the true classifications for the test-set.\n",
    "    cls_true = y_test_cls\n",
    "\n",
    "    # Get the predicted classifications for the test-set.\n",
    "    cls_pred = session.run(y_pred_cls, feed_dict=feed_dict_test)\n",
    "\n",
    "    # Get the confusion matrix using sklearn.\n",
    "    cm = confusion_matrix(y_true=cls_true,\n",
    "                          y_pred=cls_pred)\n",
    "\n",
    "    # Print the confusion matrix as text.\n",
    "    print(cm)\n",
    "    \n",
    "    fig, ax = plt.subplots()\n",
    "    im = ax.imshow(cm, interpolation='nearest', cmap=plt.cm.Blues)\n",
    "    ax.figure.colorbar(im, ax=ax)\n",
    "    # We want to show all ticks...\n",
    "    ax.set(xticks=np.arange(cm.shape[1]),\n",
    "           yticks=np.arange(cm.shape[0]),\n",
    "           # ... and label them with the respective list entries\n",
    "           xticklabels=classes, yticklabels=classes,\n",
    "           title='Matriz de confusión',\n",
    "           ylabel='True label',\n",
    "           xlabel='Predicted label')\n",
    "\n",
    "    # Rotate the tick labels and set their alignment.\n",
    "    plt.setp(ax.get_xticklabels(), rotation=45, ha=\"right\",\n",
    "             rotation_mode=\"anchor\")\n",
    "\n",
    "    # Loop over data dimensions and create text annotations.\n",
    "    fmt = '.2f' if normalize else 'd'\n",
    "    thresh = cm.max() / 2.\n",
    "    for i in range(cm.shape[0]):\n",
    "        for j in range(cm.shape[1]):\n",
    "            ax.text(j, i, format(cm[i, j], fmt),\n",
    "                    ha=\"center\", va=\"center\",\n",
    "                    color=\"white\" if cm[i, j] > thresh else \"black\")\n",
    "    fig.tight_layout()\n",
    "    return ax\n"
   ]
  },
  {
   "cell_type": "code",
   "execution_count": 26,
   "metadata": {},
   "outputs": [
    {
     "name": "stdout",
     "output_type": "stream",
     "text": [
      "[[10  0  0 13]\n",
      " [ 0  0  0 61]\n",
      " [ 3  0  0 35]\n",
      " [ 0  0  0 20]]\n",
      "Accuracy on test-set: 21.1%\n"
     ]
    },
    {
     "data": {
      "image/png": "[encoded data removed]",
      "text/plain": [
       "<Figure size 432x288 with 2 Axes>"
      ]
     },
     "metadata": {
      "needs_background": "light"
     },
     "output_type": "display_data"
    }
   ],
   "source": [
    "optimize(num_iterations=1000)\n",
    "plot_confusion_matrix()\n",
    "print_accuracy()"
   ]
  },
  {
   "cell_type": "markdown",
   "metadata": {},
   "source": [
    "## Knn (Modelo)"
   ]
  },
  {
   "cell_type": "code",
   "execution_count": 27,
   "metadata": {},
   "outputs": [],
   "source": [
    "#Realizamos las particiones de entrenamiento y test\n",
    "\n",
    "x = db_final.drop(['Diagnosis'],axis=1)\n",
    "y = db_final['Diagnosis']\n",
    "\n",
    "# Realizamos One-hot-encoding de las etiquetas\n",
    "y_vals = np.eye(len(set(y)))[y]\n",
    "\n",
    "x_train,x_test,y_train,y_test = train_test_split(x,y_vals, test_size=0.2, random_state=7)\n",
    "\n",
    "\n",
    "scaler = preprocessing.StandardScaler().fit(x_train)\n",
    "\n",
    "x_train = scaler.transform(x_train)\n",
    "x_test = scaler.transform(x_test)\n",
    "\n",
    "# obtenemos las etiquetas del test como valores 0,1,2 y 3, ya que estaban codificadas.\n",
    "\n",
    "y_test_cls = np.array([label.argmax() for label in y_test])"
   ]
  },
  {
   "cell_type": "code",
   "execution_count": 28,
   "metadata": {},
   "outputs": [],
   "source": [
    "# Creacion del modelo knn\n",
    "x_data_train = tf.placeholder(shape=[None, 49], dtype=tf.float32)\n",
    "y_data_train = tf.placeholder(shape=[None, 4], dtype=tf.float32)\n",
    "x_data_test = tf.placeholder(shape=[None, 49], dtype=tf.float32)"
   ]
  },
  {
   "cell_type": "markdown",
   "metadata": {},
   "source": [
    "## Knn (distancia Manhattan)"
   ]
  },
  {
   "cell_type": "code",
   "execution_count": 29,
   "metadata": {},
   "outputs": [
    {
     "name": "stdout",
     "output_type": "stream",
     "text": [
      "cv_k_Scores: [0.7394366197183099, 0.7394366197183099, 0.7605633802816901, 0.7323943661971831, 0.7183098591549296, 0.7112676056338029, 0.7323943661971831, 0.7323943661971831, 0.7112676056338029, 0.7183098591549296]\n",
      "10\n",
      "10\n"
     ]
    },
    {
     "data": {
      "image/png": "[encoded data removed]",
      "text/plain": [
       "<Figure size 432x288 with 1 Axes>"
      ]
     },
     "metadata": {
      "needs_background": "light"
     },
     "output_type": "display_data"
    },
    {
     "name": "stdout",
     "output_type": "stream",
     "text": [
      "El valor óptimo de vecinos cercanos es: 5\n",
      "El máximo valor de accuracy es: 0.7605633802816901\n"
     ]
    }
   ],
   "source": [
    "#Validacion cruzada para obtener una buena capacidad de generalizacion\n",
    "\n",
    "k_values = range(1,21,2)\n",
    "cv_k_scores = []\n",
    "\n",
    "distance = tf.reduce_sum(tf.abs(tf.subtract(x_data_train, tf.expand_dims(x_data_test, 1))), axis=2)\n",
    "\n",
    "for k in k_values:\n",
    "    _, top_k_indices = tf.nn.top_k(tf.negative(distance), k=k)\n",
    "    top_k_label = tf.gather(y_data_train, top_k_indices)\n",
    "\n",
    "    sum_up_predictions = tf.reduce_sum(top_k_label, axis=1)\n",
    "    prediction = tf.argmax(sum_up_predictions, axis=1)\n",
    "    sess = tf.Session()\n",
    "    prediction_outcome = sess.run(prediction, feed_dict = \n",
    "                              {x_data_train: x_train,\n",
    "                               x_data_test: x_test,\n",
    "                               y_data_train: y_train})\n",
    "    \n",
    "    accuracy = 0\n",
    "    for pred, actual in zip(prediction_outcome, y_test):\n",
    "        if pred == np.argmax(actual):\n",
    "            accuracy += 1\n",
    "    cv_k_scores.append(accuracy / len(prediction_outcome))\n",
    "\n",
    "        \n",
    "print('cv_k_Scores:',cv_k_scores)\n",
    "print(len(cv_k_scores))\n",
    "print(len(k_values))\n",
    "\n",
    "\n",
    "plt.plot(k_values, cv_k_scores)\n",
    "plt.grid()\n",
    "\n",
    "plt.xlabel('K')\n",
    "plt.ylabel('Accuracy')\n",
    "plt.show()\n",
    "\n",
    "\n",
    "# Seleccionamor el maximo porque consideramos accuracy\n",
    "\n",
    "print('El valor óptimo de vecinos cercanos es:',np.array(k_values)[cv_k_scores.index(np.array(cv_k_scores).max())])\n",
    "\n",
    "# Obtenemos el máximo valor de accuracy \n",
    "\n",
    "print('El máximo valor de accuracy es:',max(cv_k_scores))\n"
   ]
  },
  {
   "cell_type": "markdown",
   "metadata": {},
   "source": [
    "Se implementa la distancia Manhattan:valor absoluto de la diferencia entre los valores del vector de dos puntos de datos de x1 y x2.\n",
    "El comando 'tf.expand_dims' añade una dimension extra a 'x_data_test' para que se puede llevar a cabo la resta."
   ]
  },
  {
   "cell_type": "code",
   "execution_count": 30,
   "metadata": {},
   "outputs": [],
   "source": [
    "distance = tf.reduce_sum(tf.abs(tf.subtract(x_data_train, tf.expand_dims(x_data_test, 1))), axis=2)"
   ]
  },
  {
   "cell_type": "markdown",
   "metadata": {},
   "source": [
    "Reemplazamos el valor de k que hemos obtenido tras realizar validación cruzada."
   ]
  },
  {
   "cell_type": "code",
   "execution_count": 31,
   "metadata": {},
   "outputs": [],
   "source": [
    "k = 5\n",
    "\n",
    "# k puntos mas cercanos\n",
    "_, top_k_indices = tf.nn.top_k(tf.negative(distance), k=k)\n",
    "top_k_label = tf.gather(y_data_train, top_k_indices)\n",
    "\n",
    "sum_up_predictions = tf.reduce_sum(top_k_label, axis=1)\n",
    "prediction = tf.argmax(sum_up_predictions, axis=1)"
   ]
  },
  {
   "cell_type": "markdown",
   "metadata": {},
   "source": [
    "- Con la funcion 'tf.nn.top_k()', se obtienes los mayores valores y los índices de KNN. El primer valor de retorno, son los valores de las distancias y por lo tanto se descartan ya que la función 'tf.negative()' hace que los valores sean negativos.\n",
    "\n",
    "\n",
    "- Con la función 'tf.gather()' extraemos las etiquetas de entrenamiento asociadas a los índices de los vecinos más cercanos. Por tanto, top_k_label son las etiquetas codificadas.\n",
    "\n",
    "\n",
    "- Con la función 'tf.reduce_sum()', se obtiene la suma de elementos.\n",
    "\n",
    "\n",
    "- Con la funcion 'tf.argmax()' se obtienen las etiquetas predichas ya que con esta función se obtiene el índice del valor máximo."
   ]
  },
  {
   "cell_type": "markdown",
   "metadata": {},
   "source": [
    "## Knn (Manhattan) - Entrenamiento"
   ]
  },
  {
   "cell_type": "code",
   "execution_count": 32,
   "metadata": {},
   "outputs": [],
   "source": [
    "sess = tf.Session()\n",
    "# Obtenemos las predicciones\n",
    "prediction_outcome = sess.run(prediction, feed_dict = \n",
    "                              {x_data_train: x_train,\n",
    "                               x_data_test: x_test,\n",
    "                               y_data_train: y_train})"
   ]
  },
  {
   "cell_type": "markdown",
   "metadata": {},
   "source": [
    "## Knn (Manhattan) - Validacion"
   ]
  },
  {
   "cell_type": "code",
   "execution_count": 33,
   "metadata": {},
   "outputs": [
    {
     "name": "stdout",
     "output_type": "stream",
     "text": [
      "[[12  3  1  1]\n",
      " [ 3 46  3  2]\n",
      " [ 3 11 32  3]\n",
      " [ 0  3  1 18]]\n"
     ]
    }
   ],
   "source": [
    "# Obtenemos la matriz de confusión\n",
    "con = tf.confusion_matrix(labels=y_test_cls, predictions=prediction_outcome )\n",
    "sess = tf.Session()\n",
    "with sess.as_default():\n",
    "        print(sess.run(con))"
   ]
  },
  {
   "cell_type": "code",
   "execution_count": 34,
   "metadata": {},
   "outputs": [
    {
     "name": "stdout",
     "output_type": "stream",
     "text": [
      "0.7605633802816901\n"
     ]
    }
   ],
   "source": [
    "accuracy = 0\n",
    "for pred, actual in zip(prediction_outcome, y_test):\n",
    "    if pred == np.argmax(actual):\n",
    "        accuracy += 1\n",
    "print(accuracy / len(prediction_outcome))"
   ]
  },
  {
   "cell_type": "markdown",
   "metadata": {},
   "source": [
    "## Knn (Euclidea)"
   ]
  },
  {
   "cell_type": "markdown",
   "metadata": {},
   "source": [
    "En este punto, se realiza validación cruzada tomando como medida de distancia la euclídea, ya que sabemos que KNN es sensible a la distancia que se considere (los vecinos cercanos pueden cambiar)."
   ]
  },
  {
   "cell_type": "code",
   "execution_count": 35,
   "metadata": {},
   "outputs": [
    {
     "name": "stdout",
     "output_type": "stream",
     "text": [
      "cv_k_Scores: [0.7183098591549296, 0.7183098591549296, 0.7183098591549296, 0.7253521126760564, 0.7112676056338029, 0.7394366197183099, 0.7394366197183099, 0.7253521126760564, 0.7183098591549296, 0.7183098591549296]\n",
      "10\n",
      "10\n"
     ]
    },
    {
     "data": {
      "image/png": "[encoded data removed]",
      "text/plain": [
       "<Figure size 432x288 with 1 Axes>"
      ]
     },
     "metadata": {
      "needs_background": "light"
     },
     "output_type": "display_data"
    },
    {
     "name": "stdout",
     "output_type": "stream",
     "text": [
      "El valor óptimo de vecinos cercanos es: 11\n",
      "El máximo valor de accuracy es: 0.7394366197183099\n"
     ]
    }
   ],
   "source": [
    "k_values = range(1,21,2)\n",
    "cv_k_scores = []\n",
    "\n",
    "# Definimos la distancia euclidea\n",
    "euclidian_distance = tf.sqrt(tf.reduce_sum(tf.square(tf.subtract(x_data_train, tf.expand_dims(x_data_test,1))), axis=2))\n",
    "\n",
    "\n",
    "for k in k_values:\n",
    "    _, top_k_indices = tf.nn.top_k(tf.negative(euclidian_distance), k=k)\n",
    "    top_k_label = tf.gather(y_data_train, top_k_indices)\n",
    "\n",
    "    sum_up_predictions = tf.reduce_sum(top_k_label, axis=1)\n",
    "    prediction = tf.argmax(sum_up_predictions, axis=1)\n",
    "    sess = tf.Session()\n",
    "    prediction_outcome = sess.run(prediction, feed_dict = \n",
    "                              {x_data_train: x_train,\n",
    "                               x_data_test: x_test,\n",
    "                               y_data_train: y_train})\n",
    "    \n",
    "    accuracy = 0\n",
    "    for pred, actual in zip(prediction_outcome, y_test):\n",
    "        if pred == np.argmax(actual):\n",
    "            accuracy += 1\n",
    "    cv_k_scores.append(accuracy / len(prediction_outcome))\n",
    "\n",
    "        \n",
    "print('cv_k_Scores:',cv_k_scores)\n",
    "print(len(cv_k_scores))\n",
    "print(len(k_values))\n",
    "\n",
    "\n",
    "plt.plot(k_values, cv_k_scores)\n",
    "plt.grid()\n",
    "\n",
    "plt.xlabel('K')\n",
    "plt.ylabel('Accuracy')\n",
    "plt.show()\n",
    "\n",
    "\n",
    "# Seleccionamor el maximo porque consideramos accuracy\n",
    "\n",
    "print('El valor óptimo de vecinos cercanos es:',np.array(k_values)[cv_k_scores.index(np.array(cv_k_scores).max())])\n",
    "\n",
    "# Obtenemos el máximo valor de accuracy \n",
    "\n",
    "print('El máximo valor de accuracy es:',max(cv_k_scores))"
   ]
  },
  {
   "cell_type": "markdown",
   "metadata": {},
   "source": [
    "Hemos obtenido como valor óptimo de vecinos cercanos el valor 7, por tanto creamos el modelo con este valor de k."
   ]
  },
  {
   "cell_type": "code",
   "execution_count": 36,
   "metadata": {},
   "outputs": [],
   "source": [
    "k = 7\n",
    "\n",
    "# K puntos mas cercanos\n",
    "_, top_k_indices = tf.nn.top_k(tf.negative(euclidian_distance), k=k)\n",
    "top_k_label = tf.gather(y_data_train, top_k_indices)\n",
    "\n",
    "sum_up_predictions = tf.reduce_sum(top_k_label, axis=1)\n",
    "prediction = tf.argmax(sum_up_predictions, axis=1)"
   ]
  },
  {
   "cell_type": "markdown",
   "metadata": {},
   "source": [
    "## Knn (Euclidea) - Entrenamiento"
   ]
  },
  {
   "cell_type": "code",
   "execution_count": 37,
   "metadata": {},
   "outputs": [],
   "source": [
    "sess = tf.Session()\n",
    "prediction_outcome_d2 = sess.run(prediction, feed_dict = \n",
    "                              {x_data_train: x_train,\n",
    "                               x_data_test: x_test,\n",
    "                               y_data_train: y_train})"
   ]
  },
  {
   "cell_type": "markdown",
   "metadata": {},
   "source": [
    "## Knn (Euclidea) - Validacion"
   ]
  },
  {
   "cell_type": "code",
   "execution_count": 38,
   "metadata": {},
   "outputs": [
    {
     "name": "stdout",
     "output_type": "stream",
     "text": [
      "[[12  2  2  1]\n",
      " [ 1 43  6  4]\n",
      " [ 3 12 31  3]\n",
      " [ 0  4  1 17]]\n"
     ]
    }
   ],
   "source": [
    "# Matriz de confusión \n",
    "\n",
    "con = tf.confusion_matrix(labels=y_test_cls, predictions=prediction_outcome_d2 )\n",
    "sess = tf.Session()\n",
    "with sess.as_default():\n",
    "        print(sess.run(con))"
   ]
  },
  {
   "cell_type": "code",
   "execution_count": 39,
   "metadata": {},
   "outputs": [
    {
     "name": "stdout",
     "output_type": "stream",
     "text": [
      "Tasa de acierto: 0.7253521126760564\n"
     ]
    }
   ],
   "source": [
    "# Obtenemos la tasa de acierto\n",
    "accuracy_d2 = 0\n",
    "for pred, actual in zip(prediction_outcome_d2, y_test):\n",
    "    if pred == np.argmax(actual):\n",
    "        accuracy_d2 += 1\n",
    "print('Tasa de acierto:',accuracy_d2 / len(prediction_outcome_d2))"
   ]
  },
  {
   "cell_type": "markdown",
   "metadata": {},
   "source": [
    "## Red neuronal : Perceptron multicapa"
   ]
  },
  {
   "cell_type": "code",
   "execution_count": 41,
   "metadata": {},
   "outputs": [
    {
     "name": "stdout",
     "output_type": "stream",
     "text": [
      "WARNING:tensorflow:From /home/alumnos/dmanriqu/.conda/envs/optimization/lib/python3.7/site-packages/tensorflow_core/python/ops/resource_variable_ops.py:1635: calling BaseResourceVariable.__init__ (from tensorflow.python.ops.resource_variable_ops) with constraint is deprecated and will be removed in a future version.\n",
      "Instructions for updating:\n",
      "If using Keras pass *_constraint arguments to layers.\n"
     ]
    }
   ],
   "source": [
    "# Crearemos una serie de capas de neuronas secuenciales\n",
    "model = Sequential()\n",
    "\n",
    "# Capa de entrada con 49 neuronas\n",
    "# La primera capa oculta tiene 16 neuronas\n",
    "model.add(Dense(16, input_dim=49, activation='relu'))\n",
    "model.add(Dense(8, activation='relu'))\n",
    "\n",
    "\n",
    "# Agregamos una capa con 4 neuronas de salida y función de activación sigmoide\n",
    "model.add(Dense(4, activation='sigmoid'))"
   ]
  },
  {
   "cell_type": "code",
   "execution_count": 42,
   "metadata": {},
   "outputs": [],
   "source": [
    "# Función de pérdida: binary_crossentropy, optimizador= adam, definimos exactitud como métrica\n",
    "\n",
    "model.compile(loss='binary_crossentropy',\n",
    "              optimizer='adam',\n",
    "              metrics=['accuracy'])"
   ]
  },
  {
   "cell_type": "code",
   "execution_count": 43,
   "metadata": {},
   "outputs": [
    {
     "name": "stdout",
     "output_type": "stream",
     "text": [
      "Train on 508 samples, validate on 57 samples\n",
      "Epoch 1/100\n",
      "508/508 [==============================] - 0s 900us/step - loss: 0.6770 - accuracy: 0.5709 - val_loss: 0.6619 - val_accuracy: 0.6272\n",
      "Epoch 2/100\n",
      "508/508 [==============================] - 0s 44us/step - loss: 0.6325 - accuracy: 0.6417 - val_loss: 0.6207 - val_accuracy: 0.6842\n",
      "Epoch 3/100\n",
      "508/508 [==============================] - 0s 37us/step - loss: 0.5942 - accuracy: 0.6924 - val_loss: 0.5812 - val_accuracy: 0.7149\n",
      "Epoch 4/100\n",
      "508/508 [==============================] - 0s 38us/step - loss: 0.5546 - accuracy: 0.7288 - val_loss: 0.5382 - val_accuracy: 0.7763\n",
      "Epoch 5/100\n",
      "508/508 [==============================] - 0s 37us/step - loss: 0.5163 - accuracy: 0.7657 - val_loss: 0.5000 - val_accuracy: 0.7939\n",
      "Epoch 6/100\n",
      "508/508 [==============================] - 0s 35us/step - loss: 0.4829 - accuracy: 0.7849 - val_loss: 0.4658 - val_accuracy: 0.7982\n",
      "Epoch 7/100\n",
      "508/508 [==============================] - 0s 39us/step - loss: 0.4542 - accuracy: 0.8036 - val_loss: 0.4426 - val_accuracy: 0.8070\n",
      "Epoch 8/100\n",
      "508/508 [==============================] - 0s 34us/step - loss: 0.4313 - accuracy: 0.8209 - val_loss: 0.4258 - val_accuracy: 0.8114\n",
      "Epoch 9/100\n",
      "508/508 [==============================] - 0s 33us/step - loss: 0.4134 - accuracy: 0.8282 - val_loss: 0.4138 - val_accuracy: 0.8114\n",
      "Epoch 10/100\n",
      "508/508 [==============================] - 0s 39us/step - loss: 0.3981 - accuracy: 0.8346 - val_loss: 0.4071 - val_accuracy: 0.8114\n",
      "Epoch 11/100\n",
      "508/508 [==============================] - 0s 39us/step - loss: 0.3847 - accuracy: 0.8376 - val_loss: 0.3990 - val_accuracy: 0.8114\n",
      "Epoch 12/100\n",
      "508/508 [==============================] - 0s 35us/step - loss: 0.3722 - accuracy: 0.8460 - val_loss: 0.3950 - val_accuracy: 0.8202\n",
      "Epoch 13/100\n",
      "508/508 [==============================] - 0s 37us/step - loss: 0.3612 - accuracy: 0.8514 - val_loss: 0.3897 - val_accuracy: 0.8202\n",
      "Epoch 14/100\n",
      "508/508 [==============================] - 0s 35us/step - loss: 0.3505 - accuracy: 0.8563 - val_loss: 0.3867 - val_accuracy: 0.8202\n",
      "Epoch 15/100\n",
      "508/508 [==============================] - 0s 37us/step - loss: 0.3410 - accuracy: 0.8573 - val_loss: 0.3830 - val_accuracy: 0.8333\n",
      "Epoch 16/100\n",
      "508/508 [==============================] - 0s 38us/step - loss: 0.3311 - accuracy: 0.8607 - val_loss: 0.3814 - val_accuracy: 0.8333\n",
      "Epoch 17/100\n",
      "508/508 [==============================] - 0s 43us/step - loss: 0.3212 - accuracy: 0.8642 - val_loss: 0.3793 - val_accuracy: 0.8333\n",
      "Epoch 18/100\n",
      "508/508 [==============================] - 0s 36us/step - loss: 0.3118 - accuracy: 0.8696 - val_loss: 0.3772 - val_accuracy: 0.8289\n",
      "Epoch 19/100\n",
      "508/508 [==============================] - 0s 35us/step - loss: 0.3014 - accuracy: 0.8745 - val_loss: 0.3756 - val_accuracy: 0.8333\n",
      "Epoch 20/100\n",
      "508/508 [==============================] - 0s 36us/step - loss: 0.2917 - accuracy: 0.8784 - val_loss: 0.3737 - val_accuracy: 0.8289\n",
      "Epoch 21/100\n",
      "508/508 [==============================] - 0s 50us/step - loss: 0.2824 - accuracy: 0.8883 - val_loss: 0.3736 - val_accuracy: 0.8333\n",
      "Epoch 22/100\n",
      "508/508 [==============================] - 0s 35us/step - loss: 0.2728 - accuracy: 0.8927 - val_loss: 0.3745 - val_accuracy: 0.8333\n",
      "Epoch 23/100\n",
      "508/508 [==============================] - 0s 38us/step - loss: 0.2646 - accuracy: 0.8947 - val_loss: 0.3755 - val_accuracy: 0.8421\n",
      "Epoch 24/100\n",
      "508/508 [==============================] - 0s 36us/step - loss: 0.2554 - accuracy: 0.9031 - val_loss: 0.3788 - val_accuracy: 0.8377\n",
      "Epoch 25/100\n",
      "508/508 [==============================] - 0s 32us/step - loss: 0.2480 - accuracy: 0.9060 - val_loss: 0.3823 - val_accuracy: 0.8421\n",
      "Epoch 26/100\n",
      "508/508 [==============================] - 0s 37us/step - loss: 0.2413 - accuracy: 0.9085 - val_loss: 0.3850 - val_accuracy: 0.8421\n",
      "Epoch 27/100\n",
      "508/508 [==============================] - 0s 38us/step - loss: 0.2354 - accuracy: 0.9085 - val_loss: 0.3884 - val_accuracy: 0.8465\n",
      "Epoch 28/100\n",
      "508/508 [==============================] - 0s 34us/step - loss: 0.2294 - accuracy: 0.9104 - val_loss: 0.3892 - val_accuracy: 0.8465\n",
      "Epoch 29/100\n",
      "508/508 [==============================] - 0s 34us/step - loss: 0.2239 - accuracy: 0.9129 - val_loss: 0.3935 - val_accuracy: 0.8509\n",
      "Epoch 30/100\n",
      "508/508 [==============================] - 0s 35us/step - loss: 0.2189 - accuracy: 0.9144 - val_loss: 0.3964 - val_accuracy: 0.8465\n",
      "Epoch 31/100\n",
      "508/508 [==============================] - 0s 35us/step - loss: 0.2146 - accuracy: 0.9149 - val_loss: 0.3974 - val_accuracy: 0.8465\n",
      "Epoch 32/100\n",
      "508/508 [==============================] - 0s 36us/step - loss: 0.2098 - accuracy: 0.9183 - val_loss: 0.3962 - val_accuracy: 0.8421\n",
      "Epoch 33/100\n",
      "508/508 [==============================] - 0s 38us/step - loss: 0.2044 - accuracy: 0.9178 - val_loss: 0.3963 - val_accuracy: 0.8421\n",
      "Epoch 34/100\n",
      "508/508 [==============================] - 0s 35us/step - loss: 0.2013 - accuracy: 0.9183 - val_loss: 0.3978 - val_accuracy: 0.8421\n",
      "Epoch 35/100\n",
      "508/508 [==============================] - 0s 34us/step - loss: 0.1964 - accuracy: 0.9232 - val_loss: 0.3989 - val_accuracy: 0.8421\n",
      "Epoch 36/100\n",
      "508/508 [==============================] - 0s 38us/step - loss: 0.1915 - accuracy: 0.9237 - val_loss: 0.4031 - val_accuracy: 0.8421\n",
      "Epoch 37/100\n",
      "508/508 [==============================] - 0s 35us/step - loss: 0.1884 - accuracy: 0.9247 - val_loss: 0.4085 - val_accuracy: 0.8421\n",
      "Epoch 38/100\n",
      "508/508 [==============================] - 0s 43us/step - loss: 0.1850 - accuracy: 0.9262 - val_loss: 0.4110 - val_accuracy: 0.8421\n",
      "Epoch 39/100\n",
      "508/508 [==============================] - 0s 33us/step - loss: 0.1817 - accuracy: 0.9262 - val_loss: 0.4157 - val_accuracy: 0.8421\n",
      "Epoch 40/100\n",
      "508/508 [==============================] - 0s 35us/step - loss: 0.1788 - accuracy: 0.9281 - val_loss: 0.4204 - val_accuracy: 0.8421\n",
      "Epoch 41/100\n",
      "508/508 [==============================] - 0s 37us/step - loss: 0.1759 - accuracy: 0.9296 - val_loss: 0.4245 - val_accuracy: 0.8421\n",
      "Epoch 42/100\n",
      "508/508 [==============================] - 0s 39us/step - loss: 0.1724 - accuracy: 0.9331 - val_loss: 0.4293 - val_accuracy: 0.8421\n",
      "Epoch 43/100\n",
      "508/508 [==============================] - 0s 38us/step - loss: 0.1690 - accuracy: 0.9355 - val_loss: 0.4337 - val_accuracy: 0.8421\n",
      "Epoch 44/100\n",
      "508/508 [==============================] - 0s 35us/step - loss: 0.1662 - accuracy: 0.9350 - val_loss: 0.4369 - val_accuracy: 0.8421\n",
      "Epoch 45/100\n",
      "508/508 [==============================] - 0s 33us/step - loss: 0.1632 - accuracy: 0.9380 - val_loss: 0.4425 - val_accuracy: 0.8421\n",
      "Epoch 46/100\n",
      "508/508 [==============================] - 0s 33us/step - loss: 0.1608 - accuracy: 0.9405 - val_loss: 0.4429 - val_accuracy: 0.8421\n",
      "Epoch 47/100\n",
      "508/508 [==============================] - 0s 35us/step - loss: 0.1582 - accuracy: 0.9400 - val_loss: 0.4455 - val_accuracy: 0.8465\n",
      "Epoch 48/100\n",
      "508/508 [==============================] - 0s 33us/step - loss: 0.1554 - accuracy: 0.9424 - val_loss: 0.4535 - val_accuracy: 0.8465\n",
      "Epoch 49/100\n",
      "508/508 [==============================] - 0s 34us/step - loss: 0.1529 - accuracy: 0.9439 - val_loss: 0.4547 - val_accuracy: 0.8465\n",
      "Epoch 50/100\n",
      "508/508 [==============================] - 0s 33us/step - loss: 0.1504 - accuracy: 0.9424 - val_loss: 0.4548 - val_accuracy: 0.8465\n",
      "Epoch 51/100\n",
      "508/508 [==============================] - 0s 35us/step - loss: 0.1475 - accuracy: 0.9444 - val_loss: 0.4618 - val_accuracy: 0.8465\n",
      "Epoch 52/100\n",
      "508/508 [==============================] - 0s 37us/step - loss: 0.1460 - accuracy: 0.9454 - val_loss: 0.4654 - val_accuracy: 0.8465\n",
      "Epoch 53/100\n",
      "508/508 [==============================] - 0s 36us/step - loss: 0.1446 - accuracy: 0.9439 - val_loss: 0.4701 - val_accuracy: 0.8465\n",
      "Epoch 54/100\n",
      "508/508 [==============================] - 0s 37us/step - loss: 0.1412 - accuracy: 0.9454 - val_loss: 0.4779 - val_accuracy: 0.8509\n",
      "Epoch 55/100\n",
      "508/508 [==============================] - 0s 34us/step - loss: 0.1393 - accuracy: 0.9473 - val_loss: 0.4812 - val_accuracy: 0.8509\n",
      "Epoch 56/100\n",
      "508/508 [==============================] - 0s 38us/step - loss: 0.1372 - accuracy: 0.9469 - val_loss: 0.4804 - val_accuracy: 0.8465\n",
      "Epoch 57/100\n"
     ]
    },
    {
     "name": "stdout",
     "output_type": "stream",
     "text": [
      "508/508 [==============================] - 0s 37us/step - loss: 0.1352 - accuracy: 0.9478 - val_loss: 0.4792 - val_accuracy: 0.8465\n",
      "Epoch 58/100\n",
      "508/508 [==============================] - 0s 31us/step - loss: 0.1337 - accuracy: 0.9488 - val_loss: 0.4843 - val_accuracy: 0.8509\n",
      "Epoch 59/100\n",
      "508/508 [==============================] - 0s 38us/step - loss: 0.1315 - accuracy: 0.9493 - val_loss: 0.4901 - val_accuracy: 0.8509\n",
      "Epoch 60/100\n",
      "508/508 [==============================] - 0s 38us/step - loss: 0.1304 - accuracy: 0.9488 - val_loss: 0.4907 - val_accuracy: 0.8465\n",
      "Epoch 61/100\n",
      "508/508 [==============================] - 0s 34us/step - loss: 0.1280 - accuracy: 0.9503 - val_loss: 0.4970 - val_accuracy: 0.8509\n",
      "Epoch 62/100\n",
      "508/508 [==============================] - 0s 37us/step - loss: 0.1263 - accuracy: 0.9498 - val_loss: 0.5009 - val_accuracy: 0.8465\n",
      "Epoch 63/100\n",
      "508/508 [==============================] - 0s 37us/step - loss: 0.1246 - accuracy: 0.9513 - val_loss: 0.5018 - val_accuracy: 0.8509\n",
      "Epoch 64/100\n",
      "508/508 [==============================] - 0s 36us/step - loss: 0.1228 - accuracy: 0.9523 - val_loss: 0.5061 - val_accuracy: 0.8465\n",
      "Epoch 65/100\n",
      "508/508 [==============================] - 0s 33us/step - loss: 0.1215 - accuracy: 0.9523 - val_loss: 0.5069 - val_accuracy: 0.8509\n",
      "Epoch 66/100\n",
      "508/508 [==============================] - 0s 34us/step - loss: 0.1200 - accuracy: 0.9532 - val_loss: 0.5104 - val_accuracy: 0.8465\n",
      "Epoch 67/100\n",
      "508/508 [==============================] - 0s 35us/step - loss: 0.1180 - accuracy: 0.9537 - val_loss: 0.5160 - val_accuracy: 0.8509\n",
      "Epoch 68/100\n",
      "508/508 [==============================] - 0s 33us/step - loss: 0.1170 - accuracy: 0.9547 - val_loss: 0.5136 - val_accuracy: 0.8421\n",
      "Epoch 69/100\n",
      "508/508 [==============================] - 0s 35us/step - loss: 0.1155 - accuracy: 0.9552 - val_loss: 0.5253 - val_accuracy: 0.8465\n",
      "Epoch 70/100\n",
      "508/508 [==============================] - 0s 42us/step - loss: 0.1143 - accuracy: 0.9577 - val_loss: 0.5310 - val_accuracy: 0.8465\n",
      "Epoch 71/100\n",
      "508/508 [==============================] - 0s 35us/step - loss: 0.1135 - accuracy: 0.9582 - val_loss: 0.5285 - val_accuracy: 0.8421\n",
      "Epoch 72/100\n",
      "508/508 [==============================] - 0s 34us/step - loss: 0.1112 - accuracy: 0.9582 - val_loss: 0.5339 - val_accuracy: 0.8465\n",
      "Epoch 73/100\n",
      "508/508 [==============================] - 0s 35us/step - loss: 0.1096 - accuracy: 0.9592 - val_loss: 0.5390 - val_accuracy: 0.8421\n",
      "Epoch 74/100\n",
      "508/508 [==============================] - 0s 35us/step - loss: 0.1078 - accuracy: 0.9582 - val_loss: 0.5411 - val_accuracy: 0.8421\n",
      "Epoch 75/100\n",
      "508/508 [==============================] - 0s 34us/step - loss: 0.1064 - accuracy: 0.9596 - val_loss: 0.5455 - val_accuracy: 0.8421\n",
      "Epoch 76/100\n",
      "508/508 [==============================] - 0s 36us/step - loss: 0.1053 - accuracy: 0.9606 - val_loss: 0.5497 - val_accuracy: 0.8465\n",
      "Epoch 77/100\n",
      "508/508 [==============================] - 0s 36us/step - loss: 0.1042 - accuracy: 0.9611 - val_loss: 0.5572 - val_accuracy: 0.8421\n",
      "Epoch 78/100\n",
      "508/508 [==============================] - 0s 35us/step - loss: 0.1024 - accuracy: 0.9626 - val_loss: 0.5569 - val_accuracy: 0.8421\n",
      "Epoch 79/100\n",
      "508/508 [==============================] - 0s 35us/step - loss: 0.1016 - accuracy: 0.9606 - val_loss: 0.5641 - val_accuracy: 0.8421\n",
      "Epoch 80/100\n",
      "508/508 [==============================] - 0s 36us/step - loss: 0.0999 - accuracy: 0.9631 - val_loss: 0.5674 - val_accuracy: 0.8421\n",
      "Epoch 81/100\n",
      "508/508 [==============================] - 0s 35us/step - loss: 0.0992 - accuracy: 0.9631 - val_loss: 0.5722 - val_accuracy: 0.8509\n",
      "Epoch 82/100\n",
      "508/508 [==============================] - 0s 36us/step - loss: 0.0974 - accuracy: 0.9641 - val_loss: 0.5734 - val_accuracy: 0.8465\n",
      "Epoch 83/100\n",
      "508/508 [==============================] - 0s 34us/step - loss: 0.0968 - accuracy: 0.9646 - val_loss: 0.5830 - val_accuracy: 0.8421\n",
      "Epoch 84/100\n",
      "508/508 [==============================] - 0s 38us/step - loss: 0.0951 - accuracy: 0.9656 - val_loss: 0.5844 - val_accuracy: 0.8465\n",
      "Epoch 85/100\n",
      "508/508 [==============================] - 0s 34us/step - loss: 0.0947 - accuracy: 0.9646 - val_loss: 0.5903 - val_accuracy: 0.8465\n",
      "Epoch 86/100\n",
      "508/508 [==============================] - 0s 35us/step - loss: 0.0926 - accuracy: 0.9656 - val_loss: 0.5936 - val_accuracy: 0.8465\n",
      "Epoch 87/100\n",
      "508/508 [==============================] - 0s 36us/step - loss: 0.0922 - accuracy: 0.9651 - val_loss: 0.5939 - val_accuracy: 0.8465\n",
      "Epoch 88/100\n",
      "508/508 [==============================] - 0s 36us/step - loss: 0.0907 - accuracy: 0.9660 - val_loss: 0.5988 - val_accuracy: 0.8465\n",
      "Epoch 89/100\n",
      "508/508 [==============================] - 0s 34us/step - loss: 0.0903 - accuracy: 0.9675 - val_loss: 0.6042 - val_accuracy: 0.8465\n",
      "Epoch 90/100\n",
      "508/508 [==============================] - 0s 36us/step - loss: 0.0890 - accuracy: 0.9685 - val_loss: 0.6053 - val_accuracy: 0.8465\n",
      "Epoch 91/100\n",
      "508/508 [==============================] - 0s 37us/step - loss: 0.0879 - accuracy: 0.9675 - val_loss: 0.6069 - val_accuracy: 0.8465\n",
      "Epoch 92/100\n",
      "508/508 [==============================] - 0s 34us/step - loss: 0.0868 - accuracy: 0.9700 - val_loss: 0.6105 - val_accuracy: 0.8465\n",
      "Epoch 93/100\n",
      "508/508 [==============================] - 0s 36us/step - loss: 0.0861 - accuracy: 0.9680 - val_loss: 0.6038 - val_accuracy: 0.8509\n",
      "Epoch 94/100\n",
      "508/508 [==============================] - 0s 34us/step - loss: 0.0850 - accuracy: 0.9670 - val_loss: 0.6125 - val_accuracy: 0.8465\n",
      "Epoch 95/100\n",
      "508/508 [==============================] - 0s 35us/step - loss: 0.0837 - accuracy: 0.9705 - val_loss: 0.6188 - val_accuracy: 0.8465\n",
      "Epoch 96/100\n",
      "508/508 [==============================] - 0s 36us/step - loss: 0.0834 - accuracy: 0.9695 - val_loss: 0.6251 - val_accuracy: 0.8465\n",
      "Epoch 97/100\n",
      "508/508 [==============================] - 0s 35us/step - loss: 0.0826 - accuracy: 0.9685 - val_loss: 0.6215 - val_accuracy: 0.8509\n",
      "Epoch 98/100\n",
      "508/508 [==============================] - 0s 37us/step - loss: 0.0810 - accuracy: 0.9690 - val_loss: 0.6260 - val_accuracy: 0.8509\n",
      "Epoch 99/100\n",
      "508/508 [==============================] - 0s 36us/step - loss: 0.0804 - accuracy: 0.9695 - val_loss: 0.6336 - val_accuracy: 0.8509\n",
      "Epoch 100/100\n",
      "508/508 [==============================] - 0s 35us/step - loss: 0.0797 - accuracy: 0.9705 - val_loss: 0.6343 - val_accuracy: 0.8421\n"
     ]
    },
    {
     "data": {
      "text/plain": [
       "<keras.callbacks.callbacks.History at 0x7fa26032c110>"
      ]
     },
     "execution_count": 43,
     "metadata": {},
     "output_type": "execute_result"
    }
   ],
   "source": [
    "model.fit(x_train, y_train, epochs=100, batch_size=20, validation_split=0.1)"
   ]
  },
  {
   "cell_type": "code",
   "execution_count": 44,
   "metadata": {},
   "outputs": [
    {
     "name": "stdout",
     "output_type": "stream",
     "text": [
      "565/565 [==============================] - 0s 11us/step\n",
      "\n",
      "accuracy: 95.93%\n"
     ]
    }
   ],
   "source": [
    "# Evaluamos en el conjunto de entrenamiento\n",
    "scores = model.evaluate(x_train, y_train)\n",
    "print(\"\\n%s: %.2f%%\" % (model.metrics_names[1], scores[1]*100))"
   ]
  },
  {
   "cell_type": "code",
   "execution_count": 45,
   "metadata": {},
   "outputs": [
    {
     "name": "stdout",
     "output_type": "stream",
     "text": [
      "\n",
      "# Evaluación en el conjunto de test\n",
      "142/142 [==============================] - 0s 27us/step\n",
      "\n",
      "accuracy: 86.97%\n"
     ]
    }
   ],
   "source": [
    "# Evaluamos el modelo en el conjunto de validacion\n",
    "print('\\n# Evaluación en el conjunto de test')\n",
    "scores = model.evaluate(x_test, y_test)\n",
    "print(\"\\n%s: %.2f%%\" % (model.metrics_names[1], scores[1]*100))\n",
    "\n",
    "# Obtenemos las predicciones\n",
    "predictions_mlp_codif = model.predict(x_test).round()\n",
    "\n",
    "# Obtenemos las predicciones con valores 0,1,2 y 3 ya que estaban codificadas\n",
    "predictions_mlp = np.array([label.argmax() for label in predictions_mlp_codif])\n",
    "\n",
    "#print(predictions_mlp)"
   ]
  },
  {
   "cell_type": "code",
   "execution_count": 46,
   "metadata": {},
   "outputs": [
    {
     "name": "stdout",
     "output_type": "stream",
     "text": [
      "[[14  1  2  0]\n",
      " [ 3 43  5  3]\n",
      " [ 7  8 31  3]\n",
      " [ 5  0  2 15]]\n"
     ]
    }
   ],
   "source": [
    "# Obtenemos la matriz de confusión\n",
    "con = tf.confusion_matrix(labels=y_test_cls, predictions=predictions_mlp )\n",
    "sess = tf.Session()\n",
    "with sess.as_default():\n",
    "        print(sess.run(con))"
   ]
  },
  {
   "cell_type": "markdown",
   "metadata": {},
   "source": [
    "## Red neuronal sobre bases de datos TEST"
   ]
  },
  {
   "cell_type": "code",
   "execution_count": 48,
   "metadata": {},
   "outputs": [],
   "source": [
    "# Para obtener las predicciones eliminamos el diagnostico y el identificado de número\n",
    "\n",
    "x_test_db_smd = db_smd_test.drop(['Diagnosis'], axis=1)\n",
    "x_test_db_hpt = db_hpt_test.drop(['Diagnosis'], axis=1)\n",
    "x_test_db_onc = db_onc_test.drop(['Diagnosis'], axis=1)\n",
    "x_test_db_pti = db_pti_test.drop(['Diagnosis'], axis=1)"
   ]
  },
  {
   "cell_type": "code",
   "execution_count": 49,
   "metadata": {},
   "outputs": [],
   "source": [
    "# Estandarizamos las bases de datos\n",
    "\n",
    "x_test_db_smd = scaler.transform(x_test_db_smd)\n",
    "x_test_db_hpt = scaler.transform(x_test_db_hpt)\n",
    "x_test_db_onc = scaler.transform(x_test_db_onc)\n",
    "x_test_db_pti = scaler.transform(x_test_db_pti)"
   ]
  },
  {
   "cell_type": "code",
   "execution_count": 51,
   "metadata": {},
   "outputs": [
    {
     "name": "stdout",
     "output_type": "stream",
     "text": [
      "[0 0 2 0 0 0 0 0 0 0]\n"
     ]
    }
   ],
   "source": [
    "# Probamos con db_smd\n",
    "predictions_mlp_codif_db_smd = model.predict(x_test_db_smd).round()\n",
    "\n",
    "# Obtenemos las predicciones con valores ya que estaban codificadas\n",
    "predictions_mlp_codif_db_smd = np.array([label.argmax() for label in predictions_mlp_codif_db_smd])\n",
    "\n",
    "print(predictions_mlp_codif_db_smd)"
   ]
  },
  {
   "cell_type": "code",
   "execution_count": 52,
   "metadata": {},
   "outputs": [
    {
     "name": "stdout",
     "output_type": "stream",
     "text": [
      "[0 1 1 2 0 0 1 2 0 0 2 0 1 1 2 2 1 1 1]\n"
     ]
    }
   ],
   "source": [
    "# Probamos con db_hpt\n",
    "predictions_mlp_codif_db_hpt = model.predict(x_test_db_hpt).round()\n",
    "\n",
    "# Obtenemos las predicciones con valores ya que estaban codificadas\n",
    "predictions_mlp_codif_db_hpt = np.array([label.argmax() for label in predictions_mlp_codif_db_hpt])\n",
    "\n",
    "print(predictions_mlp_codif_db_hpt)"
   ]
  },
  {
   "cell_type": "code",
   "execution_count": 53,
   "metadata": {},
   "outputs": [
    {
     "name": "stdout",
     "output_type": "stream",
     "text": [
      "[1 3 1 0 2 2 0 0 0 2 2 1 2 2 2 2 0 1 0]\n"
     ]
    }
   ],
   "source": [
    "# Probamos con x_test_db_onc\n",
    "\n",
    "predictions_mlp_codif_db_onc = model.predict(x_test_db_onc).round()\n",
    "\n",
    "\n",
    "# Obtenemos las predicciones con valores ya que estaban codificadas\n",
    "predictions_mlp_codif_db_onc = np.array([label.argmax() for label in predictions_mlp_codif_db_onc])\n",
    "\n",
    "print(predictions_mlp_codif_db_onc)\n"
   ]
  },
  {
   "cell_type": "code",
   "execution_count": 54,
   "metadata": {},
   "outputs": [
    {
     "name": "stdout",
     "output_type": "stream",
     "text": [
      "[1 3 3 0]\n"
     ]
    }
   ],
   "source": [
    "# Probamos con x_test_db_pti\n",
    "\n",
    "predictions_mlp_codif_db_pti = model.predict(x_test_db_pti).round()\n",
    "\n",
    "\n",
    "# Obtenemos las predicciones con valores ya que estaban codificadas\n",
    "predictions_mlp_codif_db_pti = np.array([label.argmax() for label in predictions_mlp_codif_db_pti])\n",
    "\n",
    "print(predictions_mlp_codif_db_pti)"
   ]
  },
  {
   "cell_type": "markdown",
   "metadata": {},
   "source": [
    "# Etapa 3: Seleccion de caracteristicas"
   ]
  },
  {
   "cell_type": "markdown",
   "metadata": {},
   "source": [
    "## Metodo de filtrado: Prueba F de Fisher (F)"
   ]
  },
  {
   "cell_type": "code",
   "execution_count": 57,
   "metadata": {},
   "outputs": [],
   "source": [
    "#Realizamos las particiones de entrenamiento y test\n",
    "\n",
    "x = db_final.drop(['Diagnosis'],axis=1)\n",
    "y = db_final['Diagnosis']\n",
    "\n",
    "x_train,x_test,y_train,y_test = train_test_split(x,y, test_size=0.2)"
   ]
  },
  {
   "cell_type": "code",
   "execution_count": 58,
   "metadata": {},
   "outputs": [
    {
     "name": "stdout",
     "output_type": "stream",
     "text": [
      "['LEU' 'NEU' 'LIN' 'MON' 'EOS' 'BAS' 'IG' 'ERIT' 'HGB' 'HCT' 'VCM' 'HCM'\n",
      " 'CHCM' 'ERBL' 'PLT' 'MacR' 'MicR' 'NE_R' 'LY_R' 'MO_R' 'EO_R' 'BA_R'\n",
      " 'BA-D#' 'BA-N#' 'HFLCA' 'HFLCP' 'LIN_a' 'LY-WX' 'LY-WY' 'LY-WZ' 'LY-X'\n",
      " 'LY-Y' 'LY-Z' 'MO-WX' 'MO-WY' 'MO-WZ' 'MO-X' 'MO-Y' 'MO-Z' 'NEFSC'\n",
      " 'NESFL' 'NESSC' 'NEU_a' 'NE-WX' 'NE-WY' 'NE-WZ' 'TNC-N' 'WBC-D' 'WBC-N']\n",
      "[ True  True False False False False False False False False False False\n",
      " False False  True False False False False False False False False False\n",
      " False False False False False False False False False False False False\n",
      " False False False  True False False  True  True  True False  True  True\n",
      "  True]\n",
      "['LEU', 'NEU', 'PLT', 'NEFSC', 'NEU_a', 'NE-WX', 'NE-WY', 'TNC-N', 'WBC-D', 'WBC-N']\n"
     ]
    }
   ],
   "source": [
    "#Algoritmo univariante de prueba F\n",
    "\n",
    "n_variables = 10\n",
    "\n",
    "selector_f = SelectKBest(f_classif, k= n_variables)\n",
    "\n",
    "selection_f = selector_f.fit(x_train,y_train)\n",
    "\n",
    "atrib_matrix_f = selection_f.get_support()\n",
    "\n",
    "atrib_names = x_train.columns.values\n",
    "\n",
    "print(atrib_names)\n",
    "print(atrib_matrix_f)\n",
    "\n",
    "selected_atributes_f = []\n",
    "\n",
    "for i in range(len(atrib_names)):\n",
    "    if atrib_matrix_f[i] == True:\n",
    "        selected_atributes_f.append(atrib_names[i])\n",
    "        \n",
    "print(selected_atributes_f)"
   ]
  },
  {
   "cell_type": "markdown",
   "metadata": {},
   "source": [
    "## Metodo de empaquetamiento: Eliminacion recursiva de atributos (ERA)"
   ]
  },
  {
   "cell_type": "code",
   "execution_count": 59,
   "metadata": {},
   "outputs": [
    {
     "name": "stdout",
     "output_type": "stream",
     "text": [
      "['LEU' 'NEU' 'LIN' 'MON' 'EOS' 'BAS' 'IG' 'ERIT' 'HGB' 'HCT' 'VCM' 'HCM'\n",
      " 'CHCM' 'ERBL' 'PLT' 'MacR' 'MicR' 'NE_R' 'LY_R' 'MO_R' 'EO_R' 'BA_R'\n",
      " 'BA-D#' 'BA-N#' 'HFLCA' 'HFLCP' 'LIN_a' 'LY-WX' 'LY-WY' 'LY-WZ' 'LY-X'\n",
      " 'LY-Y' 'LY-Z' 'MO-WX' 'MO-WY' 'MO-WZ' 'MO-X' 'MO-Y' 'MO-Z' 'NEFSC'\n",
      " 'NESFL' 'NESSC' 'NEU_a' 'NE-WX' 'NE-WY' 'NE-WZ' 'TNC-N' 'WBC-D' 'WBC-N']\n",
      "[ True  True  True  True  True  True  True  True  True  True  True  True\n",
      "  True  True  True  True  True  True  True  True  True  True  True  True\n",
      "  True  True  True  True  True  True  True  True  True  True  True  True\n",
      "  True  True  True  True  True  True  True  True  True  True  True  True\n",
      "  True]\n",
      "['LEU', 'NEU', 'LIN', 'MON', 'EOS', 'BAS', 'IG', 'ERIT', 'HGB', 'HCT', 'VCM', 'HCM', 'CHCM', 'ERBL', 'PLT', 'MacR', 'MicR', 'NE_R', 'LY_R', 'MO_R', 'EO_R', 'BA_R', 'BA-D#', 'BA-N#', 'HFLCA', 'HFLCP', 'LIN_a', 'LY-WX', 'LY-WY', 'LY-WZ', 'LY-X', 'LY-Y', 'LY-Z', 'MO-WX', 'MO-WY', 'MO-WZ', 'MO-X', 'MO-Y', 'MO-Z', 'NEFSC', 'NESFL', 'NESSC', 'NEU_a', 'NE-WX', 'NE-WY', 'NE-WZ', 'TNC-N', 'WBC-D', 'WBC-N']\n"
     ]
    }
   ],
   "source": [
    "#Eliminacion recursiva de atributos\n",
    "\n",
    "selector_elim = ExtraTreesClassifier()\n",
    "\n",
    "era = RFE(selector_elim, 49)\n",
    "\n",
    "selection_era = era.fit(x_train, y_train)\n",
    "\n",
    "atrib_matrix_era = selection_era.get_support()\n",
    "\n",
    "atrib_names = x_train.columns.values\n",
    "\n",
    "print(atrib_names)\n",
    "print(atrib_matrix_era)\n",
    "\n",
    "selected_atributes_era = []\n",
    "\n",
    "for i in range(len(atrib_names)):\n",
    "    if atrib_matrix_era[i] == True:\n",
    "        selected_atributes_era.append(atrib_names[i])\n",
    "        \n",
    "print(selected_atributes_era)"
   ]
  },
  {
   "cell_type": "markdown",
   "metadata": {},
   "source": [
    "# Bases de datos tras seleccion de caracteristicas (F y ERA)"
   ]
  },
  {
   "cell_type": "code",
   "execution_count": 70,
   "metadata": {},
   "outputs": [
    {
     "name": "stdout",
     "output_type": "stream",
     "text": [
      "<class 'pandas.core.frame.DataFrame'>\n",
      "Int64Index: 707 entries, 0 to 197\n",
      "Data columns (total 10 columns):\n",
      "LEU      707 non-null float64\n",
      "NEU      707 non-null float64\n",
      "PLT      707 non-null float64\n",
      "NEFSC    707 non-null float64\n",
      "NEU_a    707 non-null float64\n",
      "NE-WX    707 non-null int64\n",
      "NE-WY    707 non-null int64\n",
      "TNC-N    707 non-null float64\n",
      "WBC-D    707 non-null float64\n",
      "WBC-N    707 non-null float64\n",
      "dtypes: float64(8), int64(2)\n",
      "memory usage: 60.8 KB\n"
     ]
    }
   ],
   "source": [
    "#Base de datos tras F de Fisher\n",
    "\n",
    "x = db_final.drop(['Diagnosis'],axis=1)\n",
    "x_f = x[selected_atributes_f]\n",
    "y_f = db_final['Diagnosis']\n",
    "y_vals_f = np.eye(len(set(y_f)))[y_f]\n",
    "\n",
    "x_f.info()\n",
    "x_train_f,x_test_f,y_train_f,y_test_f = train_test_split(x_f,y_vals_f, test_size=0.2)"
   ]
  },
  {
   "cell_type": "code",
   "execution_count": 71,
   "metadata": {},
   "outputs": [
    {
     "name": "stdout",
     "output_type": "stream",
     "text": [
      "<class 'pandas.core.frame.DataFrame'>\n",
      "Int64Index: 707 entries, 0 to 197\n",
      "Data columns (total 49 columns):\n",
      "LEU      707 non-null float64\n",
      "NEU      707 non-null float64\n",
      "LIN      707 non-null float64\n",
      "MON      707 non-null float64\n",
      "EOS      707 non-null float64\n",
      "BAS      707 non-null float64\n",
      "IG       707 non-null float64\n",
      "ERIT     707 non-null float64\n",
      "HGB      707 non-null float64\n",
      "HCT      707 non-null float64\n",
      "VCM      707 non-null float64\n",
      "HCM      707 non-null float64\n",
      "CHCM     707 non-null float64\n",
      "ERBL     707 non-null float64\n",
      "PLT      707 non-null float64\n",
      "MacR     707 non-null float64\n",
      "MicR     707 non-null float64\n",
      "NE_R     707 non-null float64\n",
      "LY_R     707 non-null float64\n",
      "MO_R     707 non-null float64\n",
      "EO_R     707 non-null float64\n",
      "BA_R     707 non-null float64\n",
      "BA-D#    707 non-null float64\n",
      "BA-N#    707 non-null float64\n",
      "HFLCA    707 non-null float64\n",
      "HFLCP    707 non-null float64\n",
      "LIN_a    707 non-null float64\n",
      "LY-WX    707 non-null int64\n",
      "LY-WY    707 non-null int64\n",
      "LY-WZ    707 non-null int64\n",
      "LY-X     707 non-null float64\n",
      "LY-Y     707 non-null float64\n",
      "LY-Z     707 non-null float64\n",
      "MO-WX    707 non-null int64\n",
      "MO-WY    707 non-null int64\n",
      "MO-WZ    707 non-null int64\n",
      "MO-X     707 non-null float64\n",
      "MO-Y     707 non-null float64\n",
      "MO-Z     707 non-null float64\n",
      "NEFSC    707 non-null float64\n",
      "NESFL    707 non-null float64\n",
      "NESSC    707 non-null float64\n",
      "NEU_a    707 non-null float64\n",
      "NE-WX    707 non-null int64\n",
      "NE-WY    707 non-null int64\n",
      "NE-WZ    707 non-null int64\n",
      "TNC-N    707 non-null float64\n",
      "WBC-D    707 non-null float64\n",
      "WBC-N    707 non-null float64\n",
      "dtypes: float64(40), int64(9)\n",
      "memory usage: 276.2 KB\n"
     ]
    }
   ],
   "source": [
    "#Base de datos tras ERA\n",
    "x = db_final.drop(['Diagnosis'],axis=1)\n",
    "x_era = x[selected_atributes_era]\n",
    "y_era = db_final['Diagnosis']\n",
    "y_vals_era = np.eye(len(set(y_era)))[y_era]\n",
    "\n",
    "x_era.info()\n",
    "x_train_era,x_test_era,y_train_era,y_test_era = train_test_split(x_era,y_vals_era, test_size=0.2)"
   ]
  },
  {
   "cell_type": "markdown",
   "metadata": {},
   "source": [
    "## Seleccion de caracteristicas : Regresion logistica"
   ]
  },
  {
   "cell_type": "code",
   "execution_count": 103,
   "metadata": {},
   "outputs": [],
   "source": [
    "#Crear modelo\n",
    "x = tf.placeholder(tf.float32, [None, 49])\n",
    "y_true = tf.placeholder(tf.float32, [None, 4])\n",
    "y_true_cls = tf.placeholder(tf.int64, [None])\n",
    "w = tf.Variable(tf.zeros([49, 4]))\n",
    "b = tf.Variable(tf.zeros([4]))\n",
    "logits = tf.matmul(x, w) + b\n",
    "y_pred = tf.nn.softmax(logits)\n",
    "y_pred_cls = tf.argmax(y_pred, axis=1) #axis=dimension\n",
    "\n",
    "y_test_cls_f = np.array([label.argmax() for label in y_test_f])\n",
    "y_test_cls_era = np.array([label.argmax() for label in y_test_era])"
   ]
  },
  {
   "cell_type": "code",
   "execution_count": null,
   "metadata": {},
   "outputs": [],
   "source": [
    "cross_entropy = tf.nn.softmax_cross_entropy_with_logits_v2(logits=logits,labels=y_true)\n",
    "#cost = tf.reduce_mean(cross_entropy)\n",
    "optimizer = tf.train.GradientDescentOptimizer(learning_rate=0.001).minimize(cross_entropy)\n",
    "correct_prediction = tf.equal(y_pred_cls, y_true_cls)\n",
    "accuracy = tf.reduce_mean(tf.cast(correct_prediction, tf.float32))"
   ]
  },
  {
   "cell_type": "code",
   "execution_count": 96,
   "metadata": {},
   "outputs": [],
   "source": [
    "#Entrenamiento con F de Fisher\n",
    "session = tf.Session()\n",
    "session.run(tf.global_variables_initializer())\n",
    "def optimize(num_iterations):\n",
    "    for i in range(num_iterations):\n",
    "        \n",
    "        feed_dict_train = {x: x_train_f, y_true: y_train_f}\n",
    "\n",
    "        session.run(optimizer, feed_dict=feed_dict_train)\n"
   ]
  },
  {
   "cell_type": "code",
   "execution_count": 97,
   "metadata": {},
   "outputs": [],
   "source": [
    "#Validacion con F de Fisher\n",
    "classes = ['SMD','Hepatópatas','Oncológicos','PTI']\n",
    "\n",
    "feed_dict_test = {x: x_test_f,\n",
    "                  y_true: y_test_f,\n",
    "                  y_true_cls: y_test_cls_f}\n",
    "\n",
    "def print_accuracy():\n",
    "    # Use TensorFlow to compute the accuracy.\n",
    "    acc = session.run(accuracy, feed_dict=feed_dict_test)\n",
    "\n",
    "    # Print the accuracy.\n",
    "    print(\"Accuracy on test-set: {0:.1%}\".format(acc))\n",
    "\n",
    "def plot_confusion_matrix(normalize=False):\n",
    "\n",
    "    # Compute confusion matrix\n",
    "    # Only use the labels that appear in the data\n",
    "    #classes = classes[unique_labels(y_true, y_pred)]\n",
    "    \n",
    "    # Get the true classifications for the test-set.\n",
    "    cls_true = y_test_cls_f\n",
    "\n",
    "    # Get the predicted classifications for the test-set.\n",
    "    cls_pred = session.run(y_pred_cls, feed_dict=feed_dict_test)\n",
    "\n",
    "    # Get the confusion matrix using sklearn.\n",
    "    cm = confusion_matrix(y_true=cls_true,\n",
    "                          y_pred=cls_pred)\n",
    "\n",
    "    # Print the confusion matrix as text.\n",
    "    print(cm)\n",
    "    \n",
    "    fig, ax = plt.subplots()\n",
    "    im = ax.imshow(cm, interpolation='nearest', cmap=plt.cm.Blues)\n",
    "    ax.figure.colorbar(im, ax=ax)\n",
    "    # We want to show all ticks...\n",
    "    ax.set(xticks=np.arange(cm.shape[1]),\n",
    "           yticks=np.arange(cm.shape[0]),\n",
    "           # ... and label them with the respective list entries\n",
    "           xticklabels=classes, yticklabels=classes,\n",
    "           title='Matriz de confusión',\n",
    "           ylabel='True label',\n",
    "           xlabel='Predicted label')\n",
    "\n",
    "    # Rotate the tick labels and set their alignment.\n",
    "    plt.setp(ax.get_xticklabels(), rotation=45, ha=\"right\",\n",
    "             rotation_mode=\"anchor\")\n",
    "\n",
    "    # Loop over data dimensions and create text annotations.\n",
    "    fmt = '.2f' if normalize else 'd'\n",
    "    thresh = cm.max() / 2.\n",
    "    for i in range(cm.shape[0]):\n",
    "        for j in range(cm.shape[1]):\n",
    "            ax.text(j, i, format(cm[i, j], fmt),\n",
    "                    ha=\"center\", va=\"center\",\n",
    "                    color=\"white\" if cm[i, j] > thresh else \"black\")\n",
    "    fig.tight_layout()\n",
    "    return ax"
   ]
  },
  {
   "cell_type": "code",
   "execution_count": 99,
   "metadata": {},
   "outputs": [
    {
     "ename": "ValueError",
     "evalue": "Cannot feed value of shape (565, 10) for Tensor 'Placeholder_20:0', which has shape '(?, 49)'",
     "output_type": "error",
     "traceback": [
      "\u001b[0;31m---------------------------------------------------------------------------\u001b[0m",
      "\u001b[0;31mValueError\u001b[0m                                Traceback (most recent call last)",
      "\u001b[0;32m<ipython-input-99-eb9c0d9f7f58>\u001b[0m in \u001b[0;36m<module>\u001b[0;34m\u001b[0m\n\u001b[0;32m----> 1\u001b[0;31m \u001b[0moptimize\u001b[0m\u001b[0;34m(\u001b[0m\u001b[0mnum_iterations\u001b[0m\u001b[0;34m=\u001b[0m\u001b[0;36m1000\u001b[0m\u001b[0;34m)\u001b[0m\u001b[0;34m\u001b[0m\u001b[0;34m\u001b[0m\u001b[0m\n\u001b[0m\u001b[1;32m      2\u001b[0m \u001b[0mplot_confusion_matrix\u001b[0m\u001b[0;34m(\u001b[0m\u001b[0;34m)\u001b[0m\u001b[0;34m\u001b[0m\u001b[0;34m\u001b[0m\u001b[0m\n\u001b[1;32m      3\u001b[0m \u001b[0mprint_accuracy\u001b[0m\u001b[0;34m(\u001b[0m\u001b[0;34m)\u001b[0m\u001b[0;34m\u001b[0m\u001b[0;34m\u001b[0m\u001b[0m\n",
      "\u001b[0;32m<ipython-input-96-663e31eecf3c>\u001b[0m in \u001b[0;36moptimize\u001b[0;34m(num_iterations)\u001b[0m\n\u001b[1;32m      7\u001b[0m         \u001b[0mfeed_dict_train\u001b[0m \u001b[0;34m=\u001b[0m \u001b[0;34m{\u001b[0m\u001b[0mx\u001b[0m\u001b[0;34m:\u001b[0m \u001b[0mx_train_f\u001b[0m\u001b[0;34m,\u001b[0m \u001b[0my_true\u001b[0m\u001b[0;34m:\u001b[0m \u001b[0my_train_f\u001b[0m\u001b[0;34m}\u001b[0m\u001b[0;34m\u001b[0m\u001b[0;34m\u001b[0m\u001b[0m\n\u001b[1;32m      8\u001b[0m \u001b[0;34m\u001b[0m\u001b[0m\n\u001b[0;32m----> 9\u001b[0;31m         \u001b[0msession\u001b[0m\u001b[0;34m.\u001b[0m\u001b[0mrun\u001b[0m\u001b[0;34m(\u001b[0m\u001b[0moptimizer\u001b[0m\u001b[0;34m,\u001b[0m \u001b[0mfeed_dict\u001b[0m\u001b[0;34m=\u001b[0m\u001b[0mfeed_dict_train\u001b[0m\u001b[0;34m)\u001b[0m\u001b[0;34m\u001b[0m\u001b[0;34m\u001b[0m\u001b[0m\n\u001b[0m",
      "\u001b[0;32m~/.conda/envs/optimization/lib/python3.7/site-packages/tensorflow_core/python/client/session.py\u001b[0m in \u001b[0;36mrun\u001b[0;34m(self, fetches, feed_dict, options, run_metadata)\u001b[0m\n\u001b[1;32m    958\u001b[0m     \u001b[0;32mtry\u001b[0m\u001b[0;34m:\u001b[0m\u001b[0;34m\u001b[0m\u001b[0;34m\u001b[0m\u001b[0m\n\u001b[1;32m    959\u001b[0m       result = self._run(None, fetches, feed_dict, options_ptr,\n\u001b[0;32m--> 960\u001b[0;31m                          run_metadata_ptr)\n\u001b[0m\u001b[1;32m    961\u001b[0m       \u001b[0;32mif\u001b[0m \u001b[0mrun_metadata\u001b[0m\u001b[0;34m:\u001b[0m\u001b[0;34m\u001b[0m\u001b[0;34m\u001b[0m\u001b[0m\n\u001b[1;32m    962\u001b[0m         \u001b[0mproto_data\u001b[0m \u001b[0;34m=\u001b[0m \u001b[0mtf_session\u001b[0m\u001b[0;34m.\u001b[0m\u001b[0mTF_GetBuffer\u001b[0m\u001b[0;34m(\u001b[0m\u001b[0mrun_metadata_ptr\u001b[0m\u001b[0;34m)\u001b[0m\u001b[0;34m\u001b[0m\u001b[0;34m\u001b[0m\u001b[0m\n",
      "\u001b[0;32m~/.conda/envs/optimization/lib/python3.7/site-packages/tensorflow_core/python/client/session.py\u001b[0m in \u001b[0;36m_run\u001b[0;34m(self, handle, fetches, feed_dict, options, run_metadata)\u001b[0m\n\u001b[1;32m   1157\u001b[0m                 \u001b[0;34m'Cannot feed value of shape %r for Tensor %r, '\u001b[0m\u001b[0;34m\u001b[0m\u001b[0;34m\u001b[0m\u001b[0m\n\u001b[1;32m   1158\u001b[0m                 \u001b[0;34m'which has shape %r'\u001b[0m \u001b[0;34m%\u001b[0m\u001b[0;34m\u001b[0m\u001b[0;34m\u001b[0m\u001b[0m\n\u001b[0;32m-> 1159\u001b[0;31m                 (np_val.shape, subfeed_t.name, str(subfeed_t.get_shape())))\n\u001b[0m\u001b[1;32m   1160\u001b[0m           \u001b[0;32mif\u001b[0m \u001b[0;32mnot\u001b[0m \u001b[0mself\u001b[0m\u001b[0;34m.\u001b[0m\u001b[0mgraph\u001b[0m\u001b[0;34m.\u001b[0m\u001b[0mis_feedable\u001b[0m\u001b[0;34m(\u001b[0m\u001b[0msubfeed_t\u001b[0m\u001b[0;34m)\u001b[0m\u001b[0;34m:\u001b[0m\u001b[0;34m\u001b[0m\u001b[0;34m\u001b[0m\u001b[0m\n\u001b[1;32m   1161\u001b[0m             \u001b[0;32mraise\u001b[0m \u001b[0mValueError\u001b[0m\u001b[0;34m(\u001b[0m\u001b[0;34m'Tensor %s may not be fed.'\u001b[0m \u001b[0;34m%\u001b[0m \u001b[0msubfeed_t\u001b[0m\u001b[0;34m)\u001b[0m\u001b[0;34m\u001b[0m\u001b[0;34m\u001b[0m\u001b[0m\n",
      "\u001b[0;31mValueError\u001b[0m: Cannot feed value of shape (565, 10) for Tensor 'Placeholder_20:0', which has shape '(?, 49)'"
     ]
    }
   ],
   "source": [
    "optimize(num_iterations=1000)\n",
    "plot_confusion_matrix()\n",
    "print_accuracy()\n"
   ]
  },
  {
   "cell_type": "code",
   "execution_count": null,
   "metadata": {},
   "outputs": [],
   "source": []
  }
 ],
 "metadata": {
  "kernelspec": {
   "display_name": "Python 3",
   "language": "python",
   "name": "python3"
  },
  "language_info": {
   "codemirror_mode": {
    "name": "ipython",
    "version": 3
   },
   "file_extension": ".py",
   "mimetype": "text/x-python",
   "name": "python",
   "nbconvert_exporter": "python",
   "pygments_lexer": "ipython3",
   "version": "3.7.4"
  }
 },
 "nbformat": 4,
 "nbformat_minor": 2
}
